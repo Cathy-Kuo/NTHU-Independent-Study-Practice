{
 "cells": [
  {
   "cell_type": "code",
   "execution_count": 2,
   "metadata": {},
   "outputs": [
    {
     "ename": "ModuleNotFoundError",
     "evalue": "No module named 'torch'",
     "output_type": "error",
     "traceback": [
      "\u001b[0;31m---------------------------------------------------------------------------\u001b[0m",
      "\u001b[0;31mModuleNotFoundError\u001b[0m                       Traceback (most recent call last)",
      "\u001b[0;32m<ipython-input-2-4d523c1c5484>\u001b[0m in \u001b[0;36m<module>\u001b[0;34m\u001b[0m\n\u001b[0;32m----> 1\u001b[0;31m \u001b[0;32mimport\u001b[0m \u001b[0mtorch\u001b[0m\u001b[0;34m\u001b[0m\u001b[0;34m\u001b[0m\u001b[0m\n\u001b[0m\u001b[1;32m      2\u001b[0m \u001b[0;32mimport\u001b[0m \u001b[0mtorch\u001b[0m\u001b[0;34m.\u001b[0m\u001b[0mnn\u001b[0m \u001b[0;32mas\u001b[0m \u001b[0mnn\u001b[0m\u001b[0;34m\u001b[0m\u001b[0;34m\u001b[0m\u001b[0m\n\u001b[1;32m      3\u001b[0m \u001b[0;32mimport\u001b[0m \u001b[0mtorch\u001b[0m\u001b[0;34m.\u001b[0m\u001b[0mnn\u001b[0m\u001b[0;34m.\u001b[0m\u001b[0mfunctional\u001b[0m \u001b[0;32mas\u001b[0m \u001b[0mF\u001b[0m\u001b[0;34m\u001b[0m\u001b[0;34m\u001b[0m\u001b[0m\n\u001b[1;32m      4\u001b[0m \u001b[0;32mimport\u001b[0m \u001b[0mgym\u001b[0m\u001b[0;34m\u001b[0m\u001b[0;34m\u001b[0m\u001b[0m\n\u001b[1;32m      5\u001b[0m \u001b[0;32mfrom\u001b[0m \u001b[0mcollections\u001b[0m \u001b[0;32mimport\u001b[0m \u001b[0mnamedtuple\u001b[0m\u001b[0;34m\u001b[0m\u001b[0;34m\u001b[0m\u001b[0m\n",
      "\u001b[0;31mModuleNotFoundError\u001b[0m: No module named 'torch'"
     ]
    }
   ],
   "source": [
    "import torch\n",
    "import torch.nn as nn\n",
    "import torch.nn.functional as F\n",
    "import gym\n",
    "from collections import namedtuple\n",
    "import numpy as np\n",
    "import matplotlib\n",
    "from itertools import count\n",
    "import random\n",
    "import math\n",
    "import matplotlib.pyplot as plt\n",
    "is_ipython = 'inline' in matplotlib.get_backend()\n",
    "if is_ipython:\n",
    "    from IPython import display\n"
   ]
  },
  {
   "cell_type": "code",
   "execution_count": 24,
   "metadata": {},
   "outputs": [],
   "source": [
    "replay = namedtuple('replay',('state','action','reward','next_state'))\n",
    "\n",
    "class Replay_buffer():\n",
    "    \n",
    "    def __init__(self , buffer_size):\n",
    "        self.buffer_size = buffer_size\n",
    "        self.buffer = np.zeros(  [buffer_size] , dtype = replay)\n",
    "        self.index = 0\n",
    "        self.cur_size = 0\n",
    "        \n",
    "    def push(self,experience):\n",
    "        self.buffer[self.index] = experience\n",
    "        self.index = (self.index+1)%self.buffer_size\n",
    "        if self.cur_size < self.buffer_size:\n",
    "            self.cur_size += 1\n",
    "    def sample(self,batch_size):\n",
    "        sample_index = np.random.choice(np.arange(self.cur_size),size=batch_size,replace=False)\n",
    "        return self.buffer[sample_index]\n",
    "\n",
    "    \n",
    "class DQN(nn.Module): #Shallow QN\n",
    "    \n",
    "    def __init__(self):\n",
    "        super(DQN,self).__init__()\n",
    "        self.L1 = nn.Linear(4,32)\n",
    "        self.out = nn.Linear(32,2)\n",
    "    \n",
    "    def forward(self,x):\n",
    "        x = F.relu(self.L1(x))\n",
    "        x = self.out(x)\n",
    "        return x"
   ]
  },
  {
   "cell_type": "code",
   "execution_count": 25,
   "metadata": {
    "scrolled": true
   },
   "outputs": [
    {
     "name": "stderr",
     "output_type": "stream",
     "text": [
      "E:\\anaconda\\lib\\site-packages\\gym\\envs\\registration.py:14: PkgResourcesDeprecationWarning: Parameters to load are deprecated.  Call .resolve and .require separately.\n",
      "  result = entry_point.load(False)\n"
     ]
    },
    {
     "name": "stdout",
     "output_type": "stream",
     "text": [
      "\u001b[33mWARN: gym.spaces.Box autodetected dtype as <class 'numpy.float32'>. Please provide explicit dtype.\u001b[0m\n"
     ]
    }
   ],
   "source": [
    "num_epsoide = 800\n",
    "\n",
    "network = DQN()\n",
    "target_network = DQN()\n",
    "target_network.load_state_dict(network.state_dict())\n",
    "loss_fn = torch.nn.MSELoss(size_average=True)\n",
    "buffer = Replay_buffer(10000)\n",
    "EPS_START = 0.999\n",
    "EPS_END = 0.05\n",
    "EPS_DECAY = 1000\n",
    "steps_done = 0\n",
    "batch_size = 128\n",
    "use_cuda = torch.cuda.is_available()\n",
    "use_cuda = False\n",
    "optimizer = torch.optim.Adam(network.parameters())\n",
    "\n",
    "\n",
    "if use_cuda:\n",
    "    network = network.cuda()\n",
    "    target_network = target_network.cuda()\n",
    "    \n",
    "env = gym.make('CartPole-v0').unwrapped\n",
    "reward_history = []\n",
    "try:\n",
    "    for e in range(num_epsoide):\n",
    "        state = env.reset()\n",
    "        state = torch.tensor(state).float()\n",
    "        DONE = False\n",
    "        acc_reward = 0\n",
    "        while DONE == False:\n",
    "            if e % 50 == 0 :\n",
    "                env.render()\n",
    "            eps_threshold = EPS_END + \\\n",
    "            (EPS_START - EPS_END) * math.exp(-1. * steps_done / EPS_DECAY)\n",
    "\n",
    "            if use_cuda:\n",
    "                state = state.cuda()\n",
    "            \n",
    "            if random.random() >= eps_threshold:\n",
    "                action = torch.argmax(network(state))\n",
    "            else:\n",
    "                action = torch.tensor(env.action_space.sample(),dtype=torch.long)\n",
    "            next_state , reward , done , _ = env.step(action.item())\n",
    "            steps_done += 1\n",
    "            acc_reward += reward\n",
    "            reward = reward - abs(next_state[0])\n",
    "            next_state = torch.tensor(next_state).float()\n",
    "            if done == True or acc_reward >= 200 :\n",
    "                DONE = True\n",
    "                next_state = None\n",
    "                reward = -10.0\n",
    "            experience = replay(state , torch.tensor([action]).long(), \\\n",
    "                                torch.tensor([reward]) , next_state)\n",
    "            buffer.push(experience)\n",
    "            state = next_state\n",
    "        \n",
    "        \n",
    "        \n",
    "            if buffer.cur_size >= batch_size:\n",
    "                batch = buffer.sample(batch_size=batch_size)\n",
    "                batch = replay(*zip(*batch))\n",
    "\n",
    "                non_final_mask = torch.tensor(tuple(map(lambda s: s is not None,\n",
    "                                              batch.next_state)), dtype=torch.uint8)\n",
    "\n",
    "                non_final_next_state = torch.cat([s for\\\n",
    "                                                  s in batch.next_state if s is not None]).view(-1,4)\n",
    "                \n",
    "                state_batch = torch.cat(batch.state).view(-1,4)\n",
    "                reward_batch = torch.cat(batch.reward)\n",
    "                action_batch = torch.cat(batch.action).view(-1,1)\n",
    "                if use_cuda:\n",
    "                    state_batch = state_batch.cuda()\n",
    "                    reward_batch = reward_batch.cuda()\n",
    "                    action_batch = action_batch.cuda()\n",
    "                    non_final_next_state = non_final_next_state.cuda()\n",
    "                next_state_values = torch.zeros(batch_size)\n",
    "                next_state_values[non_final_mask] = target_network(non_final_next_state).max(1)[0]\n",
    "                expected_state_values = next_state_values + reward_batch.view(-1)\n",
    "                expected_state_values = expected_state_values\n",
    "                state_action_value = network(state_batch).gather(1,action_batch).view(-1)\n",
    "                expected_state_values = expected_state_values.detach()\n",
    "                \n",
    "                \n",
    "                loss = loss_fn(state_action_value,expected_state_values)\n",
    "\n",
    "                optimizer.zero_grad()\n",
    "                loss.backward()\n",
    "                optimizer.step()\n",
    "                if e %20 == 0:\n",
    "                    target_network.load_state_dict(network.state_dict())\n",
    "        reward_history.append(acc_reward)\n",
    "        \n",
    "finally:\n",
    "    env.close()"
   ]
  },
  {
   "cell_type": "code",
   "execution_count": 32,
   "metadata": {},
   "outputs": [
    {
     "data": {
      "text/plain": [
       "[<matplotlib.lines.Line2D at 0x2672086f048>]"
      ]
     },
     "execution_count": 32,
     "metadata": {},
     "output_type": "execute_result"
    },
    {
     "data": {
      "image/png": "[encoded data removed]",
      "text/plain": [
       "<Figure size 432x288 with 1 Axes>"
      ]
     },
     "metadata": {
      "needs_background": "light"
     },
     "output_type": "display_data"
    }
   ],
   "source": [
    "import matplotlib.pyplot as plt\n",
    "plt.plot(reward_history)"
   ]
  },
  {
   "cell_type": "code",
   "execution_count": 31,
   "metadata": {},
   "outputs": [
    {
     "name": "stdout",
     "output_type": "stream",
     "text": [
      "\u001b[33mWARN: gym.spaces.Box autodetected dtype as <class 'numpy.float32'>. Please provide explicit dtype.\u001b[0m\n",
      "done\n"
     ]
    }
   ],
   "source": [
    "from PIL import Image\n",
    "try:\n",
    "    env = gym.make('CartPole-v0').unwrapped\n",
    "    frames = []\n",
    "    DONE = False\n",
    "    state = env.reset()\n",
    "    state = torch.tensor(state).float()\n",
    "    if use_cuda:\n",
    "        state = torch.tensor(state).float()\n",
    "    for t in count():\n",
    "        env.render()\n",
    "        frames.append(Image.fromarray(env.render(mode='rgb_array')))\n",
    "        action = torch.argmax(network(state))\n",
    "        next_state , reward , done , _ = env.step(action.item())\n",
    "        state = torch.tensor(next_state).float()\n",
    "        if use_cuda:\n",
    "            state = state.cuda()\n",
    "        if t >= 200:\n",
    "            print('done')\n",
    "            break\n",
    "finally:\n",
    "    env.close()\n",
    "    #with open('play_result.gif','wb') as f:\n",
    "    #    im = Image.new('RGB', frames[0].size)\n",
    "    #    im.save(f, save_all=True, append_images=frames)\n"
   ]
  }
 ],
 "metadata": {
  "kernelspec": {
   "display_name": "Python 3",
   "language": "python",
   "name": "python3"
  },
  "language_info": {
   "codemirror_mode": {
    "name": "ipython",
    "version": 3
   },
   "file_extension": ".py",
   "mimetype": "text/x-python",
   "name": "python",
   "nbconvert_exporter": "python",
   "pygments_lexer": "ipython3",
   "version": "3.7.3"
  }
 },
 "nbformat": 4,
 "nbformat_minor": 2
}
