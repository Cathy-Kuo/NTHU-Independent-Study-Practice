{
 "cells": [
  {
   "cell_type": "markdown",
   "metadata": {},
   "source": [
    "# BeautifulSoup 練習"
   ]
  },
  {
   "cell_type": "code",
   "execution_count": 1,
   "metadata": {},
   "outputs": [],
   "source": [
    "from bs4 import BeautifulSoup\n",
    "from urllib.request import urlopen\n",
    "url = \"http://yahoo.com.tw\"\n",
    "html = urlopen(url).read()\n",
    "soup = BeautifulSoup(html,\"html.parser\") "
   ]
  },
  {
   "cell_type": "code",
   "execution_count": 2,
   "metadata": {},
   "outputs": [
    {
     "data": {
      "text/plain": [
       "<p class=\"MouseOver-TextDecoration My-0 Cur-p\">又倒一家 第3大外送平台收攤</p>"
      ]
     },
     "execution_count": 2,
     "metadata": {},
     "output_type": "execute_result"
    }
   ],
   "source": [
    "soup.p"
   ]
  },
  {
   "cell_type": "code",
   "execution_count": 3,
   "metadata": {},
   "outputs": [
    {
     "data": {
      "text/plain": [
       "<p class=\"MouseOver-TextDecoration My-0 Cur-p\">又倒一家 第3大外送平台收攤</p>"
      ]
     },
     "execution_count": 3,
     "metadata": {},
     "output_type": "execute_result"
    }
   ],
   "source": [
    "soup.find('p')"
   ]
  },
  {
   "cell_type": "code",
   "execution_count": 4,
   "metadata": {},
   "outputs": [
    {
     "data": {
      "text/plain": [
       "[<p class=\"MouseOver-TextDecoration My-0 Cur-p\">震撼彈又一發！洪慈庸宣布退黨</p>,\n",
       " <p class=\"MouseOver-TextDecoration My-0 Cur-p Ov-h Wob-ba Mx-12\">台南大雨狂炸 大學校園慘成大型泳池</p>,\n",
       " <p class=\"MouseOver-TextDecoration My-0 Cur-p Ov-h Wob-ba Mx-12\">撞死謝政鵬女友 累犯司機判賠850萬</p>,\n",
       " <p class=\"My-0 Ell\"><span class=\"Va-tt\">「但我自己勝率最高」，指郭是美日中都可接受的人選</span></p>,\n",
       " <p class=\"My-0 Ell\"><span class=\"Va-tt\">昨晚在臉書以「溫良恭儉再也不讓」為題發文，</span></p>,\n",
       " <p class=\"My-0 Ell\"><span class=\"Va-tt\">上面有4個哥哥，出身知名牛排餐廳，為圓連鎖餐飲</span></p>,\n",
       " <p class=\"My-0 Ell\"><span class=\"Va-tt\">外送平台告知是惡作劇，讓店家超傻眼，感歎為方便</span></p>,\n",
       " <p class=\"My-0 Ell\"><span class=\"Va-tt\">論壇／香港未來情勢恐不太樂觀，港人的抗爭悲壯且渺小</span></p>,\n",
       " <p class=\"MouseOver-TextDecoration My-0 Cur-p\">戰紐西蘭飆35分 NBA教頭大讚</p>,\n",
       " <p class=\"MouseOver-TextDecoration My-0 Cur-p Ov-h Wob-ba Mx-12\">「曾懷疑自己」岳東華找回職棒節奏</p>,\n",
       " <p class=\"MouseOver-TextDecoration My-0 Cur-p Ov-h Wob-ba Mx-12\">泰羽賽逆轉奪冠 周天成入選5大好球　</p>,\n",
       " <p class=\"My-0 Ell\"><span class=\"Va-tt\">洋基打線1局下就用全壘打寫紀錄，敲出2轟攻下4分...</span></p>,\n",
       " <p class=\"My-0 Ell\"><span class=\"Va-tt\">于孟馗走到他後方似乎想致意，但林哲瑄卻拍了拍自己的左肩，</span></p>,\n",
       " <p class=\"My-0 Ell\"><span class=\"Va-tt\">一吐前一戰遭洋基完封怨氣，全隊敲出21安，每人皆有至少1支安打</span></p>,\n",
       " <p class=\"My-0 Ell\"><span class=\"Va-tt\">「15年前我在這裡乞討剩飯，如見我帶著...</span></p>,\n",
       " <p class=\"My-0 Ell\"><span class=\"Va-tt\">紅人新秀的驚人表現也改寫了聯盟紀錄，教頭貝爾相當滿意</span></p>,\n",
       " <p class=\"MouseOver-TextDecoration My-0 Cur-p\">起步就撞 蕭敬騰千萬超跑凹了</p>,\n",
       " <p class=\"MouseOver-TextDecoration My-0 Cur-p Ov-h Wob-ba Mx-12\">閃爆！為愛妻慶生 周董嘴對嘴曬恩愛</p>,\n",
       " <p class=\"MouseOver-TextDecoration My-0 Cur-p Ov-h Wob-ba Mx-12\">張棋惠低潮期 吃過期便當果腹</p>,\n",
       " <p class=\"My-0 Ell\"><span class=\"Va-tt\">婚紗照中夫妻倆彼此相視微笑，新娘一襲透明婚紗...</span></p>,\n",
       " <p class=\"My-0 Ell\"><span class=\"Va-tt\">把車停靠路邊，鬼祟地走入花圃左顧右盼，褪去褲子便溺</span></p>,\n",
       " <p class=\"My-0 Ell\"><span class=\"Va-tt\">常告訴自己要忍住脾氣，認為學會看財務報表很重要</span></p>,\n",
       " <p class=\"My-0 Ell\"><span class=\"Va-tt\">上映首日，知名電影網站「豆瓣」只評3.4分，逾60%的人給一星</span></p>,\n",
       " <p class=\"My-0 Ell\"><span class=\"Va-tt\">黃曉明和Angelababy最近頻傳離婚，日前Angelababy雖然出面反駁，不過這回黃曉明又被爆料和網紅上夜店喝酒，甚至出現疑似親臉頰的親密舉動，再度爆發婚變消息，目前夫妻倆都沒有回應。</span></p>,\n",
       " <p class=\"MouseOver-TextDecoration My-0 Cur-p\">刮刮樂中獎超爽！險虧1萬GG</p>,\n",
       " <p class=\"MouseOver-TextDecoration My-0 Cur-p Ov-h Wob-ba Mx-12\">吃當紅麵店 見老闆一動作心涼</p>,\n",
       " <p class=\"MouseOver-TextDecoration My-0 Cur-p Ov-h Wob-ba Mx-12\">排出1條街 日本人竟全為這杯</p>,\n",
       " <p class=\"My-0 Ell\"><span class=\"Va-tt\">看呆了，白色1張紋路超密集，重達14公斤，準備脫皮恐耗時費力</span></p>,\n",
       " <p class=\"My-0 Ell\"><span class=\"Va-tt\">原本想請新郎小叔假扮「新郎」，結果獨自穿白紗向賓客道歉</span></p>,\n",
       " <p class=\"My-0 Ell\"><span class=\"Va-tt\">興奮把影片po網，女子們笑嘻嘻坐在後座，眼尖網友檢舉，賠900元</span></p>,\n",
       " <p class=\"My-0 Ell\"><span class=\"Va-tt\">4天只喝了1瓶牛奶，不能上廁所、洗澡，事件曝光後獲天價賠償</span></p>,\n",
       " <p class=\"My-0 Ell\"><span class=\"Va-tt\">非常熱門～有整輛巴士墜下山崖，比想像中輕鬆和安全，十分過癮</span></p>,\n",
       " <p class=\"MouseOver-TextDecoration My-0 Cur-p\">不留遺憾 女CEO生完20天飛了</p>,\n",
       " <p class=\"MouseOver-TextDecoration My-0 Cur-p Ov-h Wob-ba Mx-12\">秒分手…情侶首過夜 8驚人事實</p>,\n",
       " <p class=\"MouseOver-TextDecoration My-0 Cur-p Ov-h Wob-ba Mx-12\">66萬台出包瑕疵？日官方急召</p>,\n",
       " <p class=\"My-0 Ell\"><span class=\"Va-tt\">只見蜜臀，粉驚「什麼魔法」38歲隋棠帶著老公二度蜜月</span></p>,\n",
       " <p class=\"My-0 Ell\"><span class=\"Va-tt\">狂！不靠爸媽賺進200億，不到五分鐘就爽賺擠進富士比</span></p>,\n",
       " <p class=\"My-0 Ell\"><span class=\"Va-tt\">經常脹氣，四天上一次大號，檢查三餐完全不合格纖維量</span></p>,\n",
       " <p class=\"My-0 Ell\"><span class=\"Va-tt\">比脫單更重要，聚財富人的眉眼距離寬鼻子要飽滿手凹陷</span></p>,\n",
       " <p class=\"My-0 Ell\"><span class=\"Va-tt\">院長特別推薦，花青素是藍莓20倍之多每天1小匙黑枸杞</span></p>,\n",
       " <p class=\"MouseOver-TextDecoration My-0 Cur-p\">離婚8月有他？楊冪左腿露餡</p>,\n",
       " <p class=\"MouseOver-TextDecoration My-0 Cur-p Ov-h Wob-ba Mx-12\">婆家逼做…新娘婚宴當天想離</p>,\n",
       " <p class=\"MouseOver-TextDecoration My-0 Cur-p Ov-h Wob-ba Mx-12\">國三生「作業」一年大賺28億</p>,\n",
       " <p class=\"My-0 Ell\"><span class=\"Va-tt\">觸景傷情！家裡發生很多事，出道第一個包鑰匙都在，拿出</span></p>,\n",
       " <p class=\"My-0 Ell\"><span class=\"Va-tt\">「不小心」完全沒發現，受傷被丟掉的水果及包裝水果是空</span></p>,\n",
       " <p class=\"My-0 Ell\"><span class=\"Va-tt\">出身單親家庭，沒背景沒財力，提到當年被嫌貧被女友甩了</span></p>,\n",
       " <p class=\"My-0 Ell\"><span class=\"Va-tt\">不像是偽造，但立刻被帶到小房間，要求他指出地圖上的</span></p>,\n",
       " <p class=\"My-0 Ell\"><span class=\"Va-tt\">秒噴錢…網友大悟，千萬注意在路邊停車若不是從內側下</span></p>,\n",
       " <p class=\"Mb-2\">因西南風影響，13日台灣西部近海出現旺盛對流雲系，為中南部帶來強降雨，雖雨勢已經緩和，但隨著第10號「超大型颱風」柯羅莎挾著巨大暴風圈北上，將引進強西南風；天氣職人吳聖宇也提醒，14日台灣中南部恐再現強降雨...</p>,\n",
       " <p class=\"Mb-2\">政治中心／綜合報導 高雄市長韓國瑜12日遭《ETToday》報導，在上班日卻11點43分才離開住所，高雄市政府發言人王淺秋澄清首長的工作是責任制，行政院長蘇貞昌13日嘲諷，首</p>,\n",
       " <p class=\"Mb-2\">31歲大陸女星趙麗穎在2018年10月宣布閃嫁「蘭陵王」馮紹峰，並於今（2019）年3月生下兒子「泡泡」，趙麗穎婚後就鮮少公開露面。不過馮紹峰近日遭爆婚後趁拍戲空檔和一名成都女約</p>,\n",
       " <p class=\"Mb-2\">大陸知名涼茶品牌「王老吉」，當年靠著冠名贊助大陸節目《中國好聲音》一夜走紅，在2015年營收高達人民幣250億（約新台幣1,111億元），但最後卻因為銷售不佳及資金不足等問題面臨</p>,\n",
       " <p class=\"Mb-2\">政治中心／綜合報導 總統蔡英文11日前往新北市蘆洲湧蓮寺參拜，現任湧蓮寺主委、國民黨中評委陳宏昌，致詞時竟公開諷刺韓國瑜「整天打麻將，整天吃喝玩樂，可以抱女人的，可以當總統？</p>,\n",
       " <p class=\"Mb-2\">生活中心／綜合報導 中元普渡要到了，許多家庭都會開始採買零食、餅乾、飲料等，「乖乖」更是陪伴著大部分台灣人的童年，但你有看過這個「迷你版乖乖」嗎？原來這是悠遊卡公司推出的「限</p>,\n",
       " <p class=\"Mb-2\">國際中心／綜合報導 香港反送中抗爭，已持續好幾個禮拜，本月11日警民間再次爆發激烈衝突，有一名女子眼球遭到攻擊，當場血流如注的畫面，衝擊不少關心反送中事件的民眾。然而，抗爭至</p>,\n",
       " <p class=\"Mb-2\">不少家庭父母與兒女相處就像兄妹一樣，甚至會是互開玩笑惡整，不過美國卻有名24歲女子，在一次聖誕節時送給爸爸DNA檢測工具，沒想到意外驗出兩人沒有血緣關係，全家無法置信。 根據外媒</p>,\n",
       " <p class=\"Mb-4 LineClamp-3\">原來這次起火燃燒的鐵皮屋，是既存違建，早就被檢舉很多次，一樓擺放大量油料，二樓木板隔天，都強力助長火勢，劉姓姐妹當時一起逃到角落房間，卻因為沒有窗戶逃出，被發現時已經不幸身亡。</p>,\n",
       " <p class=\"Mb-2\">威力彩連槓46期，頭獎上看20.5億元，成為近4年來最高，今(12日)晚間開獎，到底頭獎座落誰家，讓全台買家高度關注。對此根據三立新聞網報導，星座專家小孟老師就分析，以下3個星座的人，最容易有中獎特質，買彩券的戰術高明，因此格外受到財神爺庇佑！</p>,\n",
       " <p class=\"Mb-2 LineClamp-3\">政治中心／綜合報導 高雄市長韓國瑜言行、施政爭議連連，尤其在獲得中國國民黨提名參選總統後，假日幾乎不在高雄，大陣仗赴外縣市為自己選情造勢，引起諸多高雄市民不滿，痛批「呷碗內看</p>,\n",
       " <p class=\"Mb-2\">記者陳怡靜／新北報導 台北市仁愛國中一名蕭姓男學生為了參加音樂會，而向國家交響樂團第二小提琴手的指導老師陳偉泓借小提琴，但過程中不慎將琴面刮傷，陳師卻要求以130萬元分期付款</p>,\n",
       " <p class=\"Mb-2\">生活中心／綜合報導 小時候的我們單純可愛，同學玩甚麼我們就跟著做甚麼，有些事還被媽媽罵了無數次，看似天真無邪但長大後回憶起來其實就是一堆「蠢事」，現在順利長大了只能說這也是「</p>,\n",
       " <p class=\"Mb-2 LineClamp-3\">[新頭殼newtalk] 最近，香港特首與港澳辦、中聯辦輪番召開記者會，企圖以製造威脅利誘的輿論來解決目前的困境，包括軍事威脅與指責民眾製造暴力，然後無恥的把責任全推給美國與台灣。然而這只能欺騙被愚弄的中國民眾，在現場的香港人，了解事件的來龍去脈，也知道中國不敢輕易出兵導致玩火自焚或玉石俱焚。香港人，尤其是年輕人已經一無所有，也失去未來的指望，他們有什麼害怕的？中共不是擅長階級分析嗎？可以看看馬克思與毛澤東是怎麼說的。中共最擔心的正是香港的金融與經濟問題。所以在幾個記者會一輪政治轟炸以後，8月9日特首林鄭月娥召開的記者招待會就以「經濟優先」為主題，還帶了一批「商界代表」裝模作樣；但是讓幾位記者提問後，她竟不願回答立即轉身而去。林鄭承認，這次由她惹起的反送中風暴，情況相對SARS帶來的經濟下行或過去的金融風暴更嚴峻，要更長時間復元。香港股市至今已經連跌八週。8月6日那天更是連跌10天，為35年來首見；雖然上週後期美國股市大舉反彈，但是港股欲振乏力，恆生指數跌破26000點，上週就跌了近千點，說明資金繼續逃離香港。根據追蹤共同資金流量最有名的EPFR提供的資訊，截至8月7日的一個星期，全球股票基金錄得242.39億美元淨流出，創下今年最多。當中，中港股票基金淨贖回金額達到26.55億美元，是近四年來最多。香港股市市值中資佔了近6成，香港股市沒有跌停板的規定，一旦崩盤，勢必拖累中國。多次大跌都由李嘉誠的上市公司帶頭，讓人佩服這位香港首富的眼光，最早將資金逐步撤離中國與香港。香港本來是會生金蛋的金雞，一旦失去金融中心地位，不但無法為中國提供資本市場，香港地產也會拖垮，失業人數將大增。香港不但不是中國的資產，還是中國的負擔。在林鄭月娥政治一百分的路線下，香港第1季經濟成長率只有0.5%，第2季再降到0.3%。林鄭仍然執迷不悟，經濟負成長隨時可見。九倉置業主席兼常務董事吳天海坦言，現時香港零售環境正面對「完美風暴」，未來難以估計。不但如此，港共與北京無端端指責美國是香港反送中運動的黑手，就不怕美國啟動香港政策法取消香港的特殊地位？不但如此，在美國因為中國放手人民幣貶值而將中國列為金融操縱國之後，又美國駐港官員與抗議人士接觸而公佈她的隱私，包括公開她的未成年孩子名字，被美國連批幾次「流氓政權」。中美關係的日益惡劣，無疑將激化中美貿易戰與美國對香港政策，香港的處境更加岌岌可危。人民幣與港幣關係密切，而港元與美元有聯繫匯率。一旦香港金融出現問題，中國股市、人民幣匯率、中國的債務炸彈全會爆發，那也該是共產黨壽終歪寢而難以安息的時候。目前的中國外交部比毛澤東時代更加不堪，簡直就是紅衛兵流氓部。因此得到習近平的歡心。幾任國台辦頭子就是外交部出身，特別有對敵鬥爭的「戰鬥力」，當然是兩岸關係越走越遠。香港也是如此。目前北戴河會議正在召開，會議期間中共的對港與對台政策不斷強烈升級，火上加油，可以反映出習近平受到的壓力而必須「寧左勿右」。然而搞到美國指責中國是「流氓政權」，中共是否踩到了紅線？我不知道小學程度的習近平對金融與外交懂得什麼？從北戴河會議出來時，他會是什麼樣子？更多新頭殼報導  港警無差別掃射致示威者失明 香港前線醫護人員宣布無限期罷工  港警暴行！示威者右眼傳永久失明 羅冠聰點名「黑警」10大罪狀</p>,\n",
       " <p class=\"Mb-2\">以選秀節目《星光大道》走紅，有「最美空姐」封號的華航空服員林佩瑤，日前認愛冠軍名廚武俊傑，昨(11日)她更在IG宣布「老娘不幹了」，告別13年的空服員職務，並親曝背後原因。</p>,\n",
       " <p class=\"Mb-2\">衛視中文台《一袋女王》日前邀請何如芸、倪子鈞、Julie、李新及張棋惠分享養兒育女的內心小劇場。何如芸因為2個兒子要到新加坡生活，竟然在機場上演邊哭邊緊緊擁抱到無法分開的戲碼，小兒子還跟她約定好每天晚上8點要通電話，結果去了3天何如芸都等不到電話，只好自己打過去，沒想到2個兒子都冷冷回她，讓何如芸心碎掉滿地。</p>,\n",
       " <p class=\"Mb-2\">娛樂中心／台北報導 保證不會跌破眼鏡，只有推眼鏡一看再看！今年度台灣最強校園正妹排行榜出爐啦，沒入榜的當然先別傷心，先看看今年的競爭對手，到底是誰呢？答案揭曉，依《Daily</p>,\n",
       " <p class=\"Mb-2\">國際中心／綜合報導 英國BBC製作的大自然紀錄片《Spy in the Wild（荒野間諜）》，以派出特製的「仿真機械動物」潛入動物生活圈中為特色，這次又派出了「假鱷魚寶寶」</p>,\n",
       " <p class=\"Mb-2 LineClamp-3\">台大校長管中閔的父親，8月1日在家中往生，享嵩壽百歲。管中閔今天於臉書po出多張爸爸照片與父子合影的舊照，並po文寫下「此生親情猶未盡 來世再續父子緣」悼念父親。 台大校長遴選委員會去年1月5日選出管中閔為新校長，原訂2月上任，教育部認定遴選程序有瑕疵，發函請台大重啟遴選，但台大拒絕並提起訴願。教育部去年12月宣布，勉予同意管中閔擔任台大校長，台大安排管中閔今年1月8日上任。 管中閔父親於交接典禮時坐在台下，當時面對媒體訪問時還豎起大拇指表示：「這是我兒子，他很優秀！」簡單一句話卻說得令人感動。</p>,\n",
       " <p class=\"Mb-2\">台中市今天清晨降豪雨，多處地下道涵洞與道路積水封閉，台中市水利局表示，各地抽水站就位待命，隨時做好各項預防及整備措施。</p>,\n",
       " <p class=\"LineClamp Whs-n Fw-b Mt-2 Mb-6 Lh-14 headline\">泰山純水 箱購送到家72折起</p>,\n",
       " <p class=\"LineClamp Whs-n Fw-b Mt-2 Mb-6 Lh-14 headline\">OLIVIA BURTON 爆款下殺8折</p>,\n",
       " <p class=\"LineClamp Whs-n Fw-b Mt-2 Mb-6 Lh-14 headline\">亞培限定★滿萬送空氣清淨機(事後寄送)</p>,\n",
       " <p class=\"LineClamp Whs-n Fw-b Mt-2 Mb-6 Lh-14 headline\">沁涼一夏 打造我的夏日簡約空間 159起</p>,\n",
       " <p class=\"LineClamp Whs-n Fw-b Mt-2 Mb-6 Lh-14 headline\">台酒/味王/來一客 泡麵66折起</p>,\n",
       " <p class=\"LineClamp Whs-n Fw-b Mt-2 Mb-6 Lh-14 headline\">Roots Summer Sale 最低5折起</p>,\n",
       " <p class=\"LineClamp Whs-n Fw-b Mt-2 Mb-6 Lh-14 headline\">設計所在 文藝棉麻夏出清78折</p>,\n",
       " <p class=\"LineClamp Whs-n Fw-b Mt-2 Mb-6 Lh-14 headline\">感恩開學季 Incare 全館結帳88折</p>,\n",
       " <p class=\"LineClamp Whs-n Fw-b Mt-2 Mb-6 Lh-14 headline\">絕版特賣★蘭芝xIOPE 囤貨好時機▼2件5折</p>,\n",
       " <p class=\"LineClamp Whs-n Fw-b Mt-2 Mb-6 Lh-14 headline\">七夕邂逅新時尚-精選3折up</p>,\n",
       " <p class=\"LineClamp Whs-n Fw-b Mt-2 Mb-6 Lh-14 headline\">韓國K.W.+KEITH-WILL 下殺75折!</p>,\n",
       " <p class=\"LineClamp Whs-n Fw-b Mt-2 Mb-6 Lh-14 headline\">結帳93折+購衷心最高送6% - 阿虎相機a</p>,\n",
       " <p class=\"LineClamp Whs-n Fw-b Mt-2 Mb-6 Lh-14 headline\">熱銷冰洗，日立品牌_9折</p>,\n",
       " <p class=\"LineClamp Whs-n Fw-b Mt-2 Mb-6 Lh-14 headline\">WAVE SHINE美波比基尼↘滿額折$200</p>,\n",
       " <p class=\"LineClamp Whs-n Fw-b Mt-2 Mb-6 Lh-14 headline\">PS4遊戲片暑期軟體活動方案</p>,\n",
       " <p class=\"LineClamp Whs-n Fw-b Mt-2 Mb-6 Lh-14 headline\">挑戰全球最低價▼只要$2980起</p>,\n",
       " <p class=\"LineClamp Whs-n Fw-b Mt-2 Mb-6 Lh-14 headline\">歡樂迎夏黑皮購 嬰童用品8折起</p>,\n",
       " <p class=\"LineClamp Whs-n Fw-b Mt-2 Mb-6 Lh-14 headline\">GIORDANO休閒童裝 任2件結帳84折</p>,\n",
       " <p class=\"LineClamp Whs-n Fw-b Mt-2 Mb-6 Lh-14 headline\">Laler菈楽・方志友推薦41折起(已折)</p>,\n",
       " <p class=\"LineClamp Whs-n Fw-b Mt-2 Mb-6 Lh-14 headline\">TORYx名牌涼鞋/草編鞋特輯 夏特賣1650起</p>]"
      ]
     },
     "execution_count": 4,
     "metadata": {},
     "output_type": "execute_result"
    }
   ],
   "source": [
    "soup('p')"
   ]
  },
  {
   "cell_type": "code",
   "execution_count": 5,
   "metadata": {},
   "outputs": [
    {
     "data": {
      "text/plain": [
       "[<p class=\"MouseOver-TextDecoration My-0 Cur-p\">震撼彈又一發！洪慈庸宣布退黨</p>,\n",
       " <p class=\"MouseOver-TextDecoration My-0 Cur-p Ov-h Wob-ba Mx-12\">台南大雨狂炸 大學校園慘成大型泳池</p>,\n",
       " <p class=\"MouseOver-TextDecoration My-0 Cur-p Ov-h Wob-ba Mx-12\">撞死謝政鵬女友 累犯司機判賠850萬</p>,\n",
       " <p class=\"My-0 Ell\"><span class=\"Va-tt\">「但我自己勝率最高」，指郭是美日中都可接受的人選</span></p>,\n",
       " <p class=\"My-0 Ell\"><span class=\"Va-tt\">昨晚在臉書以「溫良恭儉再也不讓」為題發文，</span></p>,\n",
       " <p class=\"My-0 Ell\"><span class=\"Va-tt\">上面有4個哥哥，出身知名牛排餐廳，為圓連鎖餐飲</span></p>,\n",
       " <p class=\"My-0 Ell\"><span class=\"Va-tt\">外送平台告知是惡作劇，讓店家超傻眼，感歎為方便</span></p>,\n",
       " <p class=\"My-0 Ell\"><span class=\"Va-tt\">論壇／香港未來情勢恐不太樂觀，港人的抗爭悲壯且渺小</span></p>,\n",
       " <p class=\"MouseOver-TextDecoration My-0 Cur-p\">戰紐西蘭飆35分 NBA教頭大讚</p>,\n",
       " <p class=\"MouseOver-TextDecoration My-0 Cur-p Ov-h Wob-ba Mx-12\">「曾懷疑自己」岳東華找回職棒節奏</p>,\n",
       " <p class=\"MouseOver-TextDecoration My-0 Cur-p Ov-h Wob-ba Mx-12\">泰羽賽逆轉奪冠 周天成入選5大好球　</p>,\n",
       " <p class=\"My-0 Ell\"><span class=\"Va-tt\">洋基打線1局下就用全壘打寫紀錄，敲出2轟攻下4分...</span></p>,\n",
       " <p class=\"My-0 Ell\"><span class=\"Va-tt\">于孟馗走到他後方似乎想致意，但林哲瑄卻拍了拍自己的左肩，</span></p>,\n",
       " <p class=\"My-0 Ell\"><span class=\"Va-tt\">一吐前一戰遭洋基完封怨氣，全隊敲出21安，每人皆有至少1支安打</span></p>,\n",
       " <p class=\"My-0 Ell\"><span class=\"Va-tt\">「15年前我在這裡乞討剩飯，如見我帶著...</span></p>,\n",
       " <p class=\"My-0 Ell\"><span class=\"Va-tt\">紅人新秀的驚人表現也改寫了聯盟紀錄，教頭貝爾相當滿意</span></p>,\n",
       " <p class=\"MouseOver-TextDecoration My-0 Cur-p\">起步就撞 蕭敬騰千萬超跑凹了</p>,\n",
       " <p class=\"MouseOver-TextDecoration My-0 Cur-p Ov-h Wob-ba Mx-12\">閃爆！為愛妻慶生 周董嘴對嘴曬恩愛</p>,\n",
       " <p class=\"MouseOver-TextDecoration My-0 Cur-p Ov-h Wob-ba Mx-12\">張棋惠低潮期 吃過期便當果腹</p>,\n",
       " <p class=\"My-0 Ell\"><span class=\"Va-tt\">婚紗照中夫妻倆彼此相視微笑，新娘一襲透明婚紗...</span></p>,\n",
       " <p class=\"My-0 Ell\"><span class=\"Va-tt\">把車停靠路邊，鬼祟地走入花圃左顧右盼，褪去褲子便溺</span></p>,\n",
       " <p class=\"My-0 Ell\"><span class=\"Va-tt\">常告訴自己要忍住脾氣，認為學會看財務報表很重要</span></p>,\n",
       " <p class=\"My-0 Ell\"><span class=\"Va-tt\">上映首日，知名電影網站「豆瓣」只評3.4分，逾60%的人給一星</span></p>,\n",
       " <p class=\"My-0 Ell\"><span class=\"Va-tt\">黃曉明和Angelababy最近頻傳離婚，日前Angelababy雖然出面反駁，不過這回黃曉明又被爆料和網紅上夜店喝酒，甚至出現疑似親臉頰的親密舉動，再度爆發婚變消息，目前夫妻倆都沒有回應。</span></p>,\n",
       " <p class=\"MouseOver-TextDecoration My-0 Cur-p\">刮刮樂中獎超爽！險虧1萬GG</p>,\n",
       " <p class=\"MouseOver-TextDecoration My-0 Cur-p Ov-h Wob-ba Mx-12\">吃當紅麵店 見老闆一動作心涼</p>,\n",
       " <p class=\"MouseOver-TextDecoration My-0 Cur-p Ov-h Wob-ba Mx-12\">排出1條街 日本人竟全為這杯</p>,\n",
       " <p class=\"My-0 Ell\"><span class=\"Va-tt\">看呆了，白色1張紋路超密集，重達14公斤，準備脫皮恐耗時費力</span></p>,\n",
       " <p class=\"My-0 Ell\"><span class=\"Va-tt\">原本想請新郎小叔假扮「新郎」，結果獨自穿白紗向賓客道歉</span></p>,\n",
       " <p class=\"My-0 Ell\"><span class=\"Va-tt\">興奮把影片po網，女子們笑嘻嘻坐在後座，眼尖網友檢舉，賠900元</span></p>,\n",
       " <p class=\"My-0 Ell\"><span class=\"Va-tt\">4天只喝了1瓶牛奶，不能上廁所、洗澡，事件曝光後獲天價賠償</span></p>,\n",
       " <p class=\"My-0 Ell\"><span class=\"Va-tt\">非常熱門～有整輛巴士墜下山崖，比想像中輕鬆和安全，十分過癮</span></p>,\n",
       " <p class=\"MouseOver-TextDecoration My-0 Cur-p\">不留遺憾 女CEO生完20天飛了</p>,\n",
       " <p class=\"MouseOver-TextDecoration My-0 Cur-p Ov-h Wob-ba Mx-12\">秒分手…情侶首過夜 8驚人事實</p>,\n",
       " <p class=\"MouseOver-TextDecoration My-0 Cur-p Ov-h Wob-ba Mx-12\">66萬台出包瑕疵？日官方急召</p>,\n",
       " <p class=\"My-0 Ell\"><span class=\"Va-tt\">只見蜜臀，粉驚「什麼魔法」38歲隋棠帶著老公二度蜜月</span></p>,\n",
       " <p class=\"My-0 Ell\"><span class=\"Va-tt\">狂！不靠爸媽賺進200億，不到五分鐘就爽賺擠進富士比</span></p>,\n",
       " <p class=\"My-0 Ell\"><span class=\"Va-tt\">經常脹氣，四天上一次大號，檢查三餐完全不合格纖維量</span></p>,\n",
       " <p class=\"My-0 Ell\"><span class=\"Va-tt\">比脫單更重要，聚財富人的眉眼距離寬鼻子要飽滿手凹陷</span></p>,\n",
       " <p class=\"My-0 Ell\"><span class=\"Va-tt\">院長特別推薦，花青素是藍莓20倍之多每天1小匙黑枸杞</span></p>,\n",
       " <p class=\"MouseOver-TextDecoration My-0 Cur-p\">離婚8月有他？楊冪左腿露餡</p>,\n",
       " <p class=\"MouseOver-TextDecoration My-0 Cur-p Ov-h Wob-ba Mx-12\">婆家逼做…新娘婚宴當天想離</p>,\n",
       " <p class=\"MouseOver-TextDecoration My-0 Cur-p Ov-h Wob-ba Mx-12\">國三生「作業」一年大賺28億</p>,\n",
       " <p class=\"My-0 Ell\"><span class=\"Va-tt\">觸景傷情！家裡發生很多事，出道第一個包鑰匙都在，拿出</span></p>,\n",
       " <p class=\"My-0 Ell\"><span class=\"Va-tt\">「不小心」完全沒發現，受傷被丟掉的水果及包裝水果是空</span></p>,\n",
       " <p class=\"My-0 Ell\"><span class=\"Va-tt\">出身單親家庭，沒背景沒財力，提到當年被嫌貧被女友甩了</span></p>,\n",
       " <p class=\"My-0 Ell\"><span class=\"Va-tt\">不像是偽造，但立刻被帶到小房間，要求他指出地圖上的</span></p>,\n",
       " <p class=\"My-0 Ell\"><span class=\"Va-tt\">秒噴錢…網友大悟，千萬注意在路邊停車若不是從內側下</span></p>,\n",
       " <p class=\"Mb-2\">因西南風影響，13日台灣西部近海出現旺盛對流雲系，為中南部帶來強降雨，雖雨勢已經緩和，但隨著第10號「超大型颱風」柯羅莎挾著巨大暴風圈北上，將引進強西南風；天氣職人吳聖宇也提醒，14日台灣中南部恐再現強降雨...</p>,\n",
       " <p class=\"Mb-2\">政治中心／綜合報導 高雄市長韓國瑜12日遭《ETToday》報導，在上班日卻11點43分才離開住所，高雄市政府發言人王淺秋澄清首長的工作是責任制，行政院長蘇貞昌13日嘲諷，首</p>,\n",
       " <p class=\"Mb-2\">31歲大陸女星趙麗穎在2018年10月宣布閃嫁「蘭陵王」馮紹峰，並於今（2019）年3月生下兒子「泡泡」，趙麗穎婚後就鮮少公開露面。不過馮紹峰近日遭爆婚後趁拍戲空檔和一名成都女約</p>,\n",
       " <p class=\"Mb-2\">大陸知名涼茶品牌「王老吉」，當年靠著冠名贊助大陸節目《中國好聲音》一夜走紅，在2015年營收高達人民幣250億（約新台幣1,111億元），但最後卻因為銷售不佳及資金不足等問題面臨</p>,\n",
       " <p class=\"Mb-2\">政治中心／綜合報導 總統蔡英文11日前往新北市蘆洲湧蓮寺參拜，現任湧蓮寺主委、國民黨中評委陳宏昌，致詞時竟公開諷刺韓國瑜「整天打麻將，整天吃喝玩樂，可以抱女人的，可以當總統？</p>,\n",
       " <p class=\"Mb-2\">生活中心／綜合報導 中元普渡要到了，許多家庭都會開始採買零食、餅乾、飲料等，「乖乖」更是陪伴著大部分台灣人的童年，但你有看過這個「迷你版乖乖」嗎？原來這是悠遊卡公司推出的「限</p>,\n",
       " <p class=\"Mb-2\">國際中心／綜合報導 香港反送中抗爭，已持續好幾個禮拜，本月11日警民間再次爆發激烈衝突，有一名女子眼球遭到攻擊，當場血流如注的畫面，衝擊不少關心反送中事件的民眾。然而，抗爭至</p>,\n",
       " <p class=\"Mb-2\">不少家庭父母與兒女相處就像兄妹一樣，甚至會是互開玩笑惡整，不過美國卻有名24歲女子，在一次聖誕節時送給爸爸DNA檢測工具，沒想到意外驗出兩人沒有血緣關係，全家無法置信。 根據外媒</p>,\n",
       " <p class=\"Mb-4 LineClamp-3\">原來這次起火燃燒的鐵皮屋，是既存違建，早就被檢舉很多次，一樓擺放大量油料，二樓木板隔天，都強力助長火勢，劉姓姐妹當時一起逃到角落房間，卻因為沒有窗戶逃出，被發現時已經不幸身亡。</p>,\n",
       " <p class=\"Mb-2\">威力彩連槓46期，頭獎上看20.5億元，成為近4年來最高，今(12日)晚間開獎，到底頭獎座落誰家，讓全台買家高度關注。對此根據三立新聞網報導，星座專家小孟老師就分析，以下3個星座的人，最容易有中獎特質，買彩券的戰術高明，因此格外受到財神爺庇佑！</p>,\n",
       " <p class=\"Mb-2 LineClamp-3\">政治中心／綜合報導 高雄市長韓國瑜言行、施政爭議連連，尤其在獲得中國國民黨提名參選總統後，假日幾乎不在高雄，大陣仗赴外縣市為自己選情造勢，引起諸多高雄市民不滿，痛批「呷碗內看</p>,\n",
       " <p class=\"Mb-2\">記者陳怡靜／新北報導 台北市仁愛國中一名蕭姓男學生為了參加音樂會，而向國家交響樂團第二小提琴手的指導老師陳偉泓借小提琴，但過程中不慎將琴面刮傷，陳師卻要求以130萬元分期付款</p>,\n",
       " <p class=\"Mb-2\">生活中心／綜合報導 小時候的我們單純可愛，同學玩甚麼我們就跟著做甚麼，有些事還被媽媽罵了無數次，看似天真無邪但長大後回憶起來其實就是一堆「蠢事」，現在順利長大了只能說這也是「</p>,\n",
       " <p class=\"Mb-2 LineClamp-3\">[新頭殼newtalk] 最近，香港特首與港澳辦、中聯辦輪番召開記者會，企圖以製造威脅利誘的輿論來解決目前的困境，包括軍事威脅與指責民眾製造暴力，然後無恥的把責任全推給美國與台灣。然而這只能欺騙被愚弄的中國民眾，在現場的香港人，了解事件的來龍去脈，也知道中國不敢輕易出兵導致玩火自焚或玉石俱焚。香港人，尤其是年輕人已經一無所有，也失去未來的指望，他們有什麼害怕的？中共不是擅長階級分析嗎？可以看看馬克思與毛澤東是怎麼說的。中共最擔心的正是香港的金融與經濟問題。所以在幾個記者會一輪政治轟炸以後，8月9日特首林鄭月娥召開的記者招待會就以「經濟優先」為主題，還帶了一批「商界代表」裝模作樣；但是讓幾位記者提問後，她竟不願回答立即轉身而去。林鄭承認，這次由她惹起的反送中風暴，情況相對SARS帶來的經濟下行或過去的金融風暴更嚴峻，要更長時間復元。香港股市至今已經連跌八週。8月6日那天更是連跌10天，為35年來首見；雖然上週後期美國股市大舉反彈，但是港股欲振乏力，恆生指數跌破26000點，上週就跌了近千點，說明資金繼續逃離香港。根據追蹤共同資金流量最有名的EPFR提供的資訊，截至8月7日的一個星期，全球股票基金錄得242.39億美元淨流出，創下今年最多。當中，中港股票基金淨贖回金額達到26.55億美元，是近四年來最多。香港股市市值中資佔了近6成，香港股市沒有跌停板的規定，一旦崩盤，勢必拖累中國。多次大跌都由李嘉誠的上市公司帶頭，讓人佩服這位香港首富的眼光，最早將資金逐步撤離中國與香港。香港本來是會生金蛋的金雞，一旦失去金融中心地位，不但無法為中國提供資本市場，香港地產也會拖垮，失業人數將大增。香港不但不是中國的資產，還是中國的負擔。在林鄭月娥政治一百分的路線下，香港第1季經濟成長率只有0.5%，第2季再降到0.3%。林鄭仍然執迷不悟，經濟負成長隨時可見。九倉置業主席兼常務董事吳天海坦言，現時香港零售環境正面對「完美風暴」，未來難以估計。不但如此，港共與北京無端端指責美國是香港反送中運動的黑手，就不怕美國啟動香港政策法取消香港的特殊地位？不但如此，在美國因為中國放手人民幣貶值而將中國列為金融操縱國之後，又美國駐港官員與抗議人士接觸而公佈她的隱私，包括公開她的未成年孩子名字，被美國連批幾次「流氓政權」。中美關係的日益惡劣，無疑將激化中美貿易戰與美國對香港政策，香港的處境更加岌岌可危。人民幣與港幣關係密切，而港元與美元有聯繫匯率。一旦香港金融出現問題，中國股市、人民幣匯率、中國的債務炸彈全會爆發，那也該是共產黨壽終歪寢而難以安息的時候。目前的中國外交部比毛澤東時代更加不堪，簡直就是紅衛兵流氓部。因此得到習近平的歡心。幾任國台辦頭子就是外交部出身，特別有對敵鬥爭的「戰鬥力」，當然是兩岸關係越走越遠。香港也是如此。目前北戴河會議正在召開，會議期間中共的對港與對台政策不斷強烈升級，火上加油，可以反映出習近平受到的壓力而必須「寧左勿右」。然而搞到美國指責中國是「流氓政權」，中共是否踩到了紅線？我不知道小學程度的習近平對金融與外交懂得什麼？從北戴河會議出來時，他會是什麼樣子？更多新頭殼報導  港警無差別掃射致示威者失明 香港前線醫護人員宣布無限期罷工  港警暴行！示威者右眼傳永久失明 羅冠聰點名「黑警」10大罪狀</p>,\n",
       " <p class=\"Mb-2\">以選秀節目《星光大道》走紅，有「最美空姐」封號的華航空服員林佩瑤，日前認愛冠軍名廚武俊傑，昨(11日)她更在IG宣布「老娘不幹了」，告別13年的空服員職務，並親曝背後原因。</p>,\n",
       " <p class=\"Mb-2\">衛視中文台《一袋女王》日前邀請何如芸、倪子鈞、Julie、李新及張棋惠分享養兒育女的內心小劇場。何如芸因為2個兒子要到新加坡生活，竟然在機場上演邊哭邊緊緊擁抱到無法分開的戲碼，小兒子還跟她約定好每天晚上8點要通電話，結果去了3天何如芸都等不到電話，只好自己打過去，沒想到2個兒子都冷冷回她，讓何如芸心碎掉滿地。</p>,\n",
       " <p class=\"Mb-2\">娛樂中心／台北報導 保證不會跌破眼鏡，只有推眼鏡一看再看！今年度台灣最強校園正妹排行榜出爐啦，沒入榜的當然先別傷心，先看看今年的競爭對手，到底是誰呢？答案揭曉，依《Daily</p>,\n",
       " <p class=\"Mb-2\">國際中心／綜合報導 英國BBC製作的大自然紀錄片《Spy in the Wild（荒野間諜）》，以派出特製的「仿真機械動物」潛入動物生活圈中為特色，這次又派出了「假鱷魚寶寶」</p>,\n",
       " <p class=\"Mb-2 LineClamp-3\">台大校長管中閔的父親，8月1日在家中往生，享嵩壽百歲。管中閔今天於臉書po出多張爸爸照片與父子合影的舊照，並po文寫下「此生親情猶未盡 來世再續父子緣」悼念父親。 台大校長遴選委員會去年1月5日選出管中閔為新校長，原訂2月上任，教育部認定遴選程序有瑕疵，發函請台大重啟遴選，但台大拒絕並提起訴願。教育部去年12月宣布，勉予同意管中閔擔任台大校長，台大安排管中閔今年1月8日上任。 管中閔父親於交接典禮時坐在台下，當時面對媒體訪問時還豎起大拇指表示：「這是我兒子，他很優秀！」簡單一句話卻說得令人感動。</p>,\n",
       " <p class=\"Mb-2\">台中市今天清晨降豪雨，多處地下道涵洞與道路積水封閉，台中市水利局表示，各地抽水站就位待命，隨時做好各項預防及整備措施。</p>,\n",
       " <p class=\"LineClamp Whs-n Fw-b Mt-2 Mb-6 Lh-14 headline\">泰山純水 箱購送到家72折起</p>,\n",
       " <p class=\"LineClamp Whs-n Fw-b Mt-2 Mb-6 Lh-14 headline\">OLIVIA BURTON 爆款下殺8折</p>,\n",
       " <p class=\"LineClamp Whs-n Fw-b Mt-2 Mb-6 Lh-14 headline\">亞培限定★滿萬送空氣清淨機(事後寄送)</p>,\n",
       " <p class=\"LineClamp Whs-n Fw-b Mt-2 Mb-6 Lh-14 headline\">沁涼一夏 打造我的夏日簡約空間 159起</p>,\n",
       " <p class=\"LineClamp Whs-n Fw-b Mt-2 Mb-6 Lh-14 headline\">台酒/味王/來一客 泡麵66折起</p>,\n",
       " <p class=\"LineClamp Whs-n Fw-b Mt-2 Mb-6 Lh-14 headline\">Roots Summer Sale 最低5折起</p>,\n",
       " <p class=\"LineClamp Whs-n Fw-b Mt-2 Mb-6 Lh-14 headline\">設計所在 文藝棉麻夏出清78折</p>,\n",
       " <p class=\"LineClamp Whs-n Fw-b Mt-2 Mb-6 Lh-14 headline\">感恩開學季 Incare 全館結帳88折</p>,\n",
       " <p class=\"LineClamp Whs-n Fw-b Mt-2 Mb-6 Lh-14 headline\">絕版特賣★蘭芝xIOPE 囤貨好時機▼2件5折</p>,\n",
       " <p class=\"LineClamp Whs-n Fw-b Mt-2 Mb-6 Lh-14 headline\">七夕邂逅新時尚-精選3折up</p>,\n",
       " <p class=\"LineClamp Whs-n Fw-b Mt-2 Mb-6 Lh-14 headline\">韓國K.W.+KEITH-WILL 下殺75折!</p>,\n",
       " <p class=\"LineClamp Whs-n Fw-b Mt-2 Mb-6 Lh-14 headline\">結帳93折+購衷心最高送6% - 阿虎相機a</p>,\n",
       " <p class=\"LineClamp Whs-n Fw-b Mt-2 Mb-6 Lh-14 headline\">熱銷冰洗，日立品牌_9折</p>,\n",
       " <p class=\"LineClamp Whs-n Fw-b Mt-2 Mb-6 Lh-14 headline\">WAVE SHINE美波比基尼↘滿額折$200</p>,\n",
       " <p class=\"LineClamp Whs-n Fw-b Mt-2 Mb-6 Lh-14 headline\">PS4遊戲片暑期軟體活動方案</p>,\n",
       " <p class=\"LineClamp Whs-n Fw-b Mt-2 Mb-6 Lh-14 headline\">挑戰全球最低價▼只要$2980起</p>,\n",
       " <p class=\"LineClamp Whs-n Fw-b Mt-2 Mb-6 Lh-14 headline\">歡樂迎夏黑皮購 嬰童用品8折起</p>,\n",
       " <p class=\"LineClamp Whs-n Fw-b Mt-2 Mb-6 Lh-14 headline\">GIORDANO休閒童裝 任2件結帳84折</p>,\n",
       " <p class=\"LineClamp Whs-n Fw-b Mt-2 Mb-6 Lh-14 headline\">Laler菈楽・方志友推薦41折起(已折)</p>,\n",
       " <p class=\"LineClamp Whs-n Fw-b Mt-2 Mb-6 Lh-14 headline\">TORYx名牌涼鞋/草編鞋特輯 夏特賣1650起</p>]"
      ]
     },
     "execution_count": 5,
     "metadata": {},
     "output_type": "execute_result"
    }
   ],
   "source": [
    "soup.find_all('p')"
   ]
  },
  {
   "cell_type": "code",
   "execution_count": 6,
   "metadata": {},
   "outputs": [
    {
     "data": {
      "text/plain": [
       "['MouseOver-TextDecoration', 'My-0', 'Cur-p']"
      ]
     },
     "execution_count": 6,
     "metadata": {},
     "output_type": "execute_result"
    }
   ],
   "source": [
    "soup.p['class']"
   ]
  },
  {
   "cell_type": "code",
   "execution_count": 7,
   "metadata": {},
   "outputs": [
    {
     "name": "stdout",
     "output_type": "stream",
     "text": [
      "Yahoo奇摩\n"
     ]
    }
   ],
   "source": [
    "html = '<title>Yahoo奇摩</title>'\n",
    "soup = BeautifulSoup(html,\"html.parser\")\n",
    "print(soup.title.string)"
   ]
  },
  {
   "cell_type": "code",
   "execution_count": 8,
   "metadata": {},
   "outputs": [
    {
     "name": "stdout",
     "output_type": "stream",
     "text": [
      "Yahoo奇摩\n"
     ]
    }
   ],
   "source": [
    "html = '<title><p>Yahoo奇摩</p></title>'\n",
    "soup = BeautifulSoup(html,\"html.parser\")\n",
    "print(soup.title.string)"
   ]
  },
  {
   "cell_type": "code",
   "execution_count": 9,
   "metadata": {},
   "outputs": [
    {
     "name": "stdout",
     "output_type": "stream",
     "text": [
      "None\n",
      "Yahoooooo\n"
     ]
    }
   ],
   "source": [
    "html = '<title>Yahoo奇摩<p>Yahoooooo</p></title>'\n",
    "soup = BeautifulSoup(html,\"html.parser\")\n",
    "print(soup.title.string)\n",
    "print(soup.p.string)"
   ]
  },
  {
   "cell_type": "code",
   "execution_count": 10,
   "metadata": {},
   "outputs": [
    {
     "name": "stdout",
     "output_type": "stream",
     "text": [
      "Yahoo奇摩\n"
     ]
    }
   ],
   "source": [
    "html = '<title>Yahoo奇摩</title>'\n",
    "soup = BeautifulSoup(html,\"html.parser\")\n",
    "print(soup.title.text)"
   ]
  },
  {
   "cell_type": "code",
   "execution_count": 11,
   "metadata": {},
   "outputs": [
    {
     "name": "stdout",
     "output_type": "stream",
     "text": [
      "Yahoo奇摩\n"
     ]
    }
   ],
   "source": [
    "html = '<title><p>Yahoo奇摩</p></title>'\n",
    "soup = BeautifulSoup(html,\"html.parser\")\n",
    "print(soup.title.text)"
   ]
  },
  {
   "cell_type": "code",
   "execution_count": 12,
   "metadata": {},
   "outputs": [
    {
     "name": "stdout",
     "output_type": "stream",
     "text": [
      "Yahoo奇摩Yahoooooo\n",
      "Yahoooooo\n"
     ]
    }
   ],
   "source": [
    "html = '<title>Yahoo奇摩<p>Yahoooooo</p></title>'\n",
    "soup = BeautifulSoup(html,\"html.parser\")\n",
    "print(soup.title.text)\n",
    "print(soup.p.text)"
   ]
  },
  {
   "cell_type": "markdown",
   "metadata": {},
   "source": [
    "# Crawling 中古車"
   ]
  },
  {
   "cell_type": "code",
   "execution_count": 13,
   "metadata": {},
   "outputs": [
    {
     "data": {
      "text/plain": [
       "'\\nfrom bs4 import BeautifulSoup\\nfrom urllib.request import urlopen\\nallcar_url = \\'https://www.findcar.com.tw/datalist.aspx?u=1&b=72&m=577\\'\\nhtml = urlopen(allcar_url).read()              #讀取網頁\\nsoup = BeautifulSoup(html,\"html.parser\")       #用beautifulsoup整理網頁內容\\ntarget = soup.find(\\'a\\',\\'atitle cartitle\\')      #找到車子的連結\\nprint(target[\\'href\\'])  \\nhead = \\'https://www.findcar.com.tw\\'\\ncar_url = head + target[\\'href\\']\\nhtml = urlopen(car_url).read()\\ns = BeautifulSoup(html,\"html.parser\")\\n#抓取網頁中車子的資料\\ndetail = s.find(\\'ul\\',\\'vehicle-details\\')(\\'li\\')\\ndetail\\n#用車子數量來判斷要爬幾頁\\ncarnum = soup.find(\\'span\\',id=\\'lblTopShowDesc\\')(\\'b\\')\\ncarnum = int(carnum[0].text.replace(\\',\\',\\'\\'))\\nprint(\\'car number =\\',carnum)\\npage = int(carnum/10)\\nif carnum%10 !=0:\\n    page += 1\\nprint(\\'page =\\',page)\\n'"
      ]
     },
     "execution_count": 13,
     "metadata": {},
     "output_type": "execute_result"
    }
   ],
   "source": [
    "'''\n",
    "from bs4 import BeautifulSoup\n",
    "from urllib.request import urlopen\n",
    "allcar_url = 'https://www.findcar.com.tw/datalist.aspx?u=1&b=72&m=577'\n",
    "html = urlopen(allcar_url).read()              #讀取網頁\n",
    "soup = BeautifulSoup(html,\"html.parser\")       #用beautifulsoup整理網頁內容\n",
    "target = soup.find('a','atitle cartitle')      #找到車子的連結\n",
    "print(target['href'])  \n",
    "head = 'https://www.findcar.com.tw'\n",
    "car_url = head + target['href']\n",
    "html = urlopen(car_url).read()\n",
    "s = BeautifulSoup(html,\"html.parser\")\n",
    "#抓取網頁中車子的資料\n",
    "detail = s.find('ul','vehicle-details')('li')\n",
    "detail\n",
    "#用車子數量來判斷要爬幾頁\n",
    "carnum = soup.find('span',id='lblTopShowDesc')('b')\n",
    "carnum = int(carnum[0].text.replace(',',''))\n",
    "print('car number =',carnum)\n",
    "page = int(carnum/10)\n",
    "if carnum%10 !=0:\n",
    "    page += 1\n",
    "print('page =',page)\n",
    "'''"
   ]
  },
  {
   "cell_type": "code",
   "execution_count": 14,
   "metadata": {},
   "outputs": [
    {
     "name": "stdout",
     "output_type": "stream",
     "text": [
      "/url.aspx?m=2&g=444&n=%E8%A1%8C%E5%8B%95%E9%A0%AD%E7%AD%89%E8%89%99%20%20%E9%A0%82%E7%B4%9A%E5%A5%A2%E8%8F%AF%E4%B8%83%E4%BA%BA%E5%BA%A7%20%E5%85%A7%E5%A4%96%E7%9A%86%E7%BE%8E%20%E4%BD%8E%E7%8E%87%E5%B0%88%E6%A1%88%E6%90%B6%E8%B3%BC%E4%B8%AD~&u=%2Fd%2FTCUM0kV98LqbpGtK&t=1&f=datalist&p=89.5&b=72&y=2011&d=577\n"
     ]
    }
   ],
   "source": [
    "from bs4 import BeautifulSoup\n",
    "from urllib.request import urlopen\n",
    "allcar_url = 'https://www.findcar.com.tw/datalist.aspx?u=1&b=72&m=577'\n",
    "html = urlopen(allcar_url).read()              #讀取網頁\n",
    "soup = BeautifulSoup(html,\"html.parser\")       #用beautifulsoup整理網頁內容\n",
    "target = soup.find('a','atitle cartitle')      #找到車子的連結\n",
    "print(target['href'])                          #印出href"
   ]
  },
  {
   "cell_type": "code",
   "execution_count": 15,
   "metadata": {},
   "outputs": [
    {
     "data": {
      "text/plain": [
       "[<li>廠牌：<span id=\"lblBrand\">Toyota 豐田</span></li>,\n",
       " <li>車款：<span id=\"lblModel\">ALPHARD</span></li>,\n",
       " <li>年份：<span id=\"lblYear\">2011年</span></li>,\n",
       " <li id=\"licolor\">顏色：<span id=\"lblColor\">白色系</span></li>,\n",
       " <li>車輛所在地：<span id=\"lblCity\">台中市北屯區</span></li>,\n",
       " <li id=\"lidisplacement\">排氣量：<span id=\"lblDisplacement\">3,500 c.c</span></li>,\n",
       " <li>售價：<span id=\"lblPrice\"><font color=\"red\">89.5 <strong style=\"color:#000000;font-size:14px;font-weight:normal;\">萬</strong></font></span><a class=\"aname\" href=\"../datalist.aspx?u=1&amp;b=72&amp;m=577&amp;y=2011\" id=\"linkCompare\" style=\"font-size:10pt;margin-left:10px;\" target=\"_self\">比較價格</a>\n",
       " </li>,\n",
       " <li id=\"liLtax\">牌照稅：<span id=\"lblLicenseTax\">28,220</span></li>,\n",
       " <li id=\"liFtax\">燃料稅：<span id=\"lblFueluseTax\">8,640</span></li>,\n",
       " <li id=\"liViewcnt\">瀏覽次數：<span id=\"lblViewCnt\">79</span></li>,\n",
       " <li id=\"liSlink\">\n",
       " <span id=\"asource\"><a class=\"aname\" href=\"/url.aspx?m=2&amp;g=444&amp;n=%E8%A1%8C%E5%8B%95%E9%A0%AD%E7%AD%89%E8%89%99%20%20%E9%A0%82%E7%B4%9A%E5%A5%A2%E8%8F%AF%E4%B8%83%E4%BA%BA%E5%BA%A7%20%E5%85%A7%E5%A4%96%E7%9A%86%E7%BE%8E%20%E4%BD%8E%E7%8E%87%E5%B0%88%E6%A1%88%E6%90%B6%E8%B3%BC%E4%B8%AD~&amp;u=http%3A%2F%2Fwww.sum.com.tw%2Fcarinfo-479671.php%3Futm_source%3Dfindcar%26utm_medium%3Dcar%26utm_campaign%3Dfindcar&amp;t=3&amp;p=89.5&amp;b=72&amp;y=2011\" rel=\"nofollow\" target=\"_blank\" title=\"行動頭等艙  頂級奢華七人座 內外皆美 低率專案搶購中~ Toyota 豐田 ALPHARD 2011\">資料來源網址<img alt=\"來源網址\" src=\"/images/url_icon.png\" style=\"margin-left:2px\"/></a></span>\n",
       " </li>,\n",
       " <li><div style=\"float:left;margin-left:0px;margin-top:4px;min-height:0px;\">分享至  </div><div style=\"float:left;margin-left:0px;margin-top:0px;min-height:0px;\"><a href=\"https://www.facebook.com/sharer.php?u=https://www.findcar.com.tw/d/TCUM0kV98LqbpGtK\" onclick=\"window.open(this.href, '_blank','height=500,width=600'); return false;\" rel=\"nofollow\" target=\"_blank\" title=\"分享到 FB\"><img src=\"/images/fb_25.png\" style=\"border:0;\"/></a>  </div><div style=\"float:right;margin-top: -5px;min-height:0px;\"><div class=\"fb-like\" data-action=\"like\" data-href=\"https://www.findcar.com.tw/d/TCUM0kV98LqbpGtK\" data-layout=\"button_count\" data-share=\"false\" data-show-faces=\"true\" data-size=\"small\"></div></div></li>]"
      ]
     },
     "execution_count": 15,
     "metadata": {},
     "output_type": "execute_result"
    }
   ],
   "source": [
    "head = 'https://www.findcar.com.tw'\n",
    "car_url = head + target['href']\n",
    "html = urlopen(car_url).read()\n",
    "s = BeautifulSoup(html,\"html.parser\")\n",
    "#抓取網頁中車子的資料\n",
    "detail = s.find('ul','vehicle-details')('li')\n",
    "detail"
   ]
  },
  {
   "cell_type": "code",
   "execution_count": 16,
   "metadata": {},
   "outputs": [
    {
     "name": "stdout",
     "output_type": "stream",
     "text": [
      "廠牌：Toyota 豐田\n",
      "車款：ALPHARD\n",
      "年份：2011年\n",
      "顏色：白色系\n",
      "車輛所在地：台中市北屯區\n",
      "排氣量：3,500 c.c\n",
      "售價：89.5 萬比較價格\n",
      "牌照稅：28,220\n",
      "燃料稅：8,640\n",
      "瀏覽次數：79\n",
      "資料來源網址\n",
      "分享至\n"
     ]
    }
   ],
   "source": [
    "#把tag裡面的text抓出來\n",
    "for d in detail:\n",
    "    attr = d.text.strip()\n",
    "    print(attr)"
   ]
  },
  {
   "cell_type": "code",
   "execution_count": 17,
   "metadata": {},
   "outputs": [
    {
     "name": "stdout",
     "output_type": "stream",
     "text": [
      "car number = 56\n",
      "page = 6\n"
     ]
    }
   ],
   "source": [
    "#用車子數量來判斷要爬幾頁\n",
    "carnum = soup.find('span',id='lblTopShowDesc')('b')\n",
    "carnum = int(carnum[0].text.replace(',',''))\n",
    "print('car number =',carnum)\n",
    "page = int(carnum/10)\n",
    "if carnum%10 !=0:\n",
    "    page += 1\n",
    "print('page =',page)"
   ]
  },
  {
   "cell_type": "markdown",
   "metadata": {},
   "source": [
    "# 將前面的步驟寫成函式"
   ]
  },
  {
   "cell_type": "code",
   "execution_count": 18,
   "metadata": {},
   "outputs": [],
   "source": [
    "from bs4 import BeautifulSoup\n",
    "from urllib.request import urlopen\n",
    "def url_to_soup(url):\n",
    "    #將url轉成beautifulsoup\n",
    "    html = urlopen(url).read()\n",
    "    soup = BeautifulSoup(html,\"html.parser\")\n",
    "    return soup\n",
    "\n",
    "def find_carpage(soup):\n",
    "    #找出頁數數量\n",
    "    carnum = soup.find('span',id='lblTopShowDesc')('b')\n",
    "    carnum = int(carnum[0].text.replace(',',''))\n",
    "    page = int(carnum/10)\n",
    "    if carnum%10 !=0:\n",
    "        page += 1\n",
    "    return page\n",
    "\n",
    "def parse_detail(detail):\n",
    "    #將車子的資料轉成我們需要的格式\n",
    "    attrlist=['廠牌','年份','顏色','所在地','排氣量','售價','牌照稅','燃料稅','瀏覽次數','里程數','每日平均里程','車款','車輛所在地']\n",
    "    onecar=dict()\n",
    "    for d in detail:\n",
    "        #split指定用冒號來切割資料的種類跟值\n",
    "        attr = d.text.strip().replace('比較價格','').replace(u'\\xa0','').split('：')\n",
    "        if attr[0] in attrlist:\n",
    "            #replace用來捨棄掉我們不要的部分\n",
    "            onecar[attr[0]]=attr[1].replace('c.c','').replace(',','').replace('萬','').replace('年','').replace('公里','').strip()\n",
    "    if len(onecar['年份'])!=4:\n",
    "        onecar['年份']=onecar['年份'][:4]\n",
    "    return onecar"
   ]
  },
  {
   "cell_type": "code",
   "execution_count": 19,
   "metadata": {},
   "outputs": [
    {
     "name": "stdout",
     "output_type": "stream",
     "text": [
      "current page : 1\n",
      "current page : 2\n",
      "current page : 3\n",
      "current page : 4\n",
      "current page : 5\n",
      "current page : 6\n",
      "crawl end\n"
     ]
    }
   ],
   "source": [
    "#toyota alphard\n",
    "#綜合上述的方法，爬取全部的頁數\n",
    "allcar=list()\n",
    "head = 'https://www.findcar.com.tw'\n",
    "for p in range(1,page+1):\n",
    "    print('current page :',p)\n",
    "    #指定頁數\n",
    "    url = 'https://www.findcar.com.tw/datalist.aspx?u=1&b=72&m=577&i='+str(p)\n",
    "    soup = url_to_soup(url)\n",
    "    target = soup.find_all('a','atitle cartitle')\n",
    "    for t in target:\n",
    "        car_url = head + t['href']\n",
    "        soup = url_to_soup(car_url)\n",
    "        detail = soup.find('ul','vehicle-details')('li')\n",
    "        #把一輛車的資料存起來\n",
    "        onecar = parse_detail(detail)\n",
    "        onecar['link'] = car_url\n",
    "        allcar.append(onecar)\n",
    "    if '為了提供關聯性最高的搜尋結果，我們省略了部分的查詢結果' in str(soup):\n",
    "        break\n",
    "print('crawl end')"
   ]
  },
  {
   "cell_type": "code",
   "execution_count": 20,
   "metadata": {},
   "outputs": [
    {
     "data": {
      "text/plain": [
       "{'廠牌': 'Toyota 豐田',\n",
       " '車款': 'ALPHARD',\n",
       " '年份': '2011',\n",
       " '顏色': '白色系',\n",
       " '車輛所在地': '台中市北屯區',\n",
       " '排氣量': '3500',\n",
       " '售價': '89.5',\n",
       " '牌照稅': '28220',\n",
       " '燃料稅': '8640',\n",
       " '瀏覽次數': '79',\n",
       " 'link': 'https://www.findcar.com.tw/url.aspx?m=2&g=444&n=%E8%A1%8C%E5%8B%95%E9%A0%AD%E7%AD%89%E8%89%99%20%20%E9%A0%82%E7%B4%9A%E5%A5%A2%E8%8F%AF%E4%B8%83%E4%BA%BA%E5%BA%A7%20%E5%85%A7%E5%A4%96%E7%9A%86%E7%BE%8E%20%E4%BD%8E%E7%8E%87%E5%B0%88%E6%A1%88%E6%90%B6%E8%B3%BC%E4%B8%AD~&u=%2Fd%2FTCUM0kV98LqbpGtK&t=1&f=datalist&p=89.5&b=72&y=2011&d=577'}"
      ]
     },
     "execution_count": 20,
     "metadata": {},
     "output_type": "execute_result"
    }
   ],
   "source": [
    "allcar[0]"
   ]
  },
  {
   "cell_type": "markdown",
   "metadata": {},
   "source": [
    "# 分析車價與各項因素的關聯"
   ]
  },
  {
   "cell_type": "code",
   "execution_count": 21,
   "metadata": {},
   "outputs": [
    {
     "data": {
      "image/png": "[encoded data removed]",
      "text/plain": [
       "<Figure size 432x288 with 1 Axes>"
      ]
     },
     "metadata": {},
     "output_type": "display_data"
    }
   ],
   "source": [
    "import matplotlib.pyplot as plt\n",
    "%matplotlib inline\n",
    "#用里程數當x軸、售價當y軸，畫出圖形\n",
    "x=list()\n",
    "y=list()\n",
    "for i in allcar:\n",
    "    if '里程數' in i.keys() and i['售價']!='請電洽':\n",
    "        x.append(float(i['里程數']))\n",
    "        y.append(float(i['售價'])) \n",
    "plt.plot(x,y,'k.')  #k為黑色  .為點的樣式\n",
    "#設定各軸的label\n",
    "plt.xlabel('mileage(km)')\n",
    "plt.ylabel('price(10 thousand)')\n",
    "plt.title(\"toyota alphard\")\n",
    "plt.show()"
   ]
  },
  {
   "cell_type": "code",
   "execution_count": 22,
   "metadata": {},
   "outputs": [
    {
     "data": {
      "image/png": "[encoded data removed]",
      "text/plain": [
       "<Figure size 432x288 with 1 Axes>"
      ]
     },
     "metadata": {},
     "output_type": "display_data"
    }
   ],
   "source": [
    "#畫出這些點的迴歸線\n",
    "import numpy as np\n",
    "fit = np.polyfit(x,y,1) #找出多項式的係數\n",
    "fit_fn = np.poly1d(fit) #用係數做多項式\n",
    "plt.plot(x,y,'k.')\n",
    "plt.plot(x, fit_fn(x), 'r')\n",
    "plt.xlabel('mileage(km)')\n",
    "plt.ylabel('price(10 thousand)')\n",
    "plt.title(\"toyota alphard\")\n",
    "plt.show()"
   ]
  },
  {
   "cell_type": "code",
   "execution_count": 23,
   "metadata": {},
   "outputs": [],
   "source": [
    "def get_xy(allcar,xlabel):\n",
    "    x=list()\n",
    "    y=list()\n",
    "    for i in allcar:\n",
    "        if xlabel in i.keys() and i['售價']!='請電洽':\n",
    "            x.append(float(i[xlabel]))\n",
    "            y.append(float(i['售價'])) \n",
    "    return x,y"
   ]
  },
  {
   "cell_type": "code",
   "execution_count": 24,
   "metadata": {},
   "outputs": [
    {
     "data": {
      "text/plain": [
       "\"\\nimport matplotlib.pyplot as plt\\nimport pickle\\nurl = 'https://www.findcar.com.tw/datalist.aspx?u=1&b=8&m=96'\\nsoup = url_to_soup(url)\\npage = find_carpage(soup)\\n\\nbenz_s=list()\\nhead = 'https://www.findcar.com.tw'\\nfor p in range(1,page+1):\\n    print('current page :',p)\\n    url = 'https://www.findcar.com.tw/datalist.aspx?u=1&b=8&m=96&i='+str(p)\\n    soup = url_to_soup(url)\\n    target = soup.find_all('a','atitle cartitle')\\n    for t in target:\\n        car_url = head + t['href']\\n        soup = url_to_soup(car_url)\\n        detail = soup.find('ul','vehicle-details')('li')\\n        onecar = parse_detail(detail)\\n        onecar['link'] = car_url\\n        benz_s.append(onecar)\\n    if '為了提供關聯性最高的搜尋結果，我們省略了部分的查詢結果' in str(soup):\\n        break\\nwith open('benz_s.pkl','wb') as f:\\n    pickle.dump(benz_s,f)\\nprint('crawl end')\\n\""
      ]
     },
     "execution_count": 24,
     "metadata": {},
     "output_type": "execute_result"
    }
   ],
   "source": [
    "#benz s-class\n",
    "'''\n",
    "import matplotlib.pyplot as plt\n",
    "import pickle\n",
    "url = 'https://www.findcar.com.tw/datalist.aspx?u=1&b=8&m=96'\n",
    "soup = url_to_soup(url)\n",
    "page = find_carpage(soup)\n",
    "\n",
    "benz_s=list()\n",
    "head = 'https://www.findcar.com.tw'\n",
    "for p in range(1,page+1):\n",
    "    print('current page :',p)\n",
    "    url = 'https://www.findcar.com.tw/datalist.aspx?u=1&b=8&m=96&i='+str(p)\n",
    "    soup = url_to_soup(url)\n",
    "    target = soup.find_all('a','atitle cartitle')\n",
    "    for t in target:\n",
    "        car_url = head + t['href']\n",
    "        soup = url_to_soup(car_url)\n",
    "        detail = soup.find('ul','vehicle-details')('li')\n",
    "        onecar = parse_detail(detail)\n",
    "        onecar['link'] = car_url\n",
    "        benz_s.append(onecar)\n",
    "    if '為了提供關聯性最高的搜尋結果，我們省略了部分的查詢結果' in str(soup):\n",
    "        break\n",
    "with open('benz_s.pkl','wb') as f:\n",
    "    pickle.dump(benz_s,f)\n",
    "print('crawl end')\n",
    "'''"
   ]
  },
  {
   "cell_type": "code",
   "execution_count": 25,
   "metadata": {},
   "outputs": [
    {
     "data": {
      "image/png": "[encoded data removed]",
      "text/plain": [
       "<Figure size 432x288 with 1 Axes>"
      ]
     },
     "metadata": {},
     "output_type": "display_data"
    }
   ],
   "source": [
    "#benz s-class\n",
    "import numpy as np\n",
    "import pickle\n",
    "with open('benz_s.pkl','rb') as f:\n",
    "    benz_s=pickle.load(f)\n",
    "x,y = get_xy(benz_s,'里程數')\n",
    "fit = np.polyfit(x,y,1)\n",
    "fit_fn = np.poly1d(fit)\n",
    "plt.plot(x,y,'k.')\n",
    "plt.plot(x, fit_fn(x), 'r')\n",
    "plt.xlabel('mileage(km)')\n",
    "plt.ylabel('price(10 thousand)')\n",
    "plt.title(\"benz s-class\")\n",
    "plt.show()"
   ]
  },
  {
   "cell_type": "code",
   "execution_count": 26,
   "metadata": {},
   "outputs": [
    {
     "name": "stdout",
     "output_type": "stream",
     "text": [
      "https://www.findcar.com.tw/d/v7s6RQEkrhwJjXFI\n"
     ]
    }
   ],
   "source": [
    "for i in benz_s:\n",
    "    if '里程數' in i.keys() and i['售價']!='請電洽' and float(i['售價'])>650:\n",
    "        print(i['link'])"
   ]
  },
  {
   "cell_type": "code",
   "execution_count": 27,
   "metadata": {},
   "outputs": [
    {
     "data": {
      "text/plain": [
       "\"\\nimport pickle\\nurl = 'https://www.findcar.com.tw/datalist.aspx?u=1&b=72&m=1065'\\nsoup = url_to_soup(url)\\npage = find_carpage(soup)\\n\\ntoyota_altis=list()\\nhead = 'https://www.findcar.com.tw'\\nfor p in range(1,page+1):\\n    print('current page =',p)\\n    url = 'https://www.findcar.com.tw/datalist.aspx?u=1&b=72&m=1065&i='+str(p)\\n    soup = url_to_soup(url)\\n    target = soup.find_all('a','atitle cartitle')\\n    for t in target:\\n        car_url = head + t['href']\\n        soup = url_to_soup(car_url)\\n        detail = soup.find('ul','vehicle-details')('li')\\n        onecar = parse_detail(detail)\\n        onecar['link'] = car_url\\n        toyota_altis.append(onecar)\\n    if '為了提供關聯性最高的搜尋結果，我們省略了部分的查詢結果' in str(soup):\\n        break\\nprint('crawl end')\\nwith open('toyota_altis.pkl','wb') as f:\\n    pickle.dump(toyota_altis,f)\\n\""
      ]
     },
     "execution_count": 27,
     "metadata": {},
     "output_type": "execute_result"
    }
   ],
   "source": [
    "#toyota altis\n",
    "'''\n",
    "import pickle\n",
    "url = 'https://www.findcar.com.tw/datalist.aspx?u=1&b=72&m=1065'\n",
    "soup = url_to_soup(url)\n",
    "page = find_carpage(soup)\n",
    "\n",
    "toyota_altis=list()\n",
    "head = 'https://www.findcar.com.tw'\n",
    "for p in range(1,page+1):\n",
    "    print('current page =',p)\n",
    "    url = 'https://www.findcar.com.tw/datalist.aspx?u=1&b=72&m=1065&i='+str(p)\n",
    "    soup = url_to_soup(url)\n",
    "    target = soup.find_all('a','atitle cartitle')\n",
    "    for t in target:\n",
    "        car_url = head + t['href']\n",
    "        soup = url_to_soup(car_url)\n",
    "        detail = soup.find('ul','vehicle-details')('li')\n",
    "        onecar = parse_detail(detail)\n",
    "        onecar['link'] = car_url\n",
    "        toyota_altis.append(onecar)\n",
    "    if '為了提供關聯性最高的搜尋結果，我們省略了部分的查詢結果' in str(soup):\n",
    "        break\n",
    "print('crawl end')\n",
    "with open('toyota_altis.pkl','wb') as f:\n",
    "    pickle.dump(toyota_altis,f)\n",
    "'''"
   ]
  },
  {
   "cell_type": "code",
   "execution_count": 28,
   "metadata": {},
   "outputs": [
    {
     "data": {
      "image/png": "[encoded data removed]",
      "text/plain": [
       "<Figure size 432x288 with 1 Axes>"
      ]
     },
     "metadata": {},
     "output_type": "display_data"
    }
   ],
   "source": [
    "# toyota altis\n",
    "import pickle\n",
    "with open('toyota_altis.pkl','rb') as f:\n",
    "    toyota_altis=pickle.load(f)\n",
    "\n",
    "x,y = get_xy(toyota_altis,'里程數')\n",
    "fit = np.polyfit(x,y,1)\n",
    "fit_fn = np.poly1d(fit)\n",
    "plt.plot(x,y,'g.')\n",
    "plt.plot(x, fit_fn(x), 'b')\n",
    "plt.xlabel('mileage(km)')\n",
    "plt.ylabel('price(10 thousand)')\n",
    "plt.title('toyota altis')\n",
    "plt.show()"
   ]
  },
  {
   "cell_type": "code",
   "execution_count": 29,
   "metadata": {},
   "outputs": [
    {
     "name": "stdout",
     "output_type": "stream",
     "text": [
      "https://www.findcar.com.tw/d/ZA4pZA0NEHg6lKfv\n"
     ]
    }
   ],
   "source": [
    "for i in toyota_altis:\n",
    "    if '里程數' in i.keys() and int(i['里程數'])>300000:\n",
    "        print(i['link'])"
   ]
  },
  {
   "cell_type": "markdown",
   "metadata": {},
   "source": [
    "# 合併兩張圖"
   ]
  },
  {
   "cell_type": "code",
   "execution_count": 30,
   "metadata": {},
   "outputs": [
    {
     "data": {
      "image/png": "[encoded data removed]",
      "text/plain": [
       "<Figure size 432x288 with 1 Axes>"
      ]
     },
     "metadata": {},
     "output_type": "display_data"
    }
   ],
   "source": [
    "#toyota_altis\n",
    "import pickle\n",
    "import numpy as np\n",
    "import matplotlib.pyplot as plt\n",
    "with open('toyota_altis.pkl','rb') as f:\n",
    "    toyota_altis=pickle.load(f)\n",
    "\n",
    "x,y = get_xy(toyota_altis,'里程數')    \n",
    "fit = np.polyfit(x,y,1)\n",
    "fit_fn = np.poly1d(fit)\n",
    "plt.plot(x,y,'g.')\n",
    "plt.plot(x, fit_fn(x), 'b')\n",
    "plt.xlabel('mileage(km)')\n",
    "plt.ylabel('price(10 thousand)')\n",
    "plt.show()"
   ]
  },
  {
   "cell_type": "code",
   "execution_count": 31,
   "metadata": {},
   "outputs": [
    {
     "data": {
      "image/png": "[encoded data removed]",
      "text/plain": [
       "<Figure size 432x288 with 1 Axes>"
      ]
     },
     "metadata": {},
     "output_type": "display_data"
    }
   ],
   "source": [
    "with open('benz_s.pkl','rb') as f:\n",
    "    benz_s=pickle.load(f)\n",
    "\n",
    "bx,by = get_xy(benz_s,'里程數')\n",
    "fit = np.polyfit(bx,by,1)\n",
    "fit_fn = np.poly1d(fit)\n",
    "plt.plot(bx,by,'k.')\n",
    "plt.plot(bx, fit_fn(bx), 'r')\n",
    "plt.xlabel('mileage(km)')\n",
    "plt.ylabel('price(10 thousand)')\n",
    "plt.show()"
   ]
  },
  {
   "cell_type": "code",
   "execution_count": 32,
   "metadata": {},
   "outputs": [
    {
     "data": {
      "image/png": "[encoded data removed]",
      "text/plain": [
       "<Figure size 432x288 with 1 Axes>"
      ]
     },
     "metadata": {},
     "output_type": "display_data"
    }
   ],
   "source": [
    "with open('toyota_altis.pkl','rb') as f:\n",
    "    toyota_altis=pickle.load(f)\n",
    "\n",
    "x,y = get_xy(toyota_altis,'里程數')    \n",
    "fit = np.polyfit(x,y,1)\n",
    "fit_fn = np.poly1d(fit)\n",
    "plt.plot(x,y,'g.')\n",
    "plt.plot(x, fit_fn(x), 'b',label='toyota altis') \n",
    "\n",
    "with open('benz_s.pkl','rb') as f:\n",
    "    benz_s=pickle.load(f)\n",
    "\n",
    "bx,by = get_xy(benz_s,'里程數')\n",
    "fit = np.polyfit(bx,by,1)\n",
    "fit_fn = np.poly1d(fit)\n",
    "plt.plot(bx,by,'k.')\n",
    "plt.plot(bx, fit_fn(bx), 'r',label='benz s-class')\n",
    "\n",
    "plt.legend(bbox_to_anchor=(1.05, 1), loc=2, borderaxespad=0.)\n",
    "\n",
    "plt.xlabel('mileage(km)')\n",
    "plt.ylabel('price(10 thousand)')\n",
    "plt.show()"
   ]
  },
  {
   "cell_type": "markdown",
   "metadata": {},
   "source": [
    "# Exercise:Pokemon"
   ]
  },
  {
   "cell_type": "code",
   "execution_count": 44,
   "metadata": {},
   "outputs": [
    {
     "name": "stdout",
     "output_type": "stream",
     "text": [
      "{'zukan_id': '006', 'zukan_sub_id': 1, 'pokemon_name': '超級噴火龍Ｘ', 'pokemon_sub_name': '', 'weight': 110.5, 'height': 1.7, 'file_name': '/img/pm/ca3db4aad5c85a525d9be86852b26db1db7a22c0.png', 'pokemon_type_id': 'fire,dragon', 'pokemon_type_name': '火,龍'}\n"
     ]
    }
   ],
   "source": [
    "import requests\n",
    "import json\n",
    "\n",
    "url = \"https://tw.portal-pokemon.com/play/pokedex/api/v1?pokemon_type_id[]=dragon&pokemon_ability_id=&zukan_id_from=1&zukan_id_to=807\"\n",
    "req = ( requests.get(url) ).json()\n",
    "\n",
    "print(req['pokemons'][0]) "
   ]
  },
  {
   "cell_type": "code",
   "execution_count": 45,
   "metadata": {},
   "outputs": [
    {
     "name": "stdout",
     "output_type": "stream",
     "text": [
      "['006_1', '103_1', '147_0', '148_0', '149_0', '181_1', '230_0', '254_1', '329_0', '330_0', '334_0', '334_1', '371_0', '372_0', '373_0', '373_1', '380_0', '380_1', '381_0', '381_1', '384_0', '384_1', '443_0', '444_0', '445_0', '445_1', '483_0', '484_0', '487_0', '487_1', '610_0', '611_0', '612_0', '621_0', '633_0', '634_0', '635_0', '643_0', '644_0', '646_0', '646_1', '646_2', '691_0', '696_0', '697_0', '704_0', '705_0', '706_0', '714_0', '715_0', '718_0', '718_1', '718_2', '776_0', '780_0', '782_0', '783_0', '784_0', '799_0', '800_3', '804_0']\n",
      "[4.705015520957808, 6.029723259225072, 1.1939224684724346, 2.803360380906535, 5.3471075307174685, 4.119037174812473, 5.0238805208462765, 4.01096295328305, 2.72785282839839, 4.406719247264253, 3.0252910757955354, 3.0252910757955354, 3.7400477406883357, 4.705015520957808, 4.630837932736669, 4.72384171570559, 3.6888794541139363, 3.9512437185814275, 4.0943445622221, 4.248495242049359, 5.330300412401088, 5.971261839790462, 3.0204248861443626, 4.02535169073515, 4.553876891600541, 4.553876891600541, 6.52649485957079, 5.817111159963204, 6.620073206530356, 6.476972362889683, 2.8903717578961645, 3.58351893845611, 4.658710952916121, 4.9344739331306915, 2.8507065015037334, 3.912023005428146, 5.075173815233827, 5.799092654460526, 5.84354441703136, 5.783825182329737, 5.783825182329737, 5.783825182329737, 4.400603020246817, 3.258096538021482, 5.598421958998375, 1.0296194171811581, 2.8622008809294686, 5.01396308418893, 2.0794415416798357, 4.442651256490317, 5.720311776607412, 3.5115454388310208, 6.413458957167357, 5.356586274672012, 5.220355825078324, 3.391147045808654, 3.8501476017100584, 4.359269647551265, 6.78897174299217, 5.438079308923196, 5.0106352940962555]\n"
     ]
    }
   ],
   "source": [
    "import math\n",
    "\n",
    "pokemon_id = [] \n",
    "pokemon_weight = [] \n",
    "for poke in req['pokemons']:\n",
    "    pokemon_id.append( str(poke['zukan_id']) + '_' + str(poke['zukan_sub_id']) )\n",
    "    pokemon_weight.append( math.log( poke['weight'] ) )\n",
    "\n",
    "print(pokemon_id)\n",
    "print(pokemon_weight)"
   ]
  },
  {
   "cell_type": "markdown",
   "metadata": {},
   "source": [
    "# 找出HP+防禦+特防的值"
   ]
  },
  {
   "cell_type": "code",
   "execution_count": 3,
   "metadata": {},
   "outputs": [
    {
     "name": "stdout",
     "output_type": "stream",
     "text": [
      "[<div class=\"pokemon-status__scale-box\">\n",
      "<span class=\"pokemon-status__scale\"></span>\n",
      "<span class=\"pokemon-status__scale\"></span>\n",
      "<span class=\"pokemon-status__scale\"></span>\n",
      "<span class=\"pokemon-status__scale\"></span>\n",
      "<span class=\"pokemon-status__scale\"></span>\n",
      "<span class=\"pokemon-status__scale\"></span>\n",
      "<span class=\"pokemon-status__scale\"></span>\n",
      "<span class=\"pokemon-status__scale d3\" v-bind:class=\"{ appear: isAppear }\"></span>\n",
      "<span class=\"pokemon-status__scale d2\" v-bind:class=\"{ appear: isAppear }\"></span>\n",
      "<span class=\"pokemon-status__scale d1\" v-bind:class=\"{ appear: isAppear }\"></span>\n",
      "</div>, <div class=\"pokemon-status__scale-box\">\n",
      "<span class=\"pokemon-status__scale\"></span>\n",
      "<span class=\"pokemon-status__scale\"></span>\n",
      "<span class=\"pokemon-status__scale\"></span>\n",
      "<span class=\"pokemon-status__scale\"></span>\n",
      "<span class=\"pokemon-status__scale\"></span>\n",
      "<span class=\"pokemon-status__scale d5\" v-bind:class=\"{ appear: isAppear }\"></span>\n",
      "<span class=\"pokemon-status__scale d4\" v-bind:class=\"{ appear: isAppear }\"></span>\n",
      "<span class=\"pokemon-status__scale d3\" v-bind:class=\"{ appear: isAppear }\"></span>\n",
      "<span class=\"pokemon-status__scale d2\" v-bind:class=\"{ appear: isAppear }\"></span>\n",
      "<span class=\"pokemon-status__scale d1\" v-bind:class=\"{ appear: isAppear }\"></span>\n",
      "</div>, <div class=\"pokemon-status__scale-box\">\n",
      "<span class=\"pokemon-status__scale\"></span>\n",
      "<span class=\"pokemon-status__scale\"></span>\n",
      "<span class=\"pokemon-status__scale\"></span>\n",
      "<span class=\"pokemon-status__scale\"></span>\n",
      "<span class=\"pokemon-status__scale\"></span>\n",
      "<span class=\"pokemon-status__scale\"></span>\n",
      "<span class=\"pokemon-status__scale\"></span>\n",
      "<span class=\"pokemon-status__scale d3\" v-bind:class=\"{ appear: isAppear }\"></span>\n",
      "<span class=\"pokemon-status__scale d2\" v-bind:class=\"{ appear: isAppear }\"></span>\n",
      "<span class=\"pokemon-status__scale d1\" v-bind:class=\"{ appear: isAppear }\"></span>\n",
      "</div>, <div class=\"pokemon-status__scale-box\">\n",
      "<span class=\"pokemon-status__scale\"></span>\n",
      "<span class=\"pokemon-status__scale\"></span>\n",
      "<span class=\"pokemon-status__scale d8\" v-bind:class=\"{ appear: isAppear }\"></span>\n",
      "<span class=\"pokemon-status__scale d7\" v-bind:class=\"{ appear: isAppear }\"></span>\n",
      "<span class=\"pokemon-status__scale d6\" v-bind:class=\"{ appear: isAppear }\"></span>\n",
      "<span class=\"pokemon-status__scale d5\" v-bind:class=\"{ appear: isAppear }\"></span>\n",
      "<span class=\"pokemon-status__scale d4\" v-bind:class=\"{ appear: isAppear }\"></span>\n",
      "<span class=\"pokemon-status__scale d3\" v-bind:class=\"{ appear: isAppear }\"></span>\n",
      "<span class=\"pokemon-status__scale d2\" v-bind:class=\"{ appear: isAppear }\"></span>\n",
      "<span class=\"pokemon-status__scale d1\" v-bind:class=\"{ appear: isAppear }\"></span>\n",
      "</div>, <div class=\"pokemon-status__scale-box\">\n",
      "<span class=\"pokemon-status__scale\"></span>\n",
      "<span class=\"pokemon-status__scale\"></span>\n",
      "<span class=\"pokemon-status__scale\"></span>\n",
      "<span class=\"pokemon-status__scale\"></span>\n",
      "<span class=\"pokemon-status__scale\"></span>\n",
      "<span class=\"pokemon-status__scale d5\" v-bind:class=\"{ appear: isAppear }\"></span>\n",
      "<span class=\"pokemon-status__scale d4\" v-bind:class=\"{ appear: isAppear }\"></span>\n",
      "<span class=\"pokemon-status__scale d3\" v-bind:class=\"{ appear: isAppear }\"></span>\n",
      "<span class=\"pokemon-status__scale d2\" v-bind:class=\"{ appear: isAppear }\"></span>\n",
      "<span class=\"pokemon-status__scale d1\" v-bind:class=\"{ appear: isAppear }\"></span>\n",
      "</div>, <div class=\"pokemon-status__scale-box\">\n",
      "<span class=\"pokemon-status__scale\"></span>\n",
      "<span class=\"pokemon-status__scale\"></span>\n",
      "<span class=\"pokemon-status__scale\"></span>\n",
      "<span class=\"pokemon-status__scale\"></span>\n",
      "<span class=\"pokemon-status__scale\"></span>\n",
      "<span class=\"pokemon-status__scale d5\" v-bind:class=\"{ appear: isAppear }\"></span>\n",
      "<span class=\"pokemon-status__scale d4\" v-bind:class=\"{ appear: isAppear }\"></span>\n",
      "<span class=\"pokemon-status__scale d3\" v-bind:class=\"{ appear: isAppear }\"></span>\n",
      "<span class=\"pokemon-status__scale d2\" v-bind:class=\"{ appear: isAppear }\"></span>\n",
      "<span class=\"pokemon-status__scale d1\" v-bind:class=\"{ appear: isAppear }\"></span>\n",
      "</div>]\n"
     ]
    }
   ],
   "source": [
    "from bs4 import BeautifulSoup\n",
    "from urllib.request import urlopen\n",
    "import re\n",
    "\n",
    "url1 = \"https://tw.portal-pokemon.com/play/pokedex/006_2\"\n",
    "html = urlopen(url1).read()\n",
    "s = BeautifulSoup(html,\"html.parser\")\n",
    "detail = s.find_all('div', 'pokemon-status__scale-box')\n",
    "print(detail)\n",
    "    \n",
    "\n",
    "\n"
   ]
  },
  {
   "cell_type": "markdown",
   "metadata": {},
   "source": [
    "# X軸重量 y軸坦度 畫出有迴歸線的圖 "
   ]
  },
  {
   "cell_type": "code",
   "execution_count": null,
   "metadata": {},
   "outputs": [],
   "source": [
    "import numpy as np\n",
    "import matplotlib.pyplot as plt\n",
    "\n"
   ]
  },
  {
   "cell_type": "code",
   "execution_count": null,
   "metadata": {},
   "outputs": [],
   "source": []
  }
 ],
 "metadata": {
  "anaconda-cloud": {},
  "kernelspec": {
   "display_name": "Python 3",
   "language": "python",
   "name": "python3"
  },
  "language_info": {
   "codemirror_mode": {
    "name": "ipython",
    "version": 3
   },
   "file_extension": ".py",
   "mimetype": "text/x-python",
   "name": "python",
   "nbconvert_exporter": "python",
   "pygments_lexer": "ipython3",
   "version": "3.7.3"
  }
 },
 "nbformat": 4,
 "nbformat_minor": 2
}
