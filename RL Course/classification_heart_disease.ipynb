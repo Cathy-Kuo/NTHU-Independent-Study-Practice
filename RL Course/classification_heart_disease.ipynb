{
 "cells": [
  {
   "cell_type": "markdown",
   "metadata": {},
   "source": [
    "## Dataset: Heart Disease \n",
    "#### 目標: 猜測是否有心臟疾病\n",
    "#### 特徵清單: \n",
    "10. age: continuous\n",
    "11. sex: categorical, 2 values {0: female, 1: male}\n",
    "12. cp (chest pain type): categorical, 4 values\n",
    "    {1: typical angina, 2: atypical angina, 3: non-angina, 4: asymptomatic angina}\n",
    "13. restbp (resting blood pressure on admission to hospital): continuous (mmHg)\n",
    "14. chol (serum cholesterol level): continuous (mg/dl)\n",
    "15. fbs (fasting blood sugar): categorical, 2 values {0: <= 120 mg/dl, 1: > 120 mg/dl}\n",
    "16. restecg (resting electrocardiography): categorical, 3 values\n",
    "    {0: normal, 1: ST-T wave abnormality, 2: left ventricular hypertrophy}\n",
    "17. thalach (maximum heart rate achieved): continuous\n",
    "18. exang (exercise induced angina): categorical, 2 values {0: no, 1: yes}\n",
    "19. oldpeak (ST depression induced by exercise relative to rest): continuous\n",
    "20. slope (slope of peak exercise ST segment): categorical, 3 values \n",
    "    {1: upsloping, 2: flat, 3: downsloping}\n",
    "21. ca (number of major vessels colored by fluoroscopy): discrete (0,1,2,3)\n",
    "22. thal: categorical, 3 values {3: normal, 6: fixed defect, 7: reversible defect}\n",
    "23. num (diagnosis of heart disease): categorical, 5 values \n",
    "    {0: less than 50% narrowing in any major vessel, \n",
    "    1-4: more than 50% narrowing in 1-4 vessels}"
   ]
  },
  {
   "cell_type": "markdown",
   "metadata": {},
   "source": [
    "<center style=\"color:blue;font-size:30px;font-family:Microsoft JhengHei\"> 跟著做1開頭</center>"
   ]
  },
  {
   "cell_type": "markdown",
   "metadata": {},
   "source": [
    "# <center > Load Data </center>"
   ]
  },
  {
   "cell_type": "code",
   "execution_count": 6,
   "metadata": {},
   "outputs": [],
   "source": [
    "from sklearn.metrics import accuracy_score\n",
    "from sklearn.metrics import precision_recall_fscore_support\n",
    "import matplotlib.pylab as plt\n",
    "import pandas as pd\n",
    "import numpy as np"
   ]
  },
  {
   "cell_type": "code",
   "execution_count": 7,
   "metadata": {},
   "outputs": [
    {
     "data": {
      "text/html": [
       "<div>\n",
       "<style scoped>\n",
       "    .dataframe tbody tr th:only-of-type {\n",
       "        vertical-align: middle;\n",
       "    }\n",
       "\n",
       "    .dataframe tbody tr th {\n",
       "        vertical-align: top;\n",
       "    }\n",
       "\n",
       "    .dataframe thead th {\n",
       "        text-align: right;\n",
       "    }\n",
       "</style>\n",
       "<table border=\"1\" class=\"dataframe\">\n",
       "  <thead>\n",
       "    <tr style=\"text-align: right;\">\n",
       "      <th></th>\n",
       "      <th>age</th>\n",
       "      <th>sex</th>\n",
       "      <th>cp</th>\n",
       "      <th>restbp</th>\n",
       "      <th>chol</th>\n",
       "      <th>fbs</th>\n",
       "      <th>restecg</th>\n",
       "      <th>thalach</th>\n",
       "      <th>exang</th>\n",
       "      <th>oldpeak</th>\n",
       "      <th>slope</th>\n",
       "      <th>ca</th>\n",
       "      <th>thal</th>\n",
       "      <th>num</th>\n",
       "    </tr>\n",
       "  </thead>\n",
       "  <tbody>\n",
       "    <tr>\n",
       "      <th>0</th>\n",
       "      <td>63.0</td>\n",
       "      <td>1.0</td>\n",
       "      <td>1.0</td>\n",
       "      <td>145.0</td>\n",
       "      <td>233.0</td>\n",
       "      <td>1.0</td>\n",
       "      <td>2.0</td>\n",
       "      <td>150.0</td>\n",
       "      <td>0.0</td>\n",
       "      <td>2.3</td>\n",
       "      <td>3.0</td>\n",
       "      <td>0.0</td>\n",
       "      <td>6.0</td>\n",
       "      <td>0</td>\n",
       "    </tr>\n",
       "    <tr>\n",
       "      <th>1</th>\n",
       "      <td>67.0</td>\n",
       "      <td>1.0</td>\n",
       "      <td>4.0</td>\n",
       "      <td>160.0</td>\n",
       "      <td>286.0</td>\n",
       "      <td>0.0</td>\n",
       "      <td>2.0</td>\n",
       "      <td>108.0</td>\n",
       "      <td>1.0</td>\n",
       "      <td>1.5</td>\n",
       "      <td>2.0</td>\n",
       "      <td>3.0</td>\n",
       "      <td>3.0</td>\n",
       "      <td>1</td>\n",
       "    </tr>\n",
       "    <tr>\n",
       "      <th>2</th>\n",
       "      <td>37.0</td>\n",
       "      <td>1.0</td>\n",
       "      <td>3.0</td>\n",
       "      <td>130.0</td>\n",
       "      <td>250.0</td>\n",
       "      <td>0.0</td>\n",
       "      <td>0.0</td>\n",
       "      <td>187.0</td>\n",
       "      <td>0.0</td>\n",
       "      <td>3.5</td>\n",
       "      <td>3.0</td>\n",
       "      <td>0.0</td>\n",
       "      <td>3.0</td>\n",
       "      <td>0</td>\n",
       "    </tr>\n",
       "    <tr>\n",
       "      <th>3</th>\n",
       "      <td>41.0</td>\n",
       "      <td>0.0</td>\n",
       "      <td>2.0</td>\n",
       "      <td>130.0</td>\n",
       "      <td>204.0</td>\n",
       "      <td>0.0</td>\n",
       "      <td>2.0</td>\n",
       "      <td>172.0</td>\n",
       "      <td>0.0</td>\n",
       "      <td>1.4</td>\n",
       "      <td>1.0</td>\n",
       "      <td>0.0</td>\n",
       "      <td>3.0</td>\n",
       "      <td>0</td>\n",
       "    </tr>\n",
       "    <tr>\n",
       "      <th>4</th>\n",
       "      <td>56.0</td>\n",
       "      <td>1.0</td>\n",
       "      <td>2.0</td>\n",
       "      <td>120.0</td>\n",
       "      <td>236.0</td>\n",
       "      <td>0.0</td>\n",
       "      <td>0.0</td>\n",
       "      <td>178.0</td>\n",
       "      <td>0.0</td>\n",
       "      <td>0.8</td>\n",
       "      <td>1.0</td>\n",
       "      <td>0.0</td>\n",
       "      <td>3.0</td>\n",
       "      <td>0</td>\n",
       "    </tr>\n",
       "  </tbody>\n",
       "</table>\n",
       "</div>"
      ],
      "text/plain": [
       "    age  sex   cp  restbp   chol  fbs  restecg  thalach  exang  oldpeak  \\\n",
       "0  63.0  1.0  1.0   145.0  233.0  1.0      2.0    150.0    0.0      2.3   \n",
       "1  67.0  1.0  4.0   160.0  286.0  0.0      2.0    108.0    1.0      1.5   \n",
       "2  37.0  1.0  3.0   130.0  250.0  0.0      0.0    187.0    0.0      3.5   \n",
       "3  41.0  0.0  2.0   130.0  204.0  0.0      2.0    172.0    0.0      1.4   \n",
       "4  56.0  1.0  2.0   120.0  236.0  0.0      0.0    178.0    0.0      0.8   \n",
       "\n",
       "   slope   ca thal  num  \n",
       "0    3.0  0.0  6.0    0  \n",
       "1    2.0  3.0  3.0    1  \n",
       "2    3.0  0.0  3.0    0  \n",
       "3    1.0  0.0  3.0    0  \n",
       "4    1.0  0.0  3.0    0  "
      ]
     },
     "execution_count": 7,
     "metadata": {},
     "output_type": "execute_result"
    }
   ],
   "source": [
    "df = pd.read_csv('cleveland.dat', header=None, sep=', ', engine='python')\n",
    "# columns setting\n",
    "df.columns = [\"age\", \"sex\", \"cp\", \"restbp\", \"chol\", \"fbs\", \"restecg\", \n",
    "              \"thalach\", \"exang\", \"oldpeak\", \"slope\", \"ca\", \"thal\", \"num\"]\n",
    "\n",
    "\n",
    "for i in range(1,5):\n",
    "    df['num'] = df['num'].replace(i,1)\n",
    "\n",
    "df.head() #show出前五筆資料"
   ]
  },
  {
   "cell_type": "markdown",
   "metadata": {},
   "source": [
    "# <center> Data Explore </center>"
   ]
  },
  {
   "cell_type": "code",
   "execution_count": 8,
   "metadata": {},
   "outputs": [
    {
     "data": {
      "text/html": [
       "<div>\n",
       "<style scoped>\n",
       "    .dataframe tbody tr th:only-of-type {\n",
       "        vertical-align: middle;\n",
       "    }\n",
       "\n",
       "    .dataframe tbody tr th {\n",
       "        vertical-align: top;\n",
       "    }\n",
       "\n",
       "    .dataframe thead th {\n",
       "        text-align: right;\n",
       "    }\n",
       "</style>\n",
       "<table border=\"1\" class=\"dataframe\">\n",
       "  <thead>\n",
       "    <tr style=\"text-align: right;\">\n",
       "      <th></th>\n",
       "      <th>age</th>\n",
       "      <th>sex</th>\n",
       "      <th>cp</th>\n",
       "      <th>restbp</th>\n",
       "      <th>chol</th>\n",
       "      <th>fbs</th>\n",
       "      <th>restecg</th>\n",
       "      <th>thalach</th>\n",
       "      <th>exang</th>\n",
       "      <th>oldpeak</th>\n",
       "      <th>slope</th>\n",
       "      <th>num</th>\n",
       "    </tr>\n",
       "  </thead>\n",
       "  <tbody>\n",
       "    <tr>\n",
       "      <th>count</th>\n",
       "      <td>303.000000</td>\n",
       "      <td>303.000000</td>\n",
       "      <td>303.000000</td>\n",
       "      <td>303.000000</td>\n",
       "      <td>303.000000</td>\n",
       "      <td>303.000000</td>\n",
       "      <td>303.000000</td>\n",
       "      <td>303.000000</td>\n",
       "      <td>303.000000</td>\n",
       "      <td>303.000000</td>\n",
       "      <td>303.000000</td>\n",
       "      <td>303.000000</td>\n",
       "    </tr>\n",
       "    <tr>\n",
       "      <th>mean</th>\n",
       "      <td>54.438944</td>\n",
       "      <td>0.679868</td>\n",
       "      <td>3.158416</td>\n",
       "      <td>131.689769</td>\n",
       "      <td>246.693069</td>\n",
       "      <td>0.148515</td>\n",
       "      <td>0.990099</td>\n",
       "      <td>149.607261</td>\n",
       "      <td>0.326733</td>\n",
       "      <td>1.039604</td>\n",
       "      <td>1.600660</td>\n",
       "      <td>0.458746</td>\n",
       "    </tr>\n",
       "    <tr>\n",
       "      <th>std</th>\n",
       "      <td>9.038662</td>\n",
       "      <td>0.467299</td>\n",
       "      <td>0.960126</td>\n",
       "      <td>17.599748</td>\n",
       "      <td>51.776918</td>\n",
       "      <td>0.356198</td>\n",
       "      <td>0.994971</td>\n",
       "      <td>22.875003</td>\n",
       "      <td>0.469794</td>\n",
       "      <td>1.161075</td>\n",
       "      <td>0.616226</td>\n",
       "      <td>0.499120</td>\n",
       "    </tr>\n",
       "    <tr>\n",
       "      <th>min</th>\n",
       "      <td>29.000000</td>\n",
       "      <td>0.000000</td>\n",
       "      <td>1.000000</td>\n",
       "      <td>94.000000</td>\n",
       "      <td>126.000000</td>\n",
       "      <td>0.000000</td>\n",
       "      <td>0.000000</td>\n",
       "      <td>71.000000</td>\n",
       "      <td>0.000000</td>\n",
       "      <td>0.000000</td>\n",
       "      <td>1.000000</td>\n",
       "      <td>0.000000</td>\n",
       "    </tr>\n",
       "    <tr>\n",
       "      <th>25%</th>\n",
       "      <td>48.000000</td>\n",
       "      <td>0.000000</td>\n",
       "      <td>3.000000</td>\n",
       "      <td>120.000000</td>\n",
       "      <td>211.000000</td>\n",
       "      <td>0.000000</td>\n",
       "      <td>0.000000</td>\n",
       "      <td>133.500000</td>\n",
       "      <td>0.000000</td>\n",
       "      <td>0.000000</td>\n",
       "      <td>1.000000</td>\n",
       "      <td>0.000000</td>\n",
       "    </tr>\n",
       "    <tr>\n",
       "      <th>50%</th>\n",
       "      <td>56.000000</td>\n",
       "      <td>1.000000</td>\n",
       "      <td>3.000000</td>\n",
       "      <td>130.000000</td>\n",
       "      <td>241.000000</td>\n",
       "      <td>0.000000</td>\n",
       "      <td>1.000000</td>\n",
       "      <td>153.000000</td>\n",
       "      <td>0.000000</td>\n",
       "      <td>0.800000</td>\n",
       "      <td>2.000000</td>\n",
       "      <td>0.000000</td>\n",
       "    </tr>\n",
       "    <tr>\n",
       "      <th>75%</th>\n",
       "      <td>61.000000</td>\n",
       "      <td>1.000000</td>\n",
       "      <td>4.000000</td>\n",
       "      <td>140.000000</td>\n",
       "      <td>275.000000</td>\n",
       "      <td>0.000000</td>\n",
       "      <td>2.000000</td>\n",
       "      <td>166.000000</td>\n",
       "      <td>1.000000</td>\n",
       "      <td>1.600000</td>\n",
       "      <td>2.000000</td>\n",
       "      <td>1.000000</td>\n",
       "    </tr>\n",
       "    <tr>\n",
       "      <th>max</th>\n",
       "      <td>77.000000</td>\n",
       "      <td>1.000000</td>\n",
       "      <td>4.000000</td>\n",
       "      <td>200.000000</td>\n",
       "      <td>564.000000</td>\n",
       "      <td>1.000000</td>\n",
       "      <td>2.000000</td>\n",
       "      <td>202.000000</td>\n",
       "      <td>1.000000</td>\n",
       "      <td>6.200000</td>\n",
       "      <td>3.000000</td>\n",
       "      <td>1.000000</td>\n",
       "    </tr>\n",
       "  </tbody>\n",
       "</table>\n",
       "</div>"
      ],
      "text/plain": [
       "              age         sex          cp      restbp        chol         fbs  \\\n",
       "count  303.000000  303.000000  303.000000  303.000000  303.000000  303.000000   \n",
       "mean    54.438944    0.679868    3.158416  131.689769  246.693069    0.148515   \n",
       "std      9.038662    0.467299    0.960126   17.599748   51.776918    0.356198   \n",
       "min     29.000000    0.000000    1.000000   94.000000  126.000000    0.000000   \n",
       "25%     48.000000    0.000000    3.000000  120.000000  211.000000    0.000000   \n",
       "50%     56.000000    1.000000    3.000000  130.000000  241.000000    0.000000   \n",
       "75%     61.000000    1.000000    4.000000  140.000000  275.000000    0.000000   \n",
       "max     77.000000    1.000000    4.000000  200.000000  564.000000    1.000000   \n",
       "\n",
       "          restecg     thalach       exang     oldpeak       slope         num  \n",
       "count  303.000000  303.000000  303.000000  303.000000  303.000000  303.000000  \n",
       "mean     0.990099  149.607261    0.326733    1.039604    1.600660    0.458746  \n",
       "std      0.994971   22.875003    0.469794    1.161075    0.616226    0.499120  \n",
       "min      0.000000   71.000000    0.000000    0.000000    1.000000    0.000000  \n",
       "25%      0.000000  133.500000    0.000000    0.000000    1.000000    0.000000  \n",
       "50%      1.000000  153.000000    0.000000    0.800000    2.000000    0.000000  \n",
       "75%      2.000000  166.000000    1.000000    1.600000    2.000000    1.000000  \n",
       "max      2.000000  202.000000    1.000000    6.200000    3.000000    1.000000  "
      ]
     },
     "execution_count": 8,
     "metadata": {},
     "output_type": "execute_result"
    }
   ],
   "source": [
    "#欄位的各個統計值\n",
    "df.describe()"
   ]
  },
  {
   "cell_type": "markdown",
   "metadata": {},
   "source": [
    "<br>\n",
    "<center style=\"color:blue;font-size:25px;font-family:Microsoft JhengHei\"> 改改看畫age與chol </center>"
   ]
  },
  {
   "cell_type": "code",
   "execution_count": 9,
   "metadata": {},
   "outputs": [
    {
     "data": {
      "image/png": "[encoded data removed]",
      "text/plain": [
       "<Figure size 720x720 with 4 Axes>"
      ]
     },
     "metadata": {
      "needs_background": "light"
     },
     "output_type": "display_data"
    }
   ],
   "source": [
    "fig, axes = plt.subplots( nrows=2, ncols=2, figsize=(10,10) )\n",
    "plt.suptitle(\"Correlations\", fontsize=20)\n",
    "axes[0,0].scatter(df[df.num==1].age,df[df.num==1].thalach,color=[\"crimson\"],s=20,alpha=0.8,label=\"disease\")\n",
    "axes[0,0].scatter(df[df.num==0].age,df[df.num==0].thalach,color=[\"chartreuse\"],s=20,label=\"no disease\")\n",
    "axes[0,0].set_xlabel(\"age\")\n",
    "axes[0,0].set_ylabel(\"thalach\")\n",
    "axes[0,0].legend(prop={'size': 10},loc=\"lower left\") #圖例setting\n",
    "\n",
    "axes[0,1].scatter(df[df.num==1].age,df[df.num==1].restbp,color=[\"crimson\"],s=20,alpha=0.8,label=\"disease\")\n",
    "axes[0,1].scatter(df[df.num==0].age,df[df.num==0].restbp,color=[\"chartreuse\"],s=20,label=\"no disease\")\n",
    "axes[0,1].set_xlabel(\"age\")\n",
    "axes[0,1].set_ylabel(\"restbp\")\n",
    "\n",
    "axes[1,0].scatter(df[df.num==1].age,df[df.num==1].oldpeak,color=[\"crimson\"],s=20,alpha=0.8,label=\"disease\")\n",
    "axes[1,0].scatter(df[df.num==0].age,df[df.num==0].oldpeak,color=[\"chartreuse\"],s=20,label=\"no disease\")\n",
    "axes[1,0].set_xlabel(\"age\")\n",
    "axes[1,0].set_ylabel(\"oldpeak\")\n",
    "\n",
    "axes[1,1].scatter(df[df.num==1].thalach,df[df.num==1].oldpeak,color=[\"crimson\"],s=20,alpha=0.8,label=\"disease\")\n",
    "axes[1,1].scatter(df[df.num==0].thalach,df[df.num==0].oldpeak,color=[\"chartreuse\"],s=20,label=\"no disease\")\n",
    "axes[1,1].set_xlabel(\"thalach\")\n",
    "axes[1,1].set_ylabel(\"oldpeak\")\n",
    "\n",
    "plt.show()"
   ]
  },
  {
   "cell_type": "markdown",
   "metadata": {},
   "source": [
    "# <center> Data Preprocessing </center>"
   ]
  },
  {
   "cell_type": "markdown",
   "metadata": {},
   "source": [
    "<center style=\"color:blue;font-size:30px;font-family:Microsoft JhengHei\"> 跟著做2開頭 </center>\n"
   ]
  },
  {
   "cell_type": "markdown",
   "metadata": {},
   "source": [
    "## 處理異常值"
   ]
  },
  {
   "cell_type": "code",
   "execution_count": 10,
   "metadata": {},
   "outputs": [
    {
     "data": {
      "text/plain": [
       "age        float64\n",
       "sex        float64\n",
       "cp         float64\n",
       "restbp     float64\n",
       "chol       float64\n",
       "fbs        float64\n",
       "restecg    float64\n",
       "thalach    float64\n",
       "exang      float64\n",
       "oldpeak    float64\n",
       "slope      float64\n",
       "ca          object\n",
       "thal        object\n",
       "num          int64\n",
       "dtype: object"
      ]
     },
     "execution_count": 10,
     "metadata": {},
     "output_type": "execute_result"
    }
   ],
   "source": [
    "#觀察每個欄位的型態(發現thal, ca有異常值)\n",
    "df.dtypes"
   ]
  },
  {
   "cell_type": "code",
   "execution_count": 11,
   "metadata": {
    "scrolled": true
   },
   "outputs": [
    {
     "name": "stdout",
     "output_type": "stream",
     "text": [
      "?  index: 154\n",
      "?  index: 177\n",
      "?  index: 261\n",
      "?  index: 272\n"
     ]
    }
   ],
   "source": [
    "for i in range(len(df['ca'].tolist())):\n",
    "    val = df['ca'][i]\n",
    "    if (val != '0.0') and (val != '1.0') and (val != '2.0') and (val != '3.0'):\n",
    "        print(val,\" index:\", i)"
   ]
  },
  {
   "cell_type": "code",
   "execution_count": 12,
   "metadata": {
    "scrolled": false
   },
   "outputs": [
    {
     "name": "stdout",
     "output_type": "stream",
     "text": [
      "?  index: 81\n",
      "?  index: 244\n"
     ]
    }
   ],
   "source": [
    "for i in range(len(df['thal'].tolist())):\n",
    "    val = df['thal'][i]\n",
    "    if (val != '3.0') and (val != '6.0') and (val != '7.0'):\n",
    "        print(val,\" index:\", i)"
   ]
  },
  {
   "cell_type": "code",
   "execution_count": 13,
   "metadata": {},
   "outputs": [
    {
     "data": {
      "text/html": [
       "<div>\n",
       "<style scoped>\n",
       "    .dataframe tbody tr th:only-of-type {\n",
       "        vertical-align: middle;\n",
       "    }\n",
       "\n",
       "    .dataframe tbody tr th {\n",
       "        vertical-align: top;\n",
       "    }\n",
       "\n",
       "    .dataframe thead th {\n",
       "        text-align: right;\n",
       "    }\n",
       "</style>\n",
       "<table border=\"1\" class=\"dataframe\">\n",
       "  <thead>\n",
       "    <tr style=\"text-align: right;\">\n",
       "      <th></th>\n",
       "      <th>age</th>\n",
       "      <th>sex</th>\n",
       "      <th>cp</th>\n",
       "      <th>restbp</th>\n",
       "      <th>chol</th>\n",
       "      <th>fbs</th>\n",
       "      <th>restecg</th>\n",
       "      <th>thalach</th>\n",
       "      <th>exang</th>\n",
       "      <th>oldpeak</th>\n",
       "      <th>slope</th>\n",
       "      <th>ca</th>\n",
       "      <th>thal</th>\n",
       "      <th>num</th>\n",
       "    </tr>\n",
       "  </thead>\n",
       "  <tbody>\n",
       "    <tr>\n",
       "      <th>154</th>\n",
       "      <td>52.0</td>\n",
       "      <td>1.0</td>\n",
       "      <td>3.0</td>\n",
       "      <td>138.0</td>\n",
       "      <td>223.0</td>\n",
       "      <td>0.0</td>\n",
       "      <td>0.0</td>\n",
       "      <td>169.0</td>\n",
       "      <td>0.0</td>\n",
       "      <td>0.0</td>\n",
       "      <td>1.0</td>\n",
       "      <td>?</td>\n",
       "      <td>3.0</td>\n",
       "      <td>0</td>\n",
       "    </tr>\n",
       "  </tbody>\n",
       "</table>\n",
       "</div>"
      ],
      "text/plain": [
       "      age  sex   cp  restbp   chol  fbs  restecg  thalach  exang  oldpeak  \\\n",
       "154  52.0  1.0  3.0   138.0  223.0  0.0      0.0    169.0    0.0      0.0   \n",
       "\n",
       "     slope ca thal  num  \n",
       "154    1.0  ?  3.0    0  "
      ]
     },
     "execution_count": 13,
     "metadata": {},
     "output_type": "execute_result"
    }
   ],
   "source": [
    "df.iloc[154:155]"
   ]
  },
  {
   "cell_type": "code",
   "execution_count": 14,
   "metadata": {},
   "outputs": [
    {
     "data": {
      "text/html": [
       "<div>\n",
       "<style scoped>\n",
       "    .dataframe tbody tr th:only-of-type {\n",
       "        vertical-align: middle;\n",
       "    }\n",
       "\n",
       "    .dataframe tbody tr th {\n",
       "        vertical-align: top;\n",
       "    }\n",
       "\n",
       "    .dataframe thead th {\n",
       "        text-align: right;\n",
       "    }\n",
       "</style>\n",
       "<table border=\"1\" class=\"dataframe\">\n",
       "  <thead>\n",
       "    <tr style=\"text-align: right;\">\n",
       "      <th></th>\n",
       "      <th>age</th>\n",
       "      <th>sex</th>\n",
       "      <th>cp</th>\n",
       "      <th>restbp</th>\n",
       "      <th>chol</th>\n",
       "      <th>fbs</th>\n",
       "      <th>restecg</th>\n",
       "      <th>thalach</th>\n",
       "      <th>exang</th>\n",
       "      <th>oldpeak</th>\n",
       "      <th>slope</th>\n",
       "      <th>ca</th>\n",
       "      <th>thal</th>\n",
       "      <th>num</th>\n",
       "    </tr>\n",
       "  </thead>\n",
       "  <tbody>\n",
       "    <tr>\n",
       "      <th>154</th>\n",
       "      <td>52.0</td>\n",
       "      <td>1.0</td>\n",
       "      <td>3.0</td>\n",
       "      <td>138.0</td>\n",
       "      <td>223.0</td>\n",
       "      <td>0.0</td>\n",
       "      <td>0.0</td>\n",
       "      <td>169.0</td>\n",
       "      <td>0.0</td>\n",
       "      <td>0.0</td>\n",
       "      <td>1.0</td>\n",
       "      <td>NaN</td>\n",
       "      <td>3.0</td>\n",
       "      <td>0</td>\n",
       "    </tr>\n",
       "  </tbody>\n",
       "</table>\n",
       "</div>"
      ],
      "text/plain": [
       "      age  sex   cp  restbp   chol  fbs  restecg  thalach  exang  oldpeak  \\\n",
       "154  52.0  1.0  3.0   138.0  223.0  0.0      0.0    169.0    0.0      0.0   \n",
       "\n",
       "     slope   ca thal  num  \n",
       "154    1.0  NaN  3.0    0  "
      ]
     },
     "execution_count": 14,
     "metadata": {},
     "output_type": "execute_result"
    }
   ],
   "source": [
    "df = df.replace('?', np.nan)\n",
    "df.iloc[154:155]"
   ]
  },
  {
   "cell_type": "markdown",
   "metadata": {},
   "source": [
    "## 處理 missing vale \n"
   ]
  },
  {
   "cell_type": "code",
   "execution_count": 15,
   "metadata": {},
   "outputs": [
    {
     "data": {
      "text/html": [
       "<div>\n",
       "<style scoped>\n",
       "    .dataframe tbody tr th:only-of-type {\n",
       "        vertical-align: middle;\n",
       "    }\n",
       "\n",
       "    .dataframe tbody tr th {\n",
       "        vertical-align: top;\n",
       "    }\n",
       "\n",
       "    .dataframe thead th {\n",
       "        text-align: right;\n",
       "    }\n",
       "</style>\n",
       "<table border=\"1\" class=\"dataframe\">\n",
       "  <thead>\n",
       "    <tr style=\"text-align: right;\">\n",
       "      <th></th>\n",
       "      <th>age</th>\n",
       "      <th>sex</th>\n",
       "      <th>cp</th>\n",
       "      <th>restbp</th>\n",
       "      <th>chol</th>\n",
       "      <th>fbs</th>\n",
       "      <th>restecg</th>\n",
       "      <th>thalach</th>\n",
       "      <th>exang</th>\n",
       "      <th>oldpeak</th>\n",
       "      <th>slope</th>\n",
       "      <th>ca</th>\n",
       "      <th>thal</th>\n",
       "    </tr>\n",
       "    <tr>\n",
       "      <th>num</th>\n",
       "      <th></th>\n",
       "      <th></th>\n",
       "      <th></th>\n",
       "      <th></th>\n",
       "      <th></th>\n",
       "      <th></th>\n",
       "      <th></th>\n",
       "      <th></th>\n",
       "      <th></th>\n",
       "      <th></th>\n",
       "      <th></th>\n",
       "      <th></th>\n",
       "      <th></th>\n",
       "    </tr>\n",
       "  </thead>\n",
       "  <tbody>\n",
       "    <tr>\n",
       "      <th>0</th>\n",
       "      <td>164</td>\n",
       "      <td>164</td>\n",
       "      <td>164</td>\n",
       "      <td>164</td>\n",
       "      <td>164</td>\n",
       "      <td>164</td>\n",
       "      <td>164</td>\n",
       "      <td>164</td>\n",
       "      <td>164</td>\n",
       "      <td>164</td>\n",
       "      <td>164</td>\n",
       "      <td>161</td>\n",
       "      <td>163</td>\n",
       "    </tr>\n",
       "    <tr>\n",
       "      <th>1</th>\n",
       "      <td>139</td>\n",
       "      <td>139</td>\n",
       "      <td>139</td>\n",
       "      <td>139</td>\n",
       "      <td>139</td>\n",
       "      <td>139</td>\n",
       "      <td>139</td>\n",
       "      <td>139</td>\n",
       "      <td>139</td>\n",
       "      <td>139</td>\n",
       "      <td>139</td>\n",
       "      <td>138</td>\n",
       "      <td>138</td>\n",
       "    </tr>\n",
       "  </tbody>\n",
       "</table>\n",
       "</div>"
      ],
      "text/plain": [
       "     age  sex   cp  restbp  chol  fbs  restecg  thalach  exang  oldpeak  \\\n",
       "num                                                                       \n",
       "0    164  164  164     164   164  164      164      164    164      164   \n",
       "1    139  139  139     139   139  139      139      139    139      139   \n",
       "\n",
       "     slope   ca  thal  \n",
       "num                    \n",
       "0      164  161   163  \n",
       "1      139  138   138  "
      ]
     },
     "execution_count": 15,
     "metadata": {},
     "output_type": "execute_result"
    }
   ],
   "source": [
    "#針對num欄位觀察其他欄位數量 \n",
    "df.groupby('num').count()"
   ]
  },
  {
   "cell_type": "code",
   "execution_count": 16,
   "metadata": {},
   "outputs": [
    {
     "data": {
      "text/html": [
       "<div>\n",
       "<style scoped>\n",
       "    .dataframe tbody tr th:only-of-type {\n",
       "        vertical-align: middle;\n",
       "    }\n",
       "\n",
       "    .dataframe tbody tr th {\n",
       "        vertical-align: top;\n",
       "    }\n",
       "\n",
       "    .dataframe thead th {\n",
       "        text-align: right;\n",
       "    }\n",
       "</style>\n",
       "<table border=\"1\" class=\"dataframe\">\n",
       "  <thead>\n",
       "    <tr style=\"text-align: right;\">\n",
       "      <th></th>\n",
       "      <th>age</th>\n",
       "      <th>sex</th>\n",
       "      <th>cp</th>\n",
       "      <th>restbp</th>\n",
       "      <th>chol</th>\n",
       "      <th>fbs</th>\n",
       "      <th>restecg</th>\n",
       "      <th>thalach</th>\n",
       "      <th>exang</th>\n",
       "      <th>oldpeak</th>\n",
       "      <th>slope</th>\n",
       "      <th>ca</th>\n",
       "      <th>thal</th>\n",
       "      <th>num</th>\n",
       "    </tr>\n",
       "  </thead>\n",
       "  <tbody>\n",
       "    <tr>\n",
       "      <th>154</th>\n",
       "      <td>52.0</td>\n",
       "      <td>1.0</td>\n",
       "      <td>3.0</td>\n",
       "      <td>138.0</td>\n",
       "      <td>223.0</td>\n",
       "      <td>0.0</td>\n",
       "      <td>0.0</td>\n",
       "      <td>169.0</td>\n",
       "      <td>0.0</td>\n",
       "      <td>0.0</td>\n",
       "      <td>1.0</td>\n",
       "      <td>NaN</td>\n",
       "      <td>3.0</td>\n",
       "      <td>0</td>\n",
       "    </tr>\n",
       "    <tr>\n",
       "      <th>177</th>\n",
       "      <td>43.0</td>\n",
       "      <td>1.0</td>\n",
       "      <td>4.0</td>\n",
       "      <td>132.0</td>\n",
       "      <td>247.0</td>\n",
       "      <td>1.0</td>\n",
       "      <td>2.0</td>\n",
       "      <td>143.0</td>\n",
       "      <td>1.0</td>\n",
       "      <td>0.1</td>\n",
       "      <td>2.0</td>\n",
       "      <td>NaN</td>\n",
       "      <td>7.0</td>\n",
       "      <td>1</td>\n",
       "    </tr>\n",
       "    <tr>\n",
       "      <th>261</th>\n",
       "      <td>58.0</td>\n",
       "      <td>1.0</td>\n",
       "      <td>2.0</td>\n",
       "      <td>125.0</td>\n",
       "      <td>220.0</td>\n",
       "      <td>0.0</td>\n",
       "      <td>0.0</td>\n",
       "      <td>144.0</td>\n",
       "      <td>0.0</td>\n",
       "      <td>0.4</td>\n",
       "      <td>2.0</td>\n",
       "      <td>NaN</td>\n",
       "      <td>7.0</td>\n",
       "      <td>0</td>\n",
       "    </tr>\n",
       "    <tr>\n",
       "      <th>272</th>\n",
       "      <td>38.0</td>\n",
       "      <td>1.0</td>\n",
       "      <td>3.0</td>\n",
       "      <td>138.0</td>\n",
       "      <td>175.0</td>\n",
       "      <td>0.0</td>\n",
       "      <td>0.0</td>\n",
       "      <td>173.0</td>\n",
       "      <td>0.0</td>\n",
       "      <td>0.0</td>\n",
       "      <td>1.0</td>\n",
       "      <td>NaN</td>\n",
       "      <td>3.0</td>\n",
       "      <td>0</td>\n",
       "    </tr>\n",
       "  </tbody>\n",
       "</table>\n",
       "</div>"
      ],
      "text/plain": [
       "      age  sex   cp  restbp   chol  fbs  restecg  thalach  exang  oldpeak  \\\n",
       "154  52.0  1.0  3.0   138.0  223.0  0.0      0.0    169.0    0.0      0.0   \n",
       "177  43.0  1.0  4.0   132.0  247.0  1.0      2.0    143.0    1.0      0.1   \n",
       "261  58.0  1.0  2.0   125.0  220.0  0.0      0.0    144.0    0.0      0.4   \n",
       "272  38.0  1.0  3.0   138.0  175.0  0.0      0.0    173.0    0.0      0.0   \n",
       "\n",
       "     slope   ca thal  num  \n",
       "154    1.0  NaN  3.0    0  \n",
       "177    2.0  NaN  7.0    1  \n",
       "261    2.0  NaN  7.0    0  \n",
       "272    1.0  NaN  3.0    0  "
      ]
     },
     "execution_count": 16,
     "metadata": {},
     "output_type": "execute_result"
    }
   ],
   "source": [
    "#針對 ca欄位檢查缺失值\n",
    "df[df['ca'].isnull()]"
   ]
  },
  {
   "cell_type": "markdown",
   "metadata": {},
   "source": [
    "#### 方法1 : 丟掉該筆資料"
   ]
  },
  {
   "cell_type": "code",
   "execution_count": 17,
   "metadata": {},
   "outputs": [],
   "source": [
    "# drop missing values\n",
    "df_drop = df.dropna()"
   ]
  },
  {
   "cell_type": "code",
   "execution_count": 18,
   "metadata": {},
   "outputs": [
    {
     "name": "stdout",
     "output_type": "stream",
     "text": [
      "before drop, data size:  303\n",
      "after drop, data size:  297\n"
     ]
    }
   ],
   "source": [
    "print('before drop, data size: ',len(df))\n",
    "print('after drop, data size: ',len(df_drop))"
   ]
  },
  {
   "cell_type": "markdown",
   "metadata": {},
   "source": [
    "#### 方法2 : 補缺值 (利用Imputer)\n",
    "(1)用mean值代替\n",
    "(2)用median代替\n",
    "(3)用most_frequent代替\n"
   ]
  },
  {
   "cell_type": "code",
   "execution_count": 19,
   "metadata": {},
   "outputs": [
    {
     "name": "stdout",
     "output_type": "stream",
     "text": [
      "<class 'pandas.core.frame.DataFrame'>\n",
      "RangeIndex: 303 entries, 0 to 302\n",
      "Data columns (total 14 columns):\n",
      "age        303 non-null float64\n",
      "sex        303 non-null float64\n",
      "cp         303 non-null float64\n",
      "restbp     303 non-null float64\n",
      "chol       303 non-null float64\n",
      "fbs        303 non-null float64\n",
      "restecg    303 non-null float64\n",
      "thalach    303 non-null float64\n",
      "exang      303 non-null float64\n",
      "oldpeak    303 non-null float64\n",
      "slope      303 non-null float64\n",
      "ca         303 non-null float64\n",
      "thal       303 non-null float64\n",
      "num        303 non-null float64\n",
      "dtypes: float64(14)\n",
      "memory usage: 33.2 KB\n"
     ]
    },
    {
     "name": "stderr",
     "output_type": "stream",
     "text": [
      "//anaconda3/lib/python3.7/site-packages/sklearn/utils/deprecation.py:66: DeprecationWarning: Class Imputer is deprecated; Imputer was deprecated in version 0.20 and will be removed in 0.22. Import impute.SimpleImputer from sklearn instead.\n",
      "  warnings.warn(msg, category=DeprecationWarning)\n"
     ]
    },
    {
     "data": {
      "text/html": [
       "<div>\n",
       "<style scoped>\n",
       "    .dataframe tbody tr th:only-of-type {\n",
       "        vertical-align: middle;\n",
       "    }\n",
       "\n",
       "    .dataframe tbody tr th {\n",
       "        vertical-align: top;\n",
       "    }\n",
       "\n",
       "    .dataframe thead th {\n",
       "        text-align: right;\n",
       "    }\n",
       "</style>\n",
       "<table border=\"1\" class=\"dataframe\">\n",
       "  <thead>\n",
       "    <tr style=\"text-align: right;\">\n",
       "      <th></th>\n",
       "      <th>age</th>\n",
       "      <th>sex</th>\n",
       "      <th>cp</th>\n",
       "      <th>restbp</th>\n",
       "      <th>chol</th>\n",
       "      <th>fbs</th>\n",
       "      <th>restecg</th>\n",
       "      <th>thalach</th>\n",
       "      <th>exang</th>\n",
       "      <th>oldpeak</th>\n",
       "      <th>slope</th>\n",
       "      <th>ca</th>\n",
       "      <th>thal</th>\n",
       "    </tr>\n",
       "    <tr>\n",
       "      <th>num</th>\n",
       "      <th></th>\n",
       "      <th></th>\n",
       "      <th></th>\n",
       "      <th></th>\n",
       "      <th></th>\n",
       "      <th></th>\n",
       "      <th></th>\n",
       "      <th></th>\n",
       "      <th></th>\n",
       "      <th></th>\n",
       "      <th></th>\n",
       "      <th></th>\n",
       "      <th></th>\n",
       "    </tr>\n",
       "  </thead>\n",
       "  <tbody>\n",
       "    <tr>\n",
       "      <th>0.0</th>\n",
       "      <td>164</td>\n",
       "      <td>164</td>\n",
       "      <td>164</td>\n",
       "      <td>164</td>\n",
       "      <td>164</td>\n",
       "      <td>164</td>\n",
       "      <td>164</td>\n",
       "      <td>164</td>\n",
       "      <td>164</td>\n",
       "      <td>164</td>\n",
       "      <td>164</td>\n",
       "      <td>164</td>\n",
       "      <td>164</td>\n",
       "    </tr>\n",
       "    <tr>\n",
       "      <th>1.0</th>\n",
       "      <td>139</td>\n",
       "      <td>139</td>\n",
       "      <td>139</td>\n",
       "      <td>139</td>\n",
       "      <td>139</td>\n",
       "      <td>139</td>\n",
       "      <td>139</td>\n",
       "      <td>139</td>\n",
       "      <td>139</td>\n",
       "      <td>139</td>\n",
       "      <td>139</td>\n",
       "      <td>139</td>\n",
       "      <td>139</td>\n",
       "    </tr>\n",
       "  </tbody>\n",
       "</table>\n",
       "</div>"
      ],
      "text/plain": [
       "     age  sex   cp  restbp  chol  fbs  restecg  thalach  exang  oldpeak  \\\n",
       "num                                                                       \n",
       "0.0  164  164  164     164   164  164      164      164    164      164   \n",
       "1.0  139  139  139     139   139  139      139      139    139      139   \n",
       "\n",
       "     slope   ca  thal  \n",
       "num                    \n",
       "0.0    164  164   164  \n",
       "1.0    139  139   139  "
      ]
     },
     "execution_count": 19,
     "metadata": {},
     "output_type": "execute_result"
    }
   ],
   "source": [
    "from sklearn.preprocessing import Imputer\n",
    "#df_impute.info()\n",
    "imr = Imputer(missing_values='NaN', strategy='most_frequent', axis=0) #strategy可以替換成mean或是median\n",
    "imr = imr.fit(df.values)\n",
    "imputed_data = imr.transform(df.values)\n",
    "\n",
    "df_impute = pd.DataFrame(imputed_data)\n",
    "df_impute.columns = df.columns\n",
    "\n",
    "df_impute.info()\n",
    "#針對num欄位觀察其他欄位數量\n",
    "df_impute.groupby('num').count()"
   ]
  },
  {
   "cell_type": "markdown",
   "metadata": {},
   "source": [
    "## 類別型資料做 one-hot encoding "
   ]
  },
  {
   "cell_type": "code",
   "execution_count": 20,
   "metadata": {},
   "outputs": [
    {
     "name": "stderr",
     "output_type": "stream",
     "text": [
      "//anaconda3/lib/python3.7/site-packages/ipykernel_launcher.py:4: SettingWithCopyWarning: \n",
      "A value is trying to be set on a copy of a slice from a DataFrame.\n",
      "Try using .loc[row_indexer,col_indexer] = value instead\n",
      "\n",
      "See the caveats in the documentation: http://pandas.pydata.org/pandas-docs/stable/indexing.html#indexing-view-versus-copy\n",
      "  after removing the cwd from sys.path.\n"
     ]
    },
    {
     "data": {
      "text/html": [
       "<div>\n",
       "<style scoped>\n",
       "    .dataframe tbody tr th:only-of-type {\n",
       "        vertical-align: middle;\n",
       "    }\n",
       "\n",
       "    .dataframe tbody tr th {\n",
       "        vertical-align: top;\n",
       "    }\n",
       "\n",
       "    .dataframe thead th {\n",
       "        text-align: right;\n",
       "    }\n",
       "</style>\n",
       "<table border=\"1\" class=\"dataframe\">\n",
       "  <thead>\n",
       "    <tr style=\"text-align: right;\">\n",
       "      <th></th>\n",
       "      <th>age</th>\n",
       "      <th>restbp</th>\n",
       "      <th>chol</th>\n",
       "      <th>thalach</th>\n",
       "      <th>oldpeak</th>\n",
       "      <th>num</th>\n",
       "      <th>sex_0.0</th>\n",
       "      <th>sex_1.0</th>\n",
       "      <th>cp_1.0</th>\n",
       "      <th>cp_2.0</th>\n",
       "      <th>...</th>\n",
       "      <th>slope_1.0</th>\n",
       "      <th>slope_2.0</th>\n",
       "      <th>slope_3.0</th>\n",
       "      <th>ca_0.0</th>\n",
       "      <th>ca_1.0</th>\n",
       "      <th>ca_2.0</th>\n",
       "      <th>ca_3.0</th>\n",
       "      <th>thal_3.0</th>\n",
       "      <th>thal_6.0</th>\n",
       "      <th>thal_7.0</th>\n",
       "    </tr>\n",
       "  </thead>\n",
       "  <tbody>\n",
       "    <tr>\n",
       "      <th>0</th>\n",
       "      <td>63.0</td>\n",
       "      <td>145.0</td>\n",
       "      <td>233.0</td>\n",
       "      <td>150.0</td>\n",
       "      <td>2.3</td>\n",
       "      <td>0.0</td>\n",
       "      <td>0</td>\n",
       "      <td>1</td>\n",
       "      <td>1</td>\n",
       "      <td>0</td>\n",
       "      <td>...</td>\n",
       "      <td>0</td>\n",
       "      <td>0</td>\n",
       "      <td>1</td>\n",
       "      <td>1</td>\n",
       "      <td>0</td>\n",
       "      <td>0</td>\n",
       "      <td>0</td>\n",
       "      <td>0</td>\n",
       "      <td>1</td>\n",
       "      <td>0</td>\n",
       "    </tr>\n",
       "    <tr>\n",
       "      <th>1</th>\n",
       "      <td>67.0</td>\n",
       "      <td>160.0</td>\n",
       "      <td>286.0</td>\n",
       "      <td>108.0</td>\n",
       "      <td>1.5</td>\n",
       "      <td>1.0</td>\n",
       "      <td>0</td>\n",
       "      <td>1</td>\n",
       "      <td>0</td>\n",
       "      <td>0</td>\n",
       "      <td>...</td>\n",
       "      <td>0</td>\n",
       "      <td>1</td>\n",
       "      <td>0</td>\n",
       "      <td>0</td>\n",
       "      <td>0</td>\n",
       "      <td>0</td>\n",
       "      <td>1</td>\n",
       "      <td>1</td>\n",
       "      <td>0</td>\n",
       "      <td>0</td>\n",
       "    </tr>\n",
       "    <tr>\n",
       "      <th>2</th>\n",
       "      <td>37.0</td>\n",
       "      <td>130.0</td>\n",
       "      <td>250.0</td>\n",
       "      <td>187.0</td>\n",
       "      <td>3.5</td>\n",
       "      <td>0.0</td>\n",
       "      <td>0</td>\n",
       "      <td>1</td>\n",
       "      <td>0</td>\n",
       "      <td>0</td>\n",
       "      <td>...</td>\n",
       "      <td>0</td>\n",
       "      <td>0</td>\n",
       "      <td>1</td>\n",
       "      <td>1</td>\n",
       "      <td>0</td>\n",
       "      <td>0</td>\n",
       "      <td>0</td>\n",
       "      <td>1</td>\n",
       "      <td>0</td>\n",
       "      <td>0</td>\n",
       "    </tr>\n",
       "    <tr>\n",
       "      <th>3</th>\n",
       "      <td>41.0</td>\n",
       "      <td>130.0</td>\n",
       "      <td>204.0</td>\n",
       "      <td>172.0</td>\n",
       "      <td>1.4</td>\n",
       "      <td>0.0</td>\n",
       "      <td>1</td>\n",
       "      <td>0</td>\n",
       "      <td>0</td>\n",
       "      <td>1</td>\n",
       "      <td>...</td>\n",
       "      <td>1</td>\n",
       "      <td>0</td>\n",
       "      <td>0</td>\n",
       "      <td>1</td>\n",
       "      <td>0</td>\n",
       "      <td>0</td>\n",
       "      <td>0</td>\n",
       "      <td>1</td>\n",
       "      <td>0</td>\n",
       "      <td>0</td>\n",
       "    </tr>\n",
       "    <tr>\n",
       "      <th>4</th>\n",
       "      <td>56.0</td>\n",
       "      <td>120.0</td>\n",
       "      <td>236.0</td>\n",
       "      <td>178.0</td>\n",
       "      <td>0.8</td>\n",
       "      <td>0.0</td>\n",
       "      <td>0</td>\n",
       "      <td>1</td>\n",
       "      <td>0</td>\n",
       "      <td>1</td>\n",
       "      <td>...</td>\n",
       "      <td>1</td>\n",
       "      <td>0</td>\n",
       "      <td>0</td>\n",
       "      <td>1</td>\n",
       "      <td>0</td>\n",
       "      <td>0</td>\n",
       "      <td>0</td>\n",
       "      <td>1</td>\n",
       "      <td>0</td>\n",
       "      <td>0</td>\n",
       "    </tr>\n",
       "  </tbody>\n",
       "</table>\n",
       "<p>5 rows × 29 columns</p>\n",
       "</div>"
      ],
      "text/plain": [
       "    age  restbp   chol  thalach  oldpeak  num  sex_0.0  sex_1.0  cp_1.0  \\\n",
       "0  63.0   145.0  233.0    150.0      2.3  0.0        0        1       1   \n",
       "1  67.0   160.0  286.0    108.0      1.5  1.0        0        1       0   \n",
       "2  37.0   130.0  250.0    187.0      3.5  0.0        0        1       0   \n",
       "3  41.0   130.0  204.0    172.0      1.4  0.0        1        0       0   \n",
       "4  56.0   120.0  236.0    178.0      0.8  0.0        0        1       0   \n",
       "\n",
       "   cp_2.0  ...  slope_1.0  slope_2.0  slope_3.0  ca_0.0  ca_1.0  ca_2.0  \\\n",
       "0       0  ...          0          0          1       1       0       0   \n",
       "1       0  ...          0          1          0       0       0       0   \n",
       "2       0  ...          0          0          1       1       0       0   \n",
       "3       1  ...          1          0          0       1       0       0   \n",
       "4       1  ...          1          0          0       1       0       0   \n",
       "\n",
       "   ca_3.0  thal_3.0  thal_6.0  thal_7.0  \n",
       "0       0         0         1         0  \n",
       "1       1         1         0         0  \n",
       "2       0         1         0         0  \n",
       "3       0         1         0         0  \n",
       "4       0         1         0         0  \n",
       "\n",
       "[5 rows x 29 columns]"
      ]
     },
     "execution_count": 20,
     "metadata": {},
     "output_type": "execute_result"
    }
   ],
   "source": [
    "#將類別型資料轉換為string型態(for get_dummies)\n",
    "for cat_feature in ['sex','cp','fbs','restecg','exang','slope','ca','thal']:\n",
    "    df_impute[cat_feature] = df_impute[cat_feature].astype(str)\n",
    "    df_drop[cat_feature] = df_drop[cat_feature].astype(str)\n",
    "# one-hot encoding\n",
    "df_preprocessed = pd.get_dummies(df_impute)\n",
    "df_preprocessed.head()"
   ]
  },
  {
   "cell_type": "markdown",
   "metadata": {},
   "source": [
    "<center style=\"color:blue;font-size:30px;font-family:Microsoft JhengHei\"> 跟著做3開頭 </center>\n",
    "<br>\n",
    "<center style=\"color:blue;font-size:25px;font-family:Microsoft JhengHei\"> 改改看 test_size </center>"
   ]
  },
  {
   "cell_type": "markdown",
   "metadata": {},
   "source": [
    "## 資料集切割\n",
    "#### 分成training data和 testing data"
   ]
  },
  {
   "cell_type": "code",
   "execution_count": 21,
   "metadata": {},
   "outputs": [
    {
     "name": "stdout",
     "output_type": "stream",
     "text": [
      "training data size: 242\n",
      "testing data size: 61\n"
     ]
    }
   ],
   "source": [
    "from sklearn.model_selection import train_test_split\n",
    "\n",
    "X=df_preprocessed.drop('num', axis=1).values\n",
    "Y=df_preprocessed['num'].values\n",
    "\n",
    "#get training and testing data\n",
    "X_train, X_test, y_train, y_test = train_test_split(X, Y, test_size=0.2, random_state=0)\n",
    "print('training data size:', len(X_train))\n",
    "print('testing data size:', len(X_test))\n",
    "\n",
    "#get features list\n",
    "features = np.array(df_preprocessed.columns)\n",
    "features = np.delete(features, np.where(features=='num')[0][0])\n",
    "features = features.tolist()"
   ]
  },
  {
   "cell_type": "markdown",
   "metadata": {},
   "source": [
    "## 資料標準化"
   ]
  },
  {
   "cell_type": "code",
   "execution_count": 22,
   "metadata": {},
   "outputs": [
    {
     "data": {
      "text/plain": [
       "array([[-0.75635158, -0.10203197, -0.04491364, ...,  0.882843  ,\n",
       "        -0.26607604, -0.76948376],\n",
       "       [ 0.21782568,  0.01123288, -0.77983499, ..., -1.13270423,\n",
       "        -0.26607604,  1.29957258],\n",
       "       [ 0.43430951,  2.16326508,  1.52162924, ..., -1.13270423,\n",
       "        -0.26607604,  1.29957258],\n",
       "       ...,\n",
       "       [-0.10690007, -1.2346805 , -0.16095385, ..., -1.13270423,\n",
       "        -0.26607604,  1.29957258],\n",
       "       [ 1.08376101, -0.66835624, -1.36003605, ..., -1.13270423,\n",
       "        -0.26607604,  1.29957258],\n",
       "       [ 1.19200293,  1.59694082, -0.0255736 , ..., -1.13270423,\n",
       "         3.75832409, -0.76948376]])"
      ]
     },
     "execution_count": 22,
     "metadata": {},
     "output_type": "execute_result"
    }
   ],
   "source": [
    "from sklearn.preprocessing import StandardScaler\n",
    "sc = StandardScaler()\n",
    "sc.fit(X_train)\n",
    "X_train_std = sc.transform(X_train)\n",
    "X_test_std = sc.transform(X_test)\n",
    "X_train_std"
   ]
  },
  {
   "cell_type": "markdown",
   "metadata": {},
   "source": [
    "# <center> Classification </center>\n"
   ]
  },
  {
   "cell_type": "markdown",
   "metadata": {},
   "source": [
    "<center style=\"color:blue;font-size:30px;font-family:Microsoft JhengHei\"> 跟著做4開頭 </center>\n",
    "<br>\n",
    "<center style=\"color:blue;font-size:25px;font-family:Microsoft JhengHei\"> 改改看max_depth</center>"
   ]
  },
  {
   "cell_type": "markdown",
   "metadata": {},
   "source": [
    "## Decision Tree"
   ]
  },
  {
   "cell_type": "code",
   "execution_count": 23,
   "metadata": {},
   "outputs": [
    {
     "name": "stdout",
     "output_type": "stream",
     "text": [
      "Decision tree testing result: [0. 0. 1. 0. 0. 1. 0. 1. 0. 1. 1. 0. 0. 0. 0. 0. 0. 1. 0. 1. 1. 0. 0. 0.\n",
      " 0. 1. 0. 1. 0. 0. 0. 1. 1. 1. 0. 0. 0. 0. 1. 0. 1. 0. 0. 1. 1. 1. 1. 0.\n",
      " 0. 1. 0. 1. 0. 0. 0. 1. 1. 0. 1. 0. 1.]\n",
      "Decision tree testing prob: [0.10526316 0.         0.9787234  0.10526316 0.26923077 1.\n",
      " 0.         0.75       0.13043478 1.         0.75       0.\n",
      " 0.         0.26923077 0.10526316 0.13043478 0.26923077 0.75\n",
      " 0.         0.9787234  0.9787234  0.         0.         0.\n",
      " 0.         1.         0.10526316 0.9787234  0.         0.\n",
      " 0.26923077 0.9787234  0.9787234  1.         0.         0.\n",
      " 0.13043478 0.         1.         0.42857143 0.75       0.\n",
      " 0.10526316 0.6        0.9787234  0.9787234  0.75       0.42857143\n",
      " 0.42857143 0.9787234  0.         0.6        0.         0.26923077\n",
      " 0.         0.9787234  0.9787234  0.42857143 1.         0.10526316\n",
      " 0.9787234 ]\n",
      "Misclassified samples: 13\n",
      "Accuracy: 0.7869\n"
     ]
    }
   ],
   "source": [
    "from sklearn.tree import DecisionTreeClassifier\n",
    "\n",
    "#train tree model\n",
    "tree = DecisionTreeClassifier(criterion='gini',max_depth=4)\n",
    "tree.fit(X_train_std,y_train)\n",
    "\n",
    "#predict\n",
    "y_pred_decision = tree.predict(X_test_std)\n",
    "y_predprob_decision = tree.predict_proba(X_test_std)\n",
    "y_predprob_po_decision = y_predprob_decision[:,1]\n",
    "print('Decision tree testing result:',y_pred_decision)\n",
    "print('Decision tree testing prob:', y_predprob_po_decision)\n",
    "print('Misclassified samples: %d' % (y_test != y_pred_decision).sum())\n",
    "print('Accuracy: %.4f' % accuracy_score(y_test, y_pred_decision))"
   ]
  },
  {
   "cell_type": "markdown",
   "metadata": {},
   "source": [
    "<center style=\"color:blue;font-size:30px;font-family:Microsoft JhengHei\"> 跟著做5開頭 </center>"
   ]
  },
  {
   "cell_type": "markdown",
   "metadata": {},
   "source": [
    "## linear SVM"
   ]
  },
  {
   "cell_type": "code",
   "execution_count": 24,
   "metadata": {},
   "outputs": [
    {
     "name": "stdout",
     "output_type": "stream",
     "text": [
      "Linear SVM testing result: [0. 0. 1. 0. 1. 1. 0. 1. 0. 1. 1. 0. 0. 0. 0. 0. 0. 1. 0. 1. 1. 0. 1. 0.\n",
      " 0. 1. 0. 1. 0. 0. 1. 1. 1. 1. 0. 0. 0. 0. 0. 1. 1. 0. 0. 0. 1. 1. 1. 0.\n",
      " 0. 1. 0. 0. 0. 0. 0. 1. 1. 1. 1. 0. 1.]\n",
      "Linear SVM testing prob: [0.37305713 0.24294179 0.74688697 0.26184197 0.59125278 0.50885471\n",
      " 0.0716344  0.93482452 0.46588325 0.5268157  0.94507917 0.07211191\n",
      " 0.15473651 0.26933395 0.30514189 0.06170055 0.23365513 0.89612767\n",
      " 0.06423759 0.84962625 0.95587383 0.3441784  0.56389543 0.12935685\n",
      " 0.06632049 0.80130316 0.39218882 0.89395079 0.07786027 0.41717728\n",
      " 0.61119223 0.94069486 0.93118284 0.86120625 0.12162292 0.07382544\n",
      " 0.04230384 0.06101757 0.15105073 0.64744608 0.78097106 0.0485342\n",
      " 0.25431217 0.12232731 0.88451858 0.74463615 0.9753381  0.3499474\n",
      " 0.46206264 0.86954856 0.17556252 0.22331774 0.21825361 0.3337392\n",
      " 0.07951758 0.85018294 0.89995881 0.56589445 0.84140335 0.23106621\n",
      " 0.90749721]\n",
      "Misclassified samples: 5\n",
      "Accuracy: 0.9180\n"
     ]
    }
   ],
   "source": [
    "from sklearn.svm import SVC\n",
    "\n",
    "#train model\n",
    "svm_linear = SVC(kernel='linear', random_state=0, probability=True) \n",
    "svm_linear.fit(X_train_std, y_train) # 餵入training data，並訓練出分類器'svm_linear'\n",
    "\n",
    "#predict\n",
    "y_pred_linear = svm_linear.predict(X_test_std) #testing data餵入分類器'svm_linear'，得到每筆的預測結果'y_pred'\n",
    "y_predprob_linear = svm_linear.predict_proba(X_test_std)\n",
    "y_predprob_po_linear =  y_predprob_linear[:,1]\n",
    "print('Linear SVM testing result:',y_pred_linear)\n",
    "print('Linear SVM testing prob:', y_predprob_po_linear)\n",
    "print('Misclassified samples: %d' % (y_test != y_pred_linear).sum()) \n",
    "print('Accuracy: %.4f' % accuracy_score(y_test, y_pred_linear)) #評估正確性"
   ]
  },
  {
   "cell_type": "markdown",
   "metadata": {},
   "source": [
    "## RBF SVM"
   ]
  },
  {
   "cell_type": "code",
   "execution_count": 25,
   "metadata": {},
   "outputs": [
    {
     "name": "stdout",
     "output_type": "stream",
     "text": [
      "RBF SVM testing result: [0. 0. 1. 0. 1. 1. 0. 1. 1. 1. 1. 0. 0. 0. 0. 0. 0. 1. 0. 1. 1. 0. 1. 0.\n",
      " 0. 1. 0. 1. 0. 1. 0. 1. 1. 1. 0. 0. 0. 0. 0. 1. 0. 0. 0. 0. 1. 1. 1. 0.\n",
      " 1. 1. 0. 0. 0. 0. 0. 1. 1. 1. 1. 0. 1.]\n",
      "RBF SVM testing prob: [0.37468156 0.31013714 0.80531763 0.21877712 0.722229   0.60340742\n",
      " 0.05839594 0.87093463 0.5960973  0.75140191 0.79788461 0.04920158\n",
      " 0.10022622 0.21328977 0.18666372 0.08300759 0.21752073 0.84349844\n",
      " 0.05021659 0.87163831 0.9652219  0.50992317 0.71203426 0.07432269\n",
      " 0.05796544 0.80256533 0.25448551 0.90884113 0.06702137 0.52668523\n",
      " 0.45016034 0.91823662 0.83369329 0.76279836 0.10345601 0.05177528\n",
      " 0.10075994 0.0773409  0.11567578 0.54108159 0.45553488 0.0680455\n",
      " 0.17701025 0.14557792 0.89099453 0.90308923 0.73838351 0.41774181\n",
      " 0.52444234 0.95432555 0.10809211 0.08170664 0.13281886 0.4824682\n",
      " 0.0654577  0.8493772  0.91973486 0.89109749 0.80810539 0.14261715\n",
      " 0.94193109]\n",
      "Misclassified samples: 6\n",
      "Accuracy: 0.9016\n"
     ]
    }
   ],
   "source": [
    "from sklearn.svm import SVC\n",
    "#train rbf model\n",
    "svm_rbf = SVC(kernel='rbf' ,C=2 ,random_state=0, probability=True) \n",
    "svm_rbf.fit(X_train_std, y_train)\n",
    "\n",
    "#predict\n",
    "y_pred_rbf = svm_rbf.predict(X_test_std)\n",
    "y_predprob_rbf = svm_rbf.predict_proba(X_test_std)\n",
    "y_predprob_po_rbf =  y_predprob_rbf[:,1]\n",
    "print('RBF SVM testing result:',y_pred_rbf)\n",
    "print('RBF SVM testing prob:',y_predprob_po_rbf)\n",
    "print('Misclassified samples: %d' % (y_test != y_pred_rbf).sum())\n",
    "print('Accuracy: %.4f' % accuracy_score(y_test, y_pred_rbf))\n"
   ]
  },
  {
   "cell_type": "markdown",
   "metadata": {},
   "source": [
    "# Exercise1: \n",
    "1. 試著改用未標準化的data 做 RBF SVM\n",
    "2. 並畫roc curve比較標準化前後"
   ]
  },
  {
   "cell_type": "code",
   "execution_count": 29,
   "metadata": {},
   "outputs": [
    {
     "name": "stdout",
     "output_type": "stream",
     "text": [
      "RBF SVM testing result: [0. 0. 0. 0. 0. 1. 0. 0. 0. 0. 0. 0. 0. 0. 0. 0. 0. 0. 0. 1. 1. 0. 0. 0.\n",
      " 0. 0. 0. 0. 0. 0. 0. 0. 0. 0. 0. 0. 0. 0. 0. 0. 0. 0. 0. 0. 1. 0. 0. 0.\n",
      " 0. 1. 0. 0. 0. 1. 0. 0. 0. 0. 0. 0. 0.]\n",
      "RBF SVM testing prob: [0.44130409 0.40533104 0.42635501 0.44098382 0.360194   0.57790776\n",
      " 0.41339521 0.44124804 0.33690463 0.43037818 0.44121562 0.44130257\n",
      " 0.3185047  0.43259963 0.34825459 0.44087533 0.44071821 0.44147261\n",
      " 0.42953303 0.48730848 0.53382338 0.44130409 0.41717566 0.44138464\n",
      " 0.42759588 0.44716376 0.41453143 0.44130409 0.44659482 0.45396146\n",
      " 0.44049574 0.44130759 0.4413146  0.41209006 0.44163187 0.37101802\n",
      " 0.44348684 0.44154504 0.44052523 0.42092538 0.44114394 0.46303506\n",
      " 0.44127429 0.44130629 0.52809391 0.44049381 0.44130409 0.43945635\n",
      " 0.44052347 0.59647765 0.44465186 0.43020527 0.44129894 0.56260944\n",
      " 0.37514223 0.4411382  0.44550438 0.44178439 0.44135297 0.44022453\n",
      " 0.43700901]\n",
      "Misclassified samples: 28\n",
      "Accuracy: 0.5410\n"
     ]
    },
    {
     "name": "stderr",
     "output_type": "stream",
     "text": [
      "//anaconda3/lib/python3.7/site-packages/sklearn/svm/base.py:193: FutureWarning: The default value of gamma will change from 'auto' to 'scale' in version 0.22 to account better for unscaled features. Set gamma explicitly to 'auto' or 'scale' to avoid this warning.\n",
      "  \"avoid this warning.\", FutureWarning)\n"
     ]
    }
   ],
   "source": [
    "from sklearn.svm import SVC\n",
    "#train rbf model\n",
    "svm_rbf = SVC(kernel='rbf' ,C=2 ,random_state=0, probability=True) \n",
    "svm_rbf.fit(X_train, y_train)\n",
    "\n",
    "#predict\n",
    "y_pred_rbf = svm_rbf.predict(X_test)\n",
    "y_predprob_rbf = svm_rbf.predict_proba(X_test)\n",
    "y_predprob_po_rbf =  y_predprob_rbf[:,1]\n",
    "print('RBF SVM testing result:',y_pred_rbf)\n",
    "print('RBF SVM testing prob:',y_predprob_po_rbf)\n",
    "print('Misclassified samples: %d' % (y_test != y_pred_rbf).sum())\n",
    "print('Accuracy: %.4f' % accuracy_score(y_test, y_pred_rbf))\n"
   ]
  },
  {
   "cell_type": "markdown",
   "metadata": {},
   "source": [
    "<center style=\"color:blue;font-size:30px;font-family:Microsoft JhengHei\"> 跟著做6開頭 </center>\n"
   ]
  },
  {
   "cell_type": "markdown",
   "metadata": {},
   "source": [
    "# <center> Cross Validation </center>"
   ]
  },
  {
   "cell_type": "markdown",
   "metadata": {},
   "source": [
    "### linear SVM"
   ]
  },
  {
   "cell_type": "code",
   "execution_count": 30,
   "metadata": {},
   "outputs": [
    {
     "name": "stdout",
     "output_type": "stream",
     "text": [
      "testing result: [0. 0. 1. 0. 1. 0. 0. 1. 1. 1. 1. 0. 0. 0. 0. 0. 0. 1. 0. 1. 1. 0. 1. 0.\n",
      " 0. 1. 0. 1. 0. 0. 1. 1. 1. 1. 0. 0. 0. 0. 0. 1. 1. 0. 0. 0. 1. 1. 1. 0.\n",
      " 0. 1. 0. 0. 0. 0. 0. 1. 1. 1. 1. 0. 1.]\n",
      "Misclassified samples: 5\n",
      "Accuracy: 0.9180\n",
      "\n",
      "==============================cross validation===========================================\n",
      "Cross Validation every accuracy:  [0.85245902 0.80327869 0.81967213 0.7704918  0.91525424]\n",
      "(Cross Validation)Accuracy: 0.8322 (+/- 0.0984)\n"
     ]
    }
   ],
   "source": [
    "from sklearn.model_selection import train_test_split\n",
    "from sklearn.preprocessing import StandardScaler\n",
    "from sklearn.svm import SVC\n",
    "#train model\n",
    "svm_linear = SVC(kernel='linear', C=2) \n",
    "svm_linear.fit(X_train_std, y_train) \n",
    "\n",
    "#predict\n",
    "y_pred = svm_linear.predict(X_test_std) \n",
    "print('testing result:',y_pred)\n",
    "print('Misclassified samples: %d' % (y_test != y_pred).sum()) \n",
    "print('Accuracy: %.4f' % accuracy_score(y_test, y_pred))\n",
    "\n",
    "print('\\n==============================cross validation===========================================')\n",
    "from sklearn.model_selection import cross_val_score\n",
    "X_std = np.concatenate((X_train_std, X_test_std), axis=0)\n",
    "y = np.concatenate((y_train, y_test), axis=0)\n",
    "\n",
    "svm_linear = SVC(kernel='linear', C=2)\n",
    "#cv:切割為cv份\n",
    "scores = cross_val_score(svm_linear, X_std, y, cv=5)\n",
    "print(\"Cross Validation every accuracy: \",scores)\n",
    "print(\"(Cross Validation)Accuracy: %0.4f (+/- %0.4f)\" % (scores.mean(), scores.std()*2))"
   ]
  },
  {
   "cell_type": "markdown",
   "metadata": {},
   "source": [
    "# Exersice2 : 10 fold cross validation on decision tree"
   ]
  },
  {
   "cell_type": "code",
   "execution_count": null,
   "metadata": {},
   "outputs": [],
   "source": []
  },
  {
   "cell_type": "markdown",
   "metadata": {},
   "source": [
    "<center style=\"color:blue;font-size:30px;font-family:Microsoft JhengHei\"> 跟著做7開頭 </center>\n",
    "<br>\n",
    "<center style=\"color:blue;font-size:20px;font-family:Microsoft JhengHei\"> 改改看 n_neighbors~ </center>"
   ]
  },
  {
   "cell_type": "markdown",
   "metadata": {},
   "source": [
    "### KNN\n",
    "- [sklearn的KNN參數參考](http://scikit-learn.org/stable/modules/generated/sklearn.neighbors.KNeighborsClassifier.html)\n",
    "```python\n",
    "# n_neighbors : Number of neighbors to use by default for k_neighbors queries.\n",
    "# p : Power parameter for the Minkowski metric. When p = 1, this is equivalent to using manhattan_distance (l1), and euclidean_distance (l2) for p = 2. For arbitrary p, minkowski_distance (l_p) is used.\n",
    "# n_jobs : The number of parallel jobs to run for neighbors search\n",
    "```"
   ]
  },
  {
   "cell_type": "code",
   "execution_count": 31,
   "metadata": {},
   "outputs": [
    {
     "name": "stdout",
     "output_type": "stream",
     "text": [
      "Misclassified sample: 12\n",
      "Accuracy: 0.8033\n"
     ]
    }
   ],
   "source": [
    "from sklearn.neighbors import KNeighborsClassifier\n",
    "knn = KNeighborsClassifier(n_neighbors = 5, p = 2)\n",
    "knn.fit(X_train_std,y_train)\n",
    "y_pred_knn = knn.predict(X_test_std)\n",
    "y_predprob_knn = knn.predict_proba(X_test_std)\n",
    "y_predprob_po_knn = y_predprob_knn[:,1]\n",
    "print(\"Misclassified sample: %d\" % (y_test != y_pred_knn).sum())\n",
    "print('Accuracy: %.4f' % accuracy_score(y_test, y_pred_knn))"
   ]
  },
  {
   "cell_type": "markdown",
   "metadata": {},
   "source": [
    "<center style=\"color:blue;font-size:30px;font-family:Microsoft JhengHei\"> 跟著做8開頭 </center>\n",
    "<br>\n",
    "<center style=\"color:blue;font-size:20px;font-family:Microsoft JhengHei\"> 改改看 n_estimators~ </center>"
   ]
  },
  {
   "cell_type": "markdown",
   "metadata": {},
   "source": [
    "## RandomForest\n",
    "- [sklearn的RandomForest參數參考](http://scikit-learn.org/stable/modules/generated/sklearn.ensemble.RandomForestClassifier.html\n",
    ")\n",
    "```python\n",
    "# criterion : impurity function\n",
    "# n_estimators :  number of decision trees\n",
    "# random_state : seed used by the random number generator\n",
    "# n_jobs : number of cores for parallelism\n",
    "```"
   ]
  },
  {
   "cell_type": "code",
   "execution_count": 31,
   "metadata": {},
   "outputs": [
    {
     "name": "stdout",
     "output_type": "stream",
     "text": [
      "Misclassified sample: 6\n",
      "Accuracy: 0.9016\n"
     ]
    }
   ],
   "source": [
    "from sklearn.ensemble import RandomForestClassifier\n",
    "forest = RandomForestClassifier(criterion='gini', n_estimators=20,random_state=1)\n",
    "forest.fit(X_train_std,y_train)\n",
    "y_pred_forest = forest.predict(X_test_std)\n",
    "y_predprob_forest = forest.predict_proba(X_test_std)\n",
    "y_predprob_po_forest = y_predprob_forest[:,1] \n",
    "print(\"Misclassified sample: %d\" % (y_test != y_pred_forest).sum())\n",
    "print('Accuracy: %.4f' % accuracy_score(y_test, y_pred_forest))"
   ]
  },
  {
   "cell_type": "markdown",
   "metadata": {},
   "source": [
    "## Adaboost\n",
    "- [sklearn的Adaboost參數參考](http://scikit-learn.org/stable/modules/generated/sklearn.ensemble.AdaBoostClassifier.html\n",
    ")\n"
   ]
  },
  {
   "cell_type": "code",
   "execution_count": 32,
   "metadata": {},
   "outputs": [
    {
     "name": "stdout",
     "output_type": "stream",
     "text": [
      "Misclassified sample: 11\n",
      "Accuracy: 0.8197\n"
     ]
    }
   ],
   "source": [
    "from sklearn.ensemble import AdaBoostClassifier\n",
    "AdaBoost = AdaBoostClassifier(n_estimators=10,random_state=0)\n",
    "AdaBoost.fit(X_train_std,y_train)\n",
    "y_pred_ada = AdaBoost.predict(X_test_std)\n",
    "y_predprob_ada = AdaBoost.predict_proba(X_test_std)\n",
    "y_predprob_po_ada = y_predprob_ada[:,1]\n",
    "print(\"Misclassified sample: %d\" % (y_test != y_pred_ada).sum())\n",
    "print('Accuracy: %.4f' % accuracy_score(y_test, y_pred_ada))"
   ]
  },
  {
   "cell_type": "code",
   "execution_count": 33,
   "metadata": {},
   "outputs": [
    {
     "name": "stdout",
     "output_type": "stream",
     "text": [
      "Misclassified sample: 7\n",
      "Accuracy: 0.8852\n"
     ]
    }
   ],
   "source": [
    "from sklearn.ensemble import GradientBoostingClassifier\n",
    "gbc = GradientBoostingClassifier(n_estimators=30, learning_rate=0.1, max_depth=3, random_state=0)\n",
    "gbc.fit(X_train_std,y_train)\n",
    "y_pred_gbc = gbc.predict(X_test_std)\n",
    "y_predprob_gbc = gbc.predict_proba(X_test_std)\n",
    "print(\"Misclassified sample: %d\" % (y_test != y_pred_gbc).sum())\n",
    "print('Accuracy: %.4f' % accuracy_score(y_test, y_pred_gbc))"
   ]
  },
  {
   "cell_type": "markdown",
   "metadata": {},
   "source": [
    "<center style=\"color:blue;font-size:30px;font-family:Microsoft JhengHei\"> 跟著做9開頭 </center>"
   ]
  },
  {
   "cell_type": "markdown",
   "metadata": {},
   "source": [
    "# <center> Feature Selection </center>"
   ]
  },
  {
   "cell_type": "markdown",
   "metadata": {},
   "source": [
    "### linear svm係數可作為feature重要性的指標"
   ]
  },
  {
   "cell_type": "code",
   "execution_count": 34,
   "metadata": {
    "scrolled": true
   },
   "outputs": [
    {
     "name": "stdout",
     "output_type": "stream",
     "text": [
      "Linear SVM testing result: [0. 0. 1. 0. 1. 0. 0. 1. 1. 1. 1. 0. 0. 0. 0. 0. 0. 1. 0. 1. 1. 0. 1. 0.\n",
      " 0. 1. 0. 1. 0. 0. 1. 1. 1. 1. 0. 0. 0. 0. 0. 1. 1. 0. 0. 0. 1. 1. 1. 0.\n",
      " 0. 1. 0. 0. 0. 0. 0. 1. 1. 1. 1. 0. 1.]\n",
      "Misclassified samples: 5\n",
      "Accuracy: 0.9180\n",
      "Cross Validation result scores [0.85245902 0.80327869 0.81967213 0.7704918  0.91525424]\n",
      "(Cross Validation) Accuracy: 0.8322 (+/- 0.0984)\n",
      "\n",
      "==============================feature selection============================================================\n",
      "Importance of features:\n",
      "   1) oldpeak                        0.480484\n",
      "   2) ca_0.0                         0.449613\n",
      "   3) cp_4.0                         0.396549\n",
      "   4) cp_1.0                         0.301686\n",
      "   5) cp_3.0                         0.300530\n",
      "   6) ca_2.0                         0.281088\n",
      "   7) restbp                         0.266998\n",
      "   8) thal_7.0                       0.244052\n",
      "   9) age                            0.204182\n",
      "  10) thal_3.0                       0.203957\n",
      "  11) sex_0.0                        0.198936\n",
      "  12) sex_1.0                        0.198936\n",
      "  13) ca_1.0                         0.197440\n",
      "  14) ca_3.0                         0.192284\n",
      "  15) slope_2.0                      0.171337\n",
      "  16) slope_1.0                      0.168907\n",
      "  17) exang_0.0                      0.167531\n",
      "  18) exang_1.0                      0.167531\n",
      "  19) chol                           0.114588\n",
      "  20) restecg_0.0                    0.103704\n",
      "After feature select\n",
      "Linear SVM testing result: [0. 0. 1. 0. 1. 1. 0. 1. 1. 0. 1. 0. 0. 0. 0. 0. 0. 1. 0. 1. 1. 0. 1. 0.\n",
      " 0. 1. 0. 1. 0. 0. 1. 1. 1. 1. 0. 0. 0. 0. 0. 1. 1. 0. 0. 0. 1. 1. 1. 0.\n",
      " 1. 1. 0. 0. 0. 0. 0. 1. 1. 1. 1. 0. 1.]\n",
      "Misclassified samples: 4\n",
      "(After feature select) Accuracy: 0.9344\n",
      "Cross Validation result scores [0.85245902 0.81967213 0.78688525 0.78688525 0.93220339]\n",
      "(After feature select)(Cross Validation) Accuracy: 0.8356 (+/- 0.1081)\n"
     ]
    }
   ],
   "source": [
    "from sklearn.svm import SVC\n",
    "from sklearn.model_selection import cross_val_score\n",
    "\n",
    "#train svmliner model\n",
    "svm_linear = SVC(kernel='linear',C=2, random_state=0) \n",
    "svm_linear.fit(X_train_std, y_train) # 餵入training data，並訓練出分類器'svm_linear'\n",
    "\n",
    "#predict\n",
    "y_pred = svm_linear.predict(X_test_std) #testing data餵入分類器'svm_linear'，得到每筆的預測結果'y_pred'\n",
    "print('Linear SVM testing result:',y_pred)\n",
    "print('Misclassified samples: %d' % (y_test != y_pred).sum()) \n",
    "print('Accuracy: %.4f' % accuracy_score(y_test, y_pred)) #評估正確性\n",
    "\n",
    "\n",
    "# complete X_std, y\n",
    "X_std = np.concatenate((X_train_std, X_test_std),axis=0)\n",
    "y = np.concatenate((y_train, y_test),axis=0)\n",
    "\n",
    "#cross validation\n",
    "svm_cross = SVC(kernel='linear',C=2) \n",
    "scores = cross_val_score(svm_cross ,X_std ,y ,cv=5)\n",
    "print(\"Cross Validation result scores\",scores)\n",
    "print(\"(Cross Validation) Accuracy: %0.4f (+/- %0.4f)\" % (scores.mean(), scores.std() * 2))\n",
    "\n",
    "print('\\n==============================feature selection============================================================')\n",
    "#import features\n",
    "coef = svm_linear.coef_[0]#對應每個feature的重要係數\n",
    "coef = np.absolute(coef)\n",
    "svm_indices = np.argsort(coef)[::-1]\n",
    "\n",
    "print('Importance of features:')\n",
    "for f in range(20):\n",
    "    print((\"%4d) %-*s %f\" % (f+1 ,30 ,features[svm_indices[f]],coef[svm_indices[f]])))\n",
    "\n",
    "# 取前 17 個feature\n",
    "X_train_RD = np.array(X_train_std[:,svm_indices[0]])\n",
    "X_test_RD = np.array(X_test_std[:,svm_indices[0]])\n",
    "for i in svm_indices[0:17]:\n",
    "    X_train_RD = np.vstack([X_train_RD,X_train_std[:,i]]) \n",
    "    X_test_RD = np.vstack([X_test_RD,X_test_std[:,i]])\n",
    "X_train_RD = X_train_RD.T\n",
    "X_test_RD = X_test_RD.T\n",
    "\n",
    "#train model after feature select\n",
    "linear_svm_select = SVC(kernel='linear',C=2 ,random_state=0)\n",
    "linear_svm_select.fit(X_train_RD,y_train)\n",
    "\n",
    "#predict\n",
    "y_pred = linear_svm_select.predict(X_test_RD)\n",
    "print('After feature select')\n",
    "print('Linear SVM testing result:',y_pred)\n",
    "print('Misclassified samples: %d' % (y_test != y_pred).sum()) \n",
    "print('(After feature select) Accuracy: %.4f' % accuracy_score(y_test, y_pred)) #評估正確性\n",
    "\n",
    "X_std_select = np.concatenate((X_train_RD, X_test_RD),axis=0)\n",
    "y = np.concatenate((y_train, y_test),axis=0)\n",
    "\n",
    "svm_cross = SVC(kernel='linear' ,C=2) \n",
    "scores = cross_val_score(svm_cross, X_std_select, y, cv=5)\n",
    "print(\"Cross Validation result scores\",scores)\n",
    "print(\"(After feature select)(Cross Validation) Accuracy: %0.4f (+/- %0.4f)\" % (scores.mean(), scores.std() * 2))"
   ]
  },
  {
   "cell_type": "markdown",
   "metadata": {},
   "source": [
    "### Decision Tree : feature importances"
   ]
  },
  {
   "cell_type": "code",
   "execution_count": 3,
   "metadata": {},
   "outputs": [
    {
     "ename": "NameError",
     "evalue": "name 'X_train_std' is not defined",
     "output_type": "error",
     "traceback": [
      "\u001b[0;31m---------------------------------------------------------------------------\u001b[0m",
      "\u001b[0;31mNameError\u001b[0m                                 Traceback (most recent call last)",
      "\u001b[0;32m<ipython-input-3-bfaf918e350f>\u001b[0m in \u001b[0;36m<module>\u001b[0;34m\u001b[0m\n\u001b[1;32m      2\u001b[0m \u001b[0;31m#train tree model\u001b[0m\u001b[0;34m\u001b[0m\u001b[0;34m\u001b[0m\u001b[0;34m\u001b[0m\u001b[0m\n\u001b[1;32m      3\u001b[0m \u001b[0mtree\u001b[0m \u001b[0;34m=\u001b[0m \u001b[0mDecisionTreeClassifier\u001b[0m\u001b[0;34m(\u001b[0m\u001b[0mcriterion\u001b[0m\u001b[0;34m=\u001b[0m\u001b[0;34m'gini'\u001b[0m\u001b[0;34m,\u001b[0m\u001b[0mmax_depth\u001b[0m\u001b[0;34m=\u001b[0m\u001b[0;36m4\u001b[0m\u001b[0;34m)\u001b[0m\u001b[0;34m\u001b[0m\u001b[0;34m\u001b[0m\u001b[0m\n\u001b[0;32m----> 4\u001b[0;31m \u001b[0mtree\u001b[0m\u001b[0;34m.\u001b[0m\u001b[0mfit\u001b[0m\u001b[0;34m(\u001b[0m\u001b[0mX_train_std\u001b[0m\u001b[0;34m,\u001b[0m\u001b[0my_train\u001b[0m\u001b[0;34m)\u001b[0m\u001b[0;34m\u001b[0m\u001b[0;34m\u001b[0m\u001b[0m\n\u001b[0m\u001b[1;32m      5\u001b[0m \u001b[0;31m#predict\u001b[0m\u001b[0;34m\u001b[0m\u001b[0;34m\u001b[0m\u001b[0;34m\u001b[0m\u001b[0m\n\u001b[1;32m      6\u001b[0m \u001b[0my_pred\u001b[0m \u001b[0;34m=\u001b[0m \u001b[0mtree\u001b[0m\u001b[0;34m.\u001b[0m\u001b[0mpredict\u001b[0m\u001b[0;34m(\u001b[0m\u001b[0mX_test_std\u001b[0m\u001b[0;34m)\u001b[0m\u001b[0;34m\u001b[0m\u001b[0;34m\u001b[0m\u001b[0m\n",
      "\u001b[0;31mNameError\u001b[0m: name 'X_train_std' is not defined"
     ]
    }
   ],
   "source": [
    "from sklearn.tree import DecisionTreeClassifier\n",
    "#train tree model\n",
    "tree = DecisionTreeClassifier(criterion='gini',max_depth=4)\n",
    "tree.fit(X_train_std,y_train)\n",
    "#predict\n",
    "y_pred = tree.predict(X_test_std)\n",
    "print('Decision tree testing result:',y_pred)\n",
    "print('Misclassified samples: %d' % (y_test != y_pred).sum())\n",
    "print('Accuracy: %.4f' % accuracy_score(y_test, y_pred))\n",
    "\n",
    "from sklearn.model_selection import cross_val_score\n",
    "X_std = np.concatenate((X_train_std, X_test_std), axis=0)\n",
    "y = np.concatenate((y_train, y_test), axis=0)\n",
    "tree_cross = DecisionTreeClassifier(criterion='gini',max_depth=4)\n",
    "#cv:切割為cv份\n",
    "scores = cross_val_score(tree_cross, X_std, y, cv = 5)\n",
    "print(\"Cross Validation every accuracy: \",scores)\n",
    "print(\"(Cross Validation)Accuracy: %0.4f (+/- %0.4f)\" % (scores.mean(), scores.std()*2))\n",
    "\n",
    "print('\\n==============================feature selection============================================================')\n",
    "importances = tree.feature_importances_\n",
    "indices = np.argsort(importances)[::-1]\n",
    "for f in range(10):\n",
    "    print((\"%4d) %-*s %f\" % (f+1,30,features[indices[f]],importances[indices[f]])))\n",
    "\n",
    "#取前5個features\n",
    "X_train_RD = np.array(X_train_std[:,indices[0]])\n",
    "X_test_RD = np.array(X_test_std[:,indices[0]])\n",
    "for i in indices[0:5]:\n",
    "    X_train_RD = np.vstack([X_train_RD,X_train_std[:,i]]) \n",
    "    X_test_RD = np.vstack([X_test_RD,X_test_std[:,i]]) \n",
    "X_train_RD = X_train_RD.T\n",
    "X_test_RD = X_test_RD.T\n",
    "\n",
    "#train tree model\n",
    "tree_select = DecisionTreeClassifier(criterion='gini',max_depth=4)\n",
    "tree_select.fit(X_train_RD,y_train)\n",
    "\n",
    "#predict\n",
    "y_pred = tree_select.predict(X_test_RD)\n",
    "print('Decision tree testing result:',y_pred)\n",
    "print('Misclassified samples: %d' % (y_test != y_pred).sum())\n",
    "print('Accuracy: %.4f' % accuracy_score(y_test, y_pred))\n",
    "\n",
    "#cross validation\n",
    "X_std_select = np.concatenate((X_train_RD, X_test_RD),axis=0)\n",
    "y = np.concatenate((y_train, y_test),axis=0)\n",
    "\n",
    "tree_cross = DecisionTreeClassifier(criterion='gini',max_depth=4)\n",
    "#cv:切割為cv份\n",
    "scores = cross_val_score(tree_cross, X_std_select, y, cv = 5)\n",
    "print(\"Cross Validation every accuracy: \",scores)\n",
    "print(\"(Feature Selection)(Cross Validation)Accuracy: %0.4f (+/- %0.4f)\" % (scores.mean(), scores.std()*2))"
   ]
  },
  {
   "cell_type": "markdown",
   "metadata": {},
   "source": [
    "### use RFE"
   ]
  },
  {
   "cell_type": "code",
   "execution_count": 36,
   "metadata": {},
   "outputs": [
    {
     "name": "stdout",
     "output_type": "stream",
     "text": [
      "Accuracy: 0.92\n",
      "[False False False False  True False False False False  True False False\n",
      " False False False False False  True False False False  True False False\n",
      " False False False  True]\n",
      "[13  6 17 18  1  7  4  2 20  1  5 21 22 11 24 16 12  1 14  3 23  1  8  9\n",
      " 10 15 19  1]\n",
      "0.8181818181818182\n",
      "Accuracy(After): 0.87\n"
     ]
    }
   ],
   "source": [
    "from sklearn.feature_selection import RFE\n",
    "\n",
    "linear_svm = SVC(kernel='linear')\n",
    "linear_svm.fit(X_train_std,y_train)\n",
    "y_pred = linear_svm.predict(X_test_std)\n",
    "print(\"Accuracy: %.2f\" % accuracy_score(y_test,y_pred))\n",
    "\n",
    "rfe = RFE(linear_svm,5)\n",
    "rfe = rfe.fit(X_train_std,y_train)\n",
    "\n",
    "support = rfe.support_\n",
    "print(support)\n",
    "rank = rfe.ranking_\n",
    "print(rank)\n",
    "print(rfe.score(X_train_std,y_train))\n",
    "RFE_index = np.argsort(rank)\n",
    "\n",
    "X_train_RD = np.array(X_train_std[:,RFE_index[0]])\n",
    "X_test_RD = np.array(X_test_std[:,RFE_index[0]])\n",
    "for i in RFE_index[1:5]:\n",
    "    X_train_RD = np.vstack([X_train_RD,X_train_std[:,i]]) \n",
    "    X_test_RD = np.vstack([X_test_RD,X_test_std[:,i]]) \n",
    "X_train_RD = X_train_RD.T\n",
    "X_test_RD = X_test_RD.T\n",
    "\n",
    "linear_svm_select = SVC(kernel='linear') \n",
    "linear_svm_select.fit(X_train_RD,y_train)\n",
    "y_pred = linear_svm_select.predict(X_test_RD)\n",
    "print(\"Accuracy(After): %.2f\" % accuracy_score(y_test,y_pred))"
   ]
  },
  {
   "cell_type": "markdown",
   "metadata": {},
   "source": [
    "# <center>Feature Extraction (PCA)</center>"
   ]
  },
  {
   "cell_type": "markdown",
   "metadata": {},
   "source": [
    "首先, 先利用 sklearn 的 RandomizedPCA 將 data 降維到剩 2 維\n",
    "\n",
    "(簡單來說 PCA 是會利用數學上的 eigenvector, eigenvalue 屬性找出 data 中比較重要的維度出來並且依序排列, 所以這邊會有找出最重要的兩維的含意)"
   ]
  },
  {
   "cell_type": "code",
   "execution_count": 37,
   "metadata": {},
   "outputs": [
    {
     "name": "stdout",
     "output_type": "stream",
     "text": [
      "(242, 2)\n"
     ]
    }
   ],
   "source": [
    "from sklearn.decomposition import PCA\n",
    "\n",
    "pca = PCA(n_components=2)\n",
    "X_pca = pca.fit_transform(X_train_std)\n",
    "\n",
    "print(X_pca.shape)"
   ]
  },
  {
   "cell_type": "code",
   "execution_count": 38,
   "metadata": {},
   "outputs": [
    {
     "data": {
      "image/png": "[encoded data removed]",
      "text/plain": [
       "<Figure size 432x288 with 1 Axes>"
      ]
     },
     "metadata": {},
     "output_type": "display_data"
    }
   ],
   "source": [
    "colors = ['r', 'g']\n",
    "markers = ['s', 'x']\n",
    "\n",
    "for i, c, m in zip(np.unique(y_train), colors, markers):\n",
    "    plt.scatter(X_pca[y_train == i, 0], X_pca[y_train == i, 1], \n",
    "        c=c, marker=m, label=i, alpha=0.5)\n",
    "    \n",
    "plt.legend(loc='best')\n",
    "plt.show()"
   ]
  },
  {
   "cell_type": "code",
   "execution_count": 39,
   "metadata": {},
   "outputs": [
    {
     "data": {
      "image/png": "[encoded data removed]",
      "text/plain": [
       "<Figure size 432x288 with 1 Axes>"
      ]
     },
     "metadata": {},
     "output_type": "display_data"
    }
   ],
   "source": [
    "#from itertools import cycle\n",
    "\n",
    "colors = ['r', 'g', 'b']\n",
    "markers = ['s', 'x', 'o']\n",
    "\n",
    "#for i, c, m in zip(np.unique(y_train), cycle(colors), cycle(markers)):\n",
    "for i, c, m in zip(np.unique(y_train), colors, markers):\n",
    "    plt.scatter(X_pca[y_train == i, 0], X_pca[y_train == i, 1], \n",
    "        c=c, marker=m, label=i, alpha=0.5)\n",
    "    \n",
    "plt.legend(loc='best')\n",
    "plt.show()"
   ]
  },
  {
   "cell_type": "markdown",
   "metadata": {},
   "source": [
    "<center style=\"color:blue;font-size:30px;font-family:Microsoft JhengHei\"> 跟著做10開頭 </center>"
   ]
  },
  {
   "cell_type": "markdown",
   "metadata": {},
   "source": [
    "# <center> ROC curve: all model</center>"
   ]
  },
  {
   "cell_type": "code",
   "execution_count": 40,
   "metadata": {},
   "outputs": [
    {
     "data": {
      "image/png": "[encoded data removed]",
      "text/plain": [
       "<Figure size 432x288 with 1 Axes>"
      ]
     },
     "metadata": {},
     "output_type": "display_data"
    }
   ],
   "source": [
    "from sklearn.metrics import roc_curve, auc\n",
    "# decision model\n",
    "fpr_decision, tpr_decision, thres = roc_curve(y_test,y_predprob_po_decision)\n",
    "roc_auc_decision = auc(fpr_decision, tpr_decision)\n",
    "# linear svm model\n",
    "fpr_linear, tpr_linear, thres = roc_curve(y_test, y_predprob_po_linear)\n",
    "roc_auc_linear = auc(fpr_linear, tpr_linear)\n",
    "# rbf svm model\n",
    "fpr_rbf, tpr_rbf, thres = roc_curve(y_test, y_predprob_po_rbf)\n",
    "roc_auc_rbf = auc(fpr_rbf, tpr_rbf)\n",
    "# knn  model\n",
    "fpr_knn, tpr_knn, thres = roc_curve(y_test, y_predprob_po_knn)\n",
    "roc_auc_knn = auc(fpr_knn, tpr_knn)\n",
    "# random forest model\n",
    "fpr_forest, tpr_forest, thres = roc_curve(y_test, y_predprob_po_forest)\n",
    "roc_auc_forest = auc(fpr_forest, tpr_forest)\n",
    "# adaboost\n",
    "fpr_ada, tpr_ada, thres = roc_curve(y_test, y_predprob_po_ada)\n",
    "roc_auc_ada = auc(fpr_ada, tpr_ada)\n",
    "\n",
    "plt.title('Receiver Operating Characteristic(ROC)')\n",
    "plt.plot(fpr_decision, tpr_decision, 'b', label='decision tree = %0.2f'% roc_auc_decision)\n",
    "plt.plot(fpr_rbf, tpr_rbf, 'm', label='rbf svm = %0.2f'% roc_auc_rbf)\n",
    "plt.plot(fpr_knn, tpr_knn, 'c', label='knn = %0.2f'% roc_auc_knn)\n",
    "plt.plot(fpr_forest, tpr_forest, 'y', label='forest = %0.2f'% roc_auc_forest)\n",
    "plt.plot(fpr_ada, tpr_ada, 'g', label='adaboost = %0.2f'% roc_auc_ada)\n",
    "plt.plot(fpr_linear, tpr_linear, 'r', label='linear svm = %0.2f'% roc_auc_linear)\n",
    "\n",
    "plt.legend(loc='lower right')\n",
    "plt.plot([0, 1], [0, 1], color='k', linestyle='--')  \n",
    "plt.xlim([0.0, 1.0])  \n",
    "plt.ylim([0.0, 1.05])  \n",
    "plt.xlabel('False Positive Rate')  \n",
    "plt.ylabel('True Positive Rate')  \n",
    "plt.show()"
   ]
  },
  {
   "cell_type": "markdown",
   "metadata": {},
   "source": [
    "# <center> Save and Load model </center>"
   ]
  },
  {
   "cell_type": "code",
   "execution_count": 41,
   "metadata": {},
   "outputs": [],
   "source": [
    "# save model\n",
    "import pickle\n",
    "with open('svm.pkl', 'wb') as f:\n",
    "    pickle.dump(svm_linear, f)"
   ]
  },
  {
   "cell_type": "code",
   "execution_count": 42,
   "metadata": {},
   "outputs": [
    {
     "name": "stdout",
     "output_type": "stream",
     "text": [
      "[0.]\n"
     ]
    }
   ],
   "source": [
    "# load the model\n",
    "import numpy as np\n",
    "\n",
    "with open('svm.pkl', 'rb') as f:\n",
    "    svm = pickle.load(f)\n",
    "    \n",
    "test = np.array([[-0.75635158, -0.10203197, -0.04491364,  1.38751461, -0.71832602,\n",
    "       -0.70272837,  0.70272837, -0.29189346,  2.1821789 , -0.63154092,\n",
    "       -0.92819096,  0.41803981, -0.41803981, -0.96747093, -0.12964074,\n",
    "        1.        ,  0.72250438, -0.72250438, -0.91287093,  1.0422125 ,\n",
    "       -0.26607604,  0.82495791, -0.52955007, -0.36171967, -0.27487371,\n",
    "        0.882843  , -0.26607604, -0.76948376]])\n",
    "print(svm.predict(test))"
   ]
  },
  {
   "cell_type": "markdown",
   "metadata": {},
   "source": [
    "<center style=\"color:blue;font-size:30px;font-family:Microsoft JhengHei\"> 跟著做11開頭 </center>\n",
    "<br>\n",
    "<center style=\"color:blue;font-size:20px;font-family:Microsoft JhengHei\"> 改成其他classification model </center>"
   ]
  },
  {
   "cell_type": "markdown",
   "metadata": {},
   "source": [
    "# <center> Sklearn Pipeline </center>"
   ]
  },
  {
   "cell_type": "code",
   "execution_count": 43,
   "metadata": {},
   "outputs": [
    {
     "name": "stdout",
     "output_type": "stream",
     "text": [
      "Misclassified samples: 6\n",
      "Accuracy: 0.9016\n",
      "precision:  0.9016393442622951\n",
      "recall:  0.9016393442622951\n",
      "fscore:  0.9016393442622952\n"
     ]
    },
    {
     "name": "stderr",
     "output_type": "stream",
     "text": [
      "C:\\Users\\remon\\Anaconda3\\lib\\site-packages\\sklearn\\utils\\deprecation.py:66: DeprecationWarning: Class Imputer is deprecated; Imputer was deprecated in version 0.20 and will be removed in 0.22. Import impute.SimpleImputer from sklearn instead.\n",
      "  warnings.warn(msg, category=DeprecationWarning)\n",
      "C:\\Users\\remon\\Anaconda3\\lib\\site-packages\\sklearn\\preprocessing\\_encoders.py:415: FutureWarning: The handling of integer data will change in version 0.22. Currently, the categories are determined based on the range [0, max(values)], while in the future they will be determined based on the unique values.\n",
      "If you want the future behaviour and silence this warning, you can specify \"categories='auto'\".\n",
      "In case you used a LabelEncoder before this OneHotEncoder to convert the categories to integers, then you can now use the OneHotEncoder directly.\n",
      "  warnings.warn(msg, FutureWarning)\n",
      "C:\\Users\\remon\\Anaconda3\\lib\\site-packages\\sklearn\\preprocessing\\_encoders.py:451: DeprecationWarning: The 'categorical_features' keyword is deprecated in version 0.20 and will be removed in 0.22. You can use the ColumnTransformer instead.\n",
      "  \"use the ColumnTransformer instead.\", DeprecationWarning)\n"
     ]
    }
   ],
   "source": [
    "from sklearn.metrics import accuracy_score\n",
    "from sklearn.metrics import precision_recall_fscore_support\n",
    "from sklearn.model_selection import train_test_split\n",
    "from sklearn.pipeline import Pipeline\n",
    "from sklearn.preprocessing import Imputer\n",
    "from sklearn.preprocessing import OneHotEncoder\n",
    "from sklearn.preprocessing import StandardScaler\n",
    "from sklearn.svm import SVC\n",
    "import matplotlib.pylab as plt\n",
    "import pandas as pd\n",
    "import numpy as np\n",
    "from sklearn.tree import DecisionTreeClassifier\n",
    "\n",
    "#load data\n",
    "df = pd.read_csv('cleveland.dat', header=None, sep=', ', engine='python')\n",
    "df.columns = [\"age\", \"sex\", \"cp\", \"restbp\", \"chol\", \"fbs\", \"restecg\", \n",
    "              \"thalach\", \"exang\", \"oldpeak\", \"slope\", \"ca\", \"thal\", \"num\"]\n",
    "for i in range(1,5):\n",
    "    df['num'] = df['num'].replace(i,1)\n",
    "\n",
    "#處理異常值\n",
    "df = df.replace('?', np.nan)\n",
    "\n",
    "#資料切割\n",
    "X = df.drop('num', axis=1).values\n",
    "y = df['num'].values\n",
    "X_train, X_test, y_train, y_test = train_test_split(X, y, test_size=0.2, random_state=0)\n",
    "\n",
    "#類別型特徵列表\n",
    "catego_features = ['sex','cp','fbs','restecg','exang','slope','ca','thal']\n",
    "catego_features_index = []\n",
    "for str in catego_features:\n",
    "    catego_features_index.append(df.columns.tolist().index(str))\n",
    "\n",
    "#PIPELINE setting and training\n",
    "pipe = Pipeline([('imr', Imputer(missing_values='NaN', strategy='most_frequent', axis=0)),\n",
    "                ('ohe', OneHotEncoder(categorical_features=catego_features_index, sparse=False)),\n",
    "                ('scl', StandardScaler()),\n",
    "                ('clf', SVC(kernel='rbf', random_state=0, C=2.0))])\n",
    "pipe.fit(X_train, y_train)\n",
    "\n",
    "#predict\n",
    "y_pred = pipe.predict(X_test)\n",
    "\n",
    "print('Misclassified samples: %d' % (y_test != y_pred).sum())\n",
    "print('Accuracy: %.4f' % accuracy_score(y_test, y_pred))\n",
    "# other measurements\n",
    "precision,recall,fscore,support = precision_recall_fscore_support(y_test, y_pred, average='micro')\n",
    "print(\"precision: \", precision)\n",
    "print(\"recall: \", recall)\n",
    "print(\"fscore: \", fscore)"
   ]
  },
  {
   "cell_type": "markdown",
   "metadata": {},
   "source": [
    "<center style=\"color:blue;font-size:30px;font-family:Microsoft JhengHei\"> 跟著做12開頭 </center>\n",
    "<br>\n",
    "<center style=\"color:blue;font-size:20px;font-family:Microsoft JhengHei\"> </center>"
   ]
  },
  {
   "cell_type": "markdown",
   "metadata": {},
   "source": [
    "# <center> Shuffle cross validation<center>"
   ]
  },
  {
   "cell_type": "code",
   "execution_count": 44,
   "metadata": {},
   "outputs": [
    {
     "name": "stdout",
     "output_type": "stream",
     "text": [
      "Linear SVM testing result: [0 0 1 0 1 0 0 1 1 1 1 0 0 0 0 0 0 1 0 1 1 0 1 0 0 1 0 1 0 0 1 1 1 1 0 0 0\n",
      " 0 0 1 1 0 0 0 1 1 1 0 0 1 0 0 0 0 0 1 1 1 1 0 1]\n",
      "Misclassified samples: 5\n",
      "Accuracy: 0.9180\n",
      "Cross Validation result scores [0.81967213 0.81967213 0.90163934 0.80327869 0.90163934 0.85245902\n",
      " 0.85245902 0.81967213 0.73770492 0.7704918 ]\n",
      "(Cross Validation) Accuracy: 0.8279 (+/- 0.0986)\n"
     ]
    }
   ],
   "source": [
    "from sklearn.metrics import accuracy_score\n",
    "from sklearn.metrics import precision_recall_fscore_support\n",
    "from sklearn.model_selection import train_test_split\n",
    "from sklearn.pipeline import Pipeline\n",
    "from sklearn.preprocessing import Imputer\n",
    "from sklearn.preprocessing import OneHotEncoder\n",
    "from sklearn.preprocessing import StandardScaler\n",
    "from sklearn.svm import SVC\n",
    "import matplotlib.pylab as plt\n",
    "import pandas as pd\n",
    "import numpy as np\n",
    "\n",
    "#train svmliner model\n",
    "svm_linear = SVC(kernel='linear',C=2, random_state=0) \n",
    "svm_linear.fit(X_train_std, y_train) # 餵入training data，並訓練出分類器'svm_linear'\n",
    "\n",
    "#predict\n",
    "y_pred = svm_linear.predict(X_test_std) #testing data餵入分類器'svm_linear'，得到每筆的預測結果'y_pred'\n",
    "print('Linear SVM testing result:',y_pred)\n",
    "print('Misclassified samples: %d' % (y_test != y_pred).sum()) \n",
    "print('Accuracy: %.4f' % accuracy_score(y_test, y_pred)) #評估正確性\n",
    "\n",
    "\n",
    "# complete X_std, y\n",
    "X_std = np.concatenate((X_train_std, X_test_std),axis=0)\n",
    "y = np.concatenate((y_train, y_test),axis=0)\n",
    "\n",
    "from sklearn.model_selection import ShuffleSplit\n",
    "#cross validation\n",
    "svm_cross = SVC(kernel='linear',C=2)\n",
    "shufspl = ShuffleSplit(train_size=0.8,test_size=0.2,n_splits=10)\n",
    "scores = cross_val_score(svm_cross ,X_std ,y ,cv=shufspl)\n",
    "print(\"Cross Validation result scores\",scores)\n",
    "print(\"(Cross Validation) Accuracy: %0.4f (+/- %0.4f)\" % (scores.mean(), scores.std() * 2))"
   ]
  },
  {
   "cell_type": "code",
   "execution_count": null,
   "metadata": {},
   "outputs": [],
   "source": []
  }
 ],
 "metadata": {
  "kernelspec": {
   "display_name": "Python 3",
   "language": "python",
   "name": "python3"
  },
  "language_info": {
   "codemirror_mode": {
    "name": "ipython",
    "version": 3
   },
   "file_extension": ".py",
   "mimetype": "text/x-python",
   "name": "python",
   "nbconvert_exporter": "python",
   "pygments_lexer": "ipython3",
   "version": "3.7.3"
  }
 },
 "nbformat": 4,
 "nbformat_minor": 2
}
