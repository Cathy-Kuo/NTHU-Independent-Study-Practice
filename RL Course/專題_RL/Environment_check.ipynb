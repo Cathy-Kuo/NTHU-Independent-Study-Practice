{
 "cells": [
  {
   "cell_type": "code",
   "execution_count": 1,
   "metadata": {},
   "outputs": [
    {
     "name": "stdout",
     "output_type": "stream",
     "text": [
      "hello python 1 2 3\n"
     ]
    }
   ],
   "source": [
    "print(\"hello python 1 2 3\")"
   ]
  },
  {
   "cell_type": "code",
   "execution_count": 2,
   "metadata": {},
   "outputs": [
    {
     "data": {
      "text/plain": [
       "'1.4.0'"
      ]
     },
     "execution_count": 2,
     "metadata": {},
     "output_type": "execute_result"
    }
   ],
   "source": [
    "import torch\n",
    "torch.__version__"
   ]
  },
  {
   "cell_type": "code",
   "execution_count": 3,
   "metadata": {},
   "outputs": [
    {
     "data": {
      "text/plain": [
       "'0.15.4'"
      ]
     },
     "execution_count": 3,
     "metadata": {},
     "output_type": "execute_result"
    }
   ],
   "source": [
    "import gym\n",
    "gym.__version__"
   ]
  },
  {
   "cell_type": "code",
   "execution_count": 3,
   "metadata": {},
   "outputs": [],
   "source": [
    "env = gym.make('CartPole-v0')\n",
    "observation = env.reset()\n",
    "for t in range(100):\n",
    "    env.render()\n",
    "env.close()"
   ]
  },
  {
   "cell_type": "code",
   "execution_count": 4,
   "metadata": {},
   "outputs": [],
   "source": [
    "env = gym.make('LunarLander-v2')\n",
    "observation = env.reset()\n",
    "for t in range(100):\n",
    "    env.render()\n",
    "env.close()"
   ]
  },
  {
   "cell_type": "code",
   "execution_count": 4,
   "metadata": {},
   "outputs": [
    {
     "name": "stdout",
     "output_type": "stream",
     "text": [
      "Collecting gym\n",
      "\u001b[?25l  Downloading https://files.pythonhosted.org/packages/1d/85/a7a462d7796f097027d60f9a62b4e17a0a94dcf12ac2a9f9a913333b11a6/gym-0.15.4.tar.gz (1.6MB)\n",
      "\u001b[K     |████████████████████████████████| 1.6MB 377kB/s eta 0:00:01\n",
      "\u001b[?25hRequirement already satisfied: scipy in /Users/kuohuichi/opt/anaconda3/lib/python3.7/site-packages (from gym) (1.3.1)\n",
      "Requirement already satisfied: numpy>=1.10.4 in /Users/kuohuichi/opt/anaconda3/lib/python3.7/site-packages (from gym) (1.17.2)\n",
      "Requirement already satisfied: six in /Users/kuohuichi/opt/anaconda3/lib/python3.7/site-packages (from gym) (1.12.0)\n",
      "Collecting pyglet<=1.3.2,>=1.2.0 (from gym)\n",
      "  Using cached https://files.pythonhosted.org/packages/1c/fc/dad5eaaab68f0c21e2f906a94ddb98175662cc5a654eee404d59554ce0fa/pyglet-1.3.2-py2.py3-none-any.whl\n",
      "Requirement already satisfied: cloudpickle~=1.2.0 in /Users/kuohuichi/opt/anaconda3/lib/python3.7/site-packages (from gym) (1.2.2)\n",
      "Collecting opencv-python (from gym)\n",
      "\u001b[?25l  Downloading https://files.pythonhosted.org/packages/bf/d8/2422f90a596fc90d3027415121221f7cfb2513af8fd2a66203864941fabf/opencv_python-4.1.2.30-cp37-cp37m-macosx_10_9_x86_64.whl (45.2MB)\n",
      "\u001b[K     |████████████████████████████████| 45.2MB 1.5MB/s eta 0:00:01\n",
      "\u001b[?25hRequirement already satisfied: future in /Users/kuohuichi/opt/anaconda3/lib/python3.7/site-packages (from pyglet<=1.3.2,>=1.2.0->gym) (0.17.1)\n",
      "Building wheels for collected packages: gym\n",
      "  Building wheel for gym (setup.py) ... \u001b[?25ldone\n",
      "\u001b[?25h  Created wheel for gym: filename=gym-0.15.4-cp37-none-any.whl size=1648485 sha256=dbb9543cde1385ab3b8bc64fa3d7d0fd4b870e36ef0ed66e6f0b5594dbd8c163\n",
      "  Stored in directory: /Users/kuohuichi/Library/Caches/pip/wheels/e9/26/9b/8a1a6599a91077a938ac4348cc3d3ac84bfab0dbfddeb4c6e7\n",
      "Successfully built gym\n",
      "Installing collected packages: pyglet, opencv-python, gym\n",
      "Successfully installed gym-0.15.4 opencv-python-4.1.2.30 pyglet-1.3.2\n",
      "Note: you may need to restart the kernel to use updated packages.\n"
     ]
    }
   ],
   "source": [
    "pip install gym"
   ]
  },
  {
   "cell_type": "code",
   "execution_count": 5,
   "metadata": {},
   "outputs": [
    {
     "name": "stdout",
     "output_type": "stream",
     "text": [
      "Collecting box2d-py\n",
      "\u001b[?25l  Downloading https://files.pythonhosted.org/packages/02/a8/f6f6986fe3c8f53ef8ddf7ac73ec7f87e45b0beccce8067194fa8d658a07/box2d_py-2.3.8-cp37-cp37m-macosx_10_6_intel.macosx_10_9_intel.macosx_10_9_x86_64.macosx_10_10_intel.macosx_10_10_x86_64.whl (940kB)\n",
      "\u001b[K     |████████████████████████████████| 942kB 1.1MB/s eta 0:00:01\n",
      "\u001b[?25hInstalling collected packages: box2d-py\n",
      "Successfully installed box2d-py-2.3.8\n",
      "Note: you may need to restart the kernel to use updated packages.\n"
     ]
    }
   ],
   "source": [
    "pip install box2d-py"
   ]
  },
  {
   "cell_type": "code",
   "execution_count": null,
   "metadata": {},
   "outputs": [],
   "source": []
  }
 ],
 "metadata": {
  "kernelspec": {
   "display_name": "Python 3",
   "language": "python",
   "name": "python3"
  },
  "language_info": {
   "codemirror_mode": {
    "name": "ipython",
    "version": 3
   },
   "file_extension": ".py",
   "mimetype": "text/x-python",
   "name": "python",
   "nbconvert_exporter": "python",
   "pygments_lexer": "ipython3",
   "version": "3.7.4"
  }
 },
 "nbformat": 4,
 "nbformat_minor": 2
}
