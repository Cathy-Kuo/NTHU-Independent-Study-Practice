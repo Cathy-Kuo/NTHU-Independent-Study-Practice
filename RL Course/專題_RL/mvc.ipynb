{
 "cells": [
  {
   "cell_type": "code",
   "execution_count": 1,
   "metadata": {},
   "outputs": [],
   "source": [
    "%load_ext autoreload\n",
    "%autoreload 2\n",
    "from MVC_env import MVC_environement\n",
    "from DQN_network import embedding_network\n",
    "\n",
    "import numpy as np\n",
    "import networkx as nx\n",
    "import math\n",
    "import torch\n",
    "from tqdm import tqdm_notebook as tqdm\n",
    "import pickle\n",
    "import warnings\n",
    "warnings.filterwarnings(\"ignore\")\n",
    "\n",
    "def pickle_save(data,file_name):\n",
    "    with open(file_name,'wb') as f:\n",
    "        pickle.dump(data , f)\n",
    "def pickle_load(file_name):\n",
    "    with open(file_name,'rb') as f:\n",
    "        return pickle.load(f)\n",
    "\n"
   ]
  },
  {
   "cell_type": "code",
   "execution_count": 2,
   "metadata": {},
   "outputs": [],
   "source": [
    "import numpy as np\n",
    "from collections import namedtuple\n",
    "\n",
    "experience = namedtuple(\"experience\" , ['graph','Xv','action','reward','next_Xv','is_done'])\n",
    "\n",
    "class replay_buffer():\n",
    "    def __init__(self , max_size):\n",
    "        self.buffer = np.zeros(  [max_size],dtype = experience)\n",
    "        self.max_size = max_size\n",
    "        self.size = 0\n",
    "        self.idx = -1\n",
    "    def push(self , new_exp):\n",
    "        if(self.size >= self.max_size):\n",
    "            self.idx = (self.idx+1) % self.max_size\n",
    "        else:\n",
    "            self.idx = self.idx + 1\n",
    "            self.size += 1\n",
    "        \n",
    "        self.buffer[self.idx] = new_exp\n",
    "    \n",
    "    def sample(self , batch_size):\n",
    "        batch = np.random.choice(np.arange(self.size) , size = batch_size , replace=False)\n",
    "        \n",
    "        return self.buffer[[batch]]\n",
    "    \n"
   ]
  },
  {
   "cell_type": "code",
   "execution_count": 3,
   "metadata": {},
   "outputs": [
    {
     "data": {
      "text/plain": [
       "196"
      ]
     },
     "execution_count": 3,
     "metadata": {},
     "output_type": "execute_result"
    }
   ],
   "source": [
    "def approximate_algo(env):\n",
    "    edge_list = env.edges[:]\n",
    "    \n",
    "    C =  set()\n",
    "    #print(len(edge_list))\n",
    "    while( len(edge_list) > 0):\n",
    "        #print(len(edge_list))\n",
    "        e = edge_list[-1]\n",
    "        u,v = e\n",
    "        C.add(u)\n",
    "        C.add(v)\n",
    "        to_remove = []\n",
    "        for ed in edge_list:\n",
    "            if (u in ed) or (v in ed):\n",
    "                to_remove.append(ed)\n",
    "        for ed in to_remove:\n",
    "            edge_list.remove(ed)\n",
    "    \n",
    "    for v in C:\n",
    "        env.take_action(v)\n",
    "    \n",
    "    return C\n",
    "    \n",
    "    \n",
    "g = nx.erdos_renyi_graph(n = 200 , p = 0.15)\n",
    "#g = nx.barabasi_albert_graph(n=100,m=10)\n",
    "env = MVC_environement(g)\n",
    "C = approximate_algo(env)\n",
    "len(C)"
   ]
  },
  {
   "cell_type": "code",
   "execution_count": 4,
   "metadata": {},
   "outputs": [],
   "source": [
    "graph_size = 20\n",
    "validation_graph = []\n",
    "for i in range(50):\n",
    "    #p = np.random.uniform(0.05,0.)\n",
    "    g = nx.erdos_renyi_graph(n = graph_size , p = 0.15)\n",
    "    #g = nx.barabasi_albert_graph()\n",
    "    validation_graph.append(g)"
   ]
  },
  {
   "cell_type": "code",
   "execution_count": 5,
   "metadata": {},
   "outputs": [
    {
     "data": {
      "text/plain": [
       "15.68"
      ]
     },
     "execution_count": 5,
     "metadata": {},
     "output_type": "execute_result"
    }
   ],
   "source": [
    "res = []\n",
    "for g in validation_graph:\n",
    "    env = MVC_environement(g)\n",
    "    C = approximate_algo(env)\n",
    "    res.append(len(C))\n",
    "sum(res)/len(res)"
   ]
  },
  {
   "cell_type": "code",
   "execution_count": 6,
   "metadata": {},
   "outputs": [],
   "source": [
    "def validation(dqn , validation_graph):\n",
    "    objective_vals = []\n",
    "    for g in validation_graph:\n",
    "        env = MVC_environement(g)\n",
    "        Xv , graph = env.reset_env()\n",
    "        graph = torch.unsqueeze(graph,  0)\n",
    "        Xv = Xv.clone()\n",
    "        #Xv = Xv.cuda()\n",
    "        #graph = graph.cuda()\n",
    "        done = False\n",
    "        non_selected = list(np.arange(env.num_nodes))\n",
    "        selected = []\n",
    "        while done == False:\n",
    "            #Xv = Xv.cuda()\n",
    "            val = dqn(graph , Xv)[0]\n",
    "            val[selected] = -999999\n",
    "            action = int(torch.argmax(val).item())\n",
    "            Xv_next , reward , done = env.take_action(action)\n",
    "            Xv_next = Xv_next.clone()\n",
    "            non_selected.remove(action)\n",
    "            selected.append(action)\n",
    "            Xv = Xv_next\n",
    "        objective_vals.append(len(selected))\n",
    "    return sum(objective_vals)/len(objective_vals)"
   ]
  },
  {
   "cell_type": "code",
   "execution_count": 7,
   "metadata": {},
   "outputs": [
    {
     "data": {
      "application/vnd.jupyter.widget-view+json": {
       "model_id": "20de1df29752437fa39823b3bc0468f0",
       "version_major": 2,
       "version_minor": 0
      },
      "text/plain": [
       "HBox(children=(IntProgress(value=0, max=1000), HTML(value='')))"
      ]
     },
     "metadata": {},
     "output_type": "display_data"
    },
    {
     "ename": "KeyboardInterrupt",
     "evalue": "",
     "output_type": "error",
     "traceback": [
      "\u001b[0;31m---------------------------------------------------------------------------\u001b[0m",
      "\u001b[0;31mKeyboardInterrupt\u001b[0m                         Traceback (most recent call last)",
      "\u001b[0;32m<ipython-input-7-277bff43b352>\u001b[0m in \u001b[0;36m<module>\u001b[0;34m\u001b[0m\n\u001b[1;32m     81\u001b[0m             \u001b[0mloss\u001b[0m \u001b[0;34m=\u001b[0m \u001b[0mloss_func\u001b[0m\u001b[0;34m(\u001b[0m\u001b[0mpred_q\u001b[0m \u001b[0;34m,\u001b[0m \u001b[0mexpected_q\u001b[0m\u001b[0;34m)\u001b[0m\u001b[0;34m\u001b[0m\u001b[0;34m\u001b[0m\u001b[0m\n\u001b[1;32m     82\u001b[0m             \u001b[0moptimizer\u001b[0m\u001b[0;34m.\u001b[0m\u001b[0mzero_grad\u001b[0m\u001b[0;34m(\u001b[0m\u001b[0;34m)\u001b[0m\u001b[0;34m\u001b[0m\u001b[0;34m\u001b[0m\u001b[0m\n\u001b[0;32m---> 83\u001b[0;31m             \u001b[0mloss\u001b[0m\u001b[0;34m.\u001b[0m\u001b[0mbackward\u001b[0m\u001b[0;34m(\u001b[0m\u001b[0;34m)\u001b[0m\u001b[0;34m\u001b[0m\u001b[0;34m\u001b[0m\u001b[0m\n\u001b[0m\u001b[1;32m     84\u001b[0m             \u001b[0moptimizer\u001b[0m\u001b[0;34m.\u001b[0m\u001b[0mstep\u001b[0m\u001b[0;34m(\u001b[0m\u001b[0;34m)\u001b[0m\u001b[0;34m\u001b[0m\u001b[0;34m\u001b[0m\u001b[0m\n\u001b[1;32m     85\u001b[0m     \u001b[0;32mif\u001b[0m \u001b[0me\u001b[0m \u001b[0;34m>\u001b[0m \u001b[0;36m0\u001b[0m \u001b[0;32mand\u001b[0m \u001b[0me\u001b[0m \u001b[0;34m%\u001b[0m \u001b[0;36m15\u001b[0m \u001b[0;34m==\u001b[0m \u001b[0;36m0\u001b[0m\u001b[0;34m:\u001b[0m\u001b[0;34m\u001b[0m\u001b[0;34m\u001b[0m\u001b[0m\n",
      "\u001b[0;32m~/opt/anaconda3/lib/python3.7/site-packages/torch/tensor.py\u001b[0m in \u001b[0;36mbackward\u001b[0;34m(self, gradient, retain_graph, create_graph)\u001b[0m\n\u001b[1;32m    193\u001b[0m                 \u001b[0mproducts\u001b[0m\u001b[0;34m.\u001b[0m \u001b[0mDefaults\u001b[0m \u001b[0mto\u001b[0m\u001b[0;31m \u001b[0m\u001b[0;31m`\u001b[0m\u001b[0;31m`\u001b[0m\u001b[0;32mFalse\u001b[0m\u001b[0;31m`\u001b[0m\u001b[0;31m`\u001b[0m\u001b[0;34m.\u001b[0m\u001b[0;34m\u001b[0m\u001b[0;34m\u001b[0m\u001b[0m\n\u001b[1;32m    194\u001b[0m         \"\"\"\n\u001b[0;32m--> 195\u001b[0;31m         \u001b[0mtorch\u001b[0m\u001b[0;34m.\u001b[0m\u001b[0mautograd\u001b[0m\u001b[0;34m.\u001b[0m\u001b[0mbackward\u001b[0m\u001b[0;34m(\u001b[0m\u001b[0mself\u001b[0m\u001b[0;34m,\u001b[0m \u001b[0mgradient\u001b[0m\u001b[0;34m,\u001b[0m \u001b[0mretain_graph\u001b[0m\u001b[0;34m,\u001b[0m \u001b[0mcreate_graph\u001b[0m\u001b[0;34m)\u001b[0m\u001b[0;34m\u001b[0m\u001b[0;34m\u001b[0m\u001b[0m\n\u001b[0m\u001b[1;32m    196\u001b[0m \u001b[0;34m\u001b[0m\u001b[0m\n\u001b[1;32m    197\u001b[0m     \u001b[0;32mdef\u001b[0m \u001b[0mregister_hook\u001b[0m\u001b[0;34m(\u001b[0m\u001b[0mself\u001b[0m\u001b[0;34m,\u001b[0m \u001b[0mhook\u001b[0m\u001b[0;34m)\u001b[0m\u001b[0;34m:\u001b[0m\u001b[0;34m\u001b[0m\u001b[0;34m\u001b[0m\u001b[0m\n",
      "\u001b[0;32m~/opt/anaconda3/lib/python3.7/site-packages/torch/autograd/__init__.py\u001b[0m in \u001b[0;36mbackward\u001b[0;34m(tensors, grad_tensors, retain_graph, create_graph, grad_variables)\u001b[0m\n\u001b[1;32m     97\u001b[0m     Variable._execution_engine.run_backward(\n\u001b[1;32m     98\u001b[0m         \u001b[0mtensors\u001b[0m\u001b[0;34m,\u001b[0m \u001b[0mgrad_tensors\u001b[0m\u001b[0;34m,\u001b[0m \u001b[0mretain_graph\u001b[0m\u001b[0;34m,\u001b[0m \u001b[0mcreate_graph\u001b[0m\u001b[0;34m,\u001b[0m\u001b[0;34m\u001b[0m\u001b[0;34m\u001b[0m\u001b[0m\n\u001b[0;32m---> 99\u001b[0;31m         allow_unreachable=True)  # allow_unreachable flag\n\u001b[0m\u001b[1;32m    100\u001b[0m \u001b[0;34m\u001b[0m\u001b[0m\n\u001b[1;32m    101\u001b[0m \u001b[0;34m\u001b[0m\u001b[0m\n",
      "\u001b[0;31mKeyboardInterrupt\u001b[0m: "
     ]
    }
   ],
   "source": [
    "MAX_EPISODE = 1000\n",
    "dqn = embedding_network(emb_dim=64 , T = 5).double()\n",
    "target_net = embedding_network(emb_dim=64 , T = 5).double()\n",
    "target_net.load_state_dict(dqn.state_dict())\n",
    "EPS_START = 1.00\n",
    "EPS_END = 0.05\n",
    "EPS_DECAY = 20000\n",
    "steps_done = 0\n",
    "loss_func = torch.nn.MSELoss()\n",
    "#USE_CUDA = torch.cuda.is_available()\n",
    "N_STEP = 5\n",
    "reward_history = []\n",
    "batch_size = 128\n",
    "buffer = replay_buffer(10000)\n",
    "optimizer = torch.optim.Adam(dqn.parameters(),lr=0.00002)\n",
    "validation_result = []\n",
    "ba_result = []\n",
    "\n",
    "for e in tqdm(range(MAX_EPISODE)):\n",
    "\n",
    "    #p = np.random.uniform(0.05,0.3)\n",
    "    p = 0.15\n",
    "    g = nx.erdos_renyi_graph(n = graph_size , p = p)\n",
    "    #g = validation_graph[e%len(validation_graph)]\n",
    "    env = MVC_environement(g)\n",
    "    Xv , graph = env.reset_env()\n",
    "    Xv = Xv.clone()\n",
    "    graph = torch.unsqueeze(graph,  0)\n",
    "    done = False\n",
    "    non_selected = list(np.arange(env.num_nodes))\n",
    "    selected = []\n",
    "    N = 0\n",
    "    reward_list = []\n",
    "    while done == False:\n",
    "        eps_threshold = EPS_END + (EPS_START - EPS_END) * \\\n",
    "        math.exp(-1. * steps_done / EPS_DECAY)\n",
    "        \n",
    "        \n",
    "        if np.random.uniform() > eps_threshold:\n",
    "            val = dqn(graph , Xv)[0]\n",
    "            val[selected] = -999999\n",
    "            action = int(torch.argmax(val).item())\n",
    "        else:\n",
    "            action = int(np.random.choice(non_selected))\n",
    "            \n",
    "        Xv_next , reward , done = env.take_action(action)\n",
    "        Xv_next = Xv_next.clone()\n",
    "        non_selected.remove(action)\n",
    "        selected.append(action)\n",
    "        N += 1 \n",
    "        reward_list.append(reward)\n",
    "        if N >= N_STEP:\n",
    "            reward_n = sum(reward_list)\n",
    "            ex = experience(graph , Xv , torch.tensor([action]) , torch.tensor([reward_n]) , Xv_next , done)\n",
    "            buffer.push(ex)\n",
    "            reward_list.pop(0)\n",
    "        Xv = Xv_next\n",
    "        \n",
    "        steps_done += 1\n",
    "        \n",
    "        if buffer.size >= batch_size:\n",
    "            batch = buffer.sample(batch_size)\n",
    "            batch = experience(*zip(*batch))\n",
    "            batch_graph = torch.cat(batch.graph)\n",
    "            batch_state = torch.cat(batch.Xv)\n",
    "            batch_action = torch.cat(batch.action)\n",
    "            batch_reward = torch.cat(batch.reward).double()\n",
    "            batch_next_state = torch.cat(batch.next_Xv)\n",
    "            non_final_mask = torch.tensor(tuple(map(lambda s : s is not True, batch.is_done)),dtype = torch.uint8)\n",
    "            \n",
    "            non_final_graph = batch_graph[non_final_mask]\n",
    "            non_final_next_state = batch_next_state[non_final_mask]\n",
    "            \n",
    "            next_state_value = torch.zeros(batch_size).detach().double()\n",
    "                \n",
    "            pred_q = dqn(batch_graph , batch_state ).gather(1 , batch_action.view(-1,1)).view(-1)\n",
    "            \n",
    "            \n",
    "            next_state_value[non_final_mask] = target_net(non_final_graph , non_final_next_state).max(1)[0].detach()\n",
    "            expected_q = next_state_value + batch_reward\n",
    "            loss = loss_func(pred_q , expected_q)\n",
    "            optimizer.zero_grad()\n",
    "            loss.backward()\n",
    "            optimizer.step()\n",
    "    if e > 0 and e % 15 == 0:\n",
    "        target_net.load_state_dict(dqn.state_dict())\n",
    "    if e % 50 == 0:\n",
    "        v = validation(dqn , validation_graph)\n",
    "        validation_result.append(v)"
   ]
  },
  {
   "cell_type": "code",
   "execution_count": 8,
   "metadata": {},
   "outputs": [
    {
     "data": {
      "text/plain": [
       "tensor([0, 0, 0, 0, 0, 0, 0, 0, 0, 1, 0, 0, 0, 0, 0, 0, 0, 0, 0, 0, 0, 1, 0, 0,\n",
       "        0, 0, 0, 0, 0, 1, 0, 0, 0, 0, 0, 0, 0, 0, 0, 0, 0, 0, 1, 0, 0, 1, 0, 0,\n",
       "        0, 0, 0, 0, 0, 0, 0, 0, 0, 1, 0, 0, 0, 1, 1, 0, 0, 0, 0, 0, 1, 0, 0, 0,\n",
       "        0, 0, 1, 0, 0, 0, 0, 0, 0, 0, 0, 0, 0, 0, 0, 0, 0, 0, 0, 0, 0, 0, 0, 0,\n",
       "        0, 0, 0, 0, 0, 0, 0, 0, 0, 0, 0, 0, 1, 0, 0, 0, 0, 0, 0, 0, 1, 0, 0, 0,\n",
       "        0, 0, 0, 0, 0, 0, 0, 0], dtype=torch.uint8)"
      ]
     },
     "execution_count": 8,
     "metadata": {},
     "output_type": "execute_result"
    }
   ],
   "source": [
    "torch.tensor(tuple(map(lambda s : s is not False, batch.is_done)),dtype = torch.uint8)"
   ]
  },
  {
   "cell_type": "code",
   "execution_count": 9,
   "metadata": {},
   "outputs": [],
   "source": [
    "#torch.save(dqn.state_dict(), 'trained_model/MVC_ER_n{}.pkl'.format(graph_size))\n",
    "#pickle_save(validation_result , 'validation_result/MVC_ER_n{}_ER.pkl'.format(graph_size))\n",
    "#pickle_save(ba_result , 'validation_result/MVC_ER_n{}_BA.pkl'.format(graph_size))"
   ]
  },
  {
   "cell_type": "code",
   "execution_count": 10,
   "metadata": {},
   "outputs": [
    {
     "data": {
      "text/plain": [
       "Text(0.5, 1.0, 'Train on ER, test on ER')"
      ]
     },
     "execution_count": 10,
     "metadata": {},
     "output_type": "execute_result"
    }
   ],
   "source": [
    "import matplotlib.pyplot as plt\n",
    "plt.plot(validation_result)\n",
    "plt.title('Train on ER, test on ER')"
   ]
  },
  {
   "cell_type": "code",
   "execution_count": 11,
   "metadata": {},
   "outputs": [
    {
     "data": {
      "text/plain": [
       "[<matplotlib.lines.Line2D at 0xa28905f10>]"
      ]
     },
     "execution_count": 11,
     "metadata": {},
     "output_type": "execute_result"
    },
    {
     "data": {
      "image/png": "[encoded data removed]",
      "text/plain": [
       "<Figure size 432x288 with 1 Axes>"
      ]
     },
     "metadata": {
      "needs_background": "light"
     },
     "output_type": "display_data"
    }
   ],
   "source": [
    "plt.plot(validation_result)"
   ]
  },
  {
   "cell_type": "code",
   "execution_count": null,
   "metadata": {},
   "outputs": [],
   "source": []
  }
 ],
 "metadata": {
  "kernelspec": {
   "display_name": "Python 3",
   "language": "python",
   "name": "python3"
  },
  "language_info": {
   "codemirror_mode": {
    "name": "ipython",
    "version": 3
   },
   "file_extension": ".py",
   "mimetype": "text/x-python",
   "name": "python",
   "nbconvert_exporter": "python",
   "pygments_lexer": "ipython3",
   "version": "3.7.4"
  }
 },
 "nbformat": 4,
 "nbformat_minor": 2
}
